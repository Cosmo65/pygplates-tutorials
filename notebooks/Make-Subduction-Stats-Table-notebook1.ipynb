{
 "cells": [
  {
   "cell_type": "markdown",
   "metadata": {},
   "source": [
    "## <font color=orange>Extracting Subduction Zone Kinematics & Parameters (pyGPlates method)</font>\n",
    "\n",
    "#### <font color=blue>Notebook 1</font>\n",
    "\n",
    "**This notebook can be used to extract subduction zone kinematics and parameters from a chosen plate model. These include:**\n",
    "- overriding and subducting plate ID's\n",
    "- arc length\n",
    "- lat and lon\n",
    "- time\n",
    "- convergence rate and obliquity\n",
    "- migration rate and obliquity \n",
    "- age of the subducting seafloor\n",
    "- distance to nearest continent\n",
    "\n",
    "**It illustrates usage of the updated subduction zone kinematics pygplates method, using the Müller et al AREPS model:**\n",
    "\n",
    "- implemented to work directly on the plate model gpml files (whereas before, you had to export the resolved topologies at 1Myr increments first)\n",
    "- this notebook also interpolates the age of the subducting plate age from age grids if provided\n",
    "- within the notebook data are stored in pandas dataframes, and there is an illustration of how to export them to both csv or hdf5 files\n",
    "\n",
    "This was the first in a series of notebooks used to generate the data presened in the following manuscript:\n",
    "\n",
    "*'Subduction history reveals Cretaceous slab superflux as a possible cause for the mid-Cretaceous plume pulse and superswell events'* by Madison East, R Dietmar Müller, Simon Williams, Sabin Zahirovic and Christian Heine\n",
    "\n",
    "\n",
    "(Notebook written by Simon Williams with minor modifications made by Madison East)\n",
    "\n",
    "**<font color=red>The age grids are required to run this notebook.</font>**\n",
    "\n",
    "The grids can be found at https://www.earthbyte.org/webdav/ftp/Data_Collections/Muller_etal_2016_AREPS/Muller_etal_2016_AREPS_Agegrids/Muller_etal_2016_AREPS_Agegrids_v1.11.zip. Download and unzip the zip file into the \"data\" folder before running this notebook.\n",
    "\n",
    "#### Reference:\n",
    "East, M., Müller, R. D., Williams, S., Zahirovic, S. and Heine, C., Subduction history reveals Cretaceous slab superflux as a possible cause for the mid-Cretaceous plume pulse and superswell events, Gondwana Research, in review.\n"
   ]
  },
  {
   "cell_type": "code",
   "execution_count": 9,
   "metadata": {},
   "outputs": [],
   "source": [
    "# This cell loads in the required files for the chosen plate model and defines some required functions #\n",
    "#########################################################################################################\n",
    "\n",
    "import pygplates\n",
    "import sys\n",
    "sys.path.append('../libs/')\n",
    "import subduction_convergence as sc #(required code stored in a .py file)\n",
    "import numpy as np\n",
    "import os\n",
    "import matplotlib.pyplot as plt\n",
    "from matplotlib import gridspec\n",
    "from scipy.io import netcdf_file as netcdf\n",
    "import scipy.interpolate as spi\n",
    "from mpl_toolkits.basemap import Basemap\n",
    "import inpaint\n",
    "import pandas as pd\n",
    "\n",
    "%matplotlib inline\n",
    "\n",
    "###################################################################\n",
    "# Define Input files for Muller 2016 AREPS model (or chosen model)\n",
    "###################################################################\n",
    "# Specify the name of the GPlates rotation file\n",
    "rotation_filename = 'Data/Global_EarthByte_230-0Ma_GK07_AREPS.rot'\n",
    "\n",
    "# input topologies to be used with the subduction_convergence script\n",
    "input_topology_filename = ['Data/Global_EarthByte_230-0Ma_GK07_AREPS_PlateBoundaries.gpmlz',\\\n",
    "             'Data/Global_EarthByte_230-0Ma_GK07_AREPS_Topology_BuildingBlocks.gpmlz']\n",
    "\n",
    "# The list array here specifies the age grid files, \n",
    "# assuming that the age grids are all together in a folder, with common filenames that\n",
    "# differ only in the integer number somewhere in the filename that corresponds to the age in Ma\n",
    "# The two parts of the list specify the parts of the filename before and after the number\n",
    "# For example:\n",
    "# ['/path_to_age_grids/age_grids_at_time_','_Ma.grd]\n",
    "#agegrid_filename = ['../AgeGrids_most_recent/agegrid_final_nomask_','.grd']\n",
    "agegrid_filename = \\\n",
    "    ['Data/Muller_etal_2016_AREPS_Agegrids_v1.11/netCDF_0-230Ma/EarthByte_AREPS_v1.11_Muller_etal_2016_AgeGrid-',\n",
    "     '.nc']\n",
    "\n",
    "# Static polygons to determine whether subduction segment is adjacent to continent or not\n",
    "static_polygon_filename = 'Data/StaticPolygons/Global_EarthByte_GPlates_PresentDay_StaticPlatePolygons_2015_v1.shp'\n",
    "static_polygon_features = pygplates.FeatureCollection(static_polygon_filename)\n",
    "continental_polygon_features = []\n",
    "for feature in static_polygon_features:\n",
    "    if feature.get_feature_type() == pygplates.FeatureType.gpml_closed_continental_boundary:\n",
    "        continental_polygon_features.append(feature)\n",
    "\n",
    "\n",
    "######################################################\n",
    "rotation_model = pygplates.RotationModel(rotation_filename)\n",
    "\n",
    "# specify time range and resolution for plots\n",
    "threshold_sampling_distance_radians = np.radians(0.5)\n",
    "\n",
    "# Define the time snapshots at which to get the subduction zone properties\n",
    "min_time = 0.\n",
    "max_time = 230.\n",
    "time_step = 1.\n",
    "\n",
    "# Set the delta time for velocity calculations\n",
    "velocity_delta_time = 1.\n",
    "\n",
    "# Typically the achor plate id should be 0\n",
    "anchor_plate_id = 0\n",
    "\n",
    "\n",
    "#################################################\n",
    "# Included functions\n",
    "#################################################\n",
    "def sample_grid_using_scipy(x,y,grdfile):\n",
    "    \n",
    "    data=netcdf(grdfile,'r')\n",
    "    try:\n",
    "        lon = np.copy(data.variables['x'][:])\n",
    "        lat = np.copy(data.variables['y'][:])\n",
    "    except:\n",
    "        lon = np.copy(data.variables['lon'][:])\n",
    "        lat = np.copy(data.variables['lat'][:])\n",
    "    \n",
    "    Zg = data.variables['z'][:]\n",
    "    \n",
    "    test = inpaint.fill_ndimage(Zg)\n",
    "    \n",
    "    lut=spi.RectBivariateSpline(lon,lat,test.T)\n",
    "    result = []\n",
    "    for xi,yi in zip(x,y):\n",
    "        result.append(lut(xi, yi)[0][0])\n",
    "            \n",
    "    return result\n",
    "\n",
    "\n",
    "def get_nearest_continental_polygon(subduction_data,continental_polygons):\n",
    "\n",
    "    nearest_continent_plate_id = []\n",
    "    distance_to_nearest_continent = []\n",
    "    \n",
    "    for index,row in subduction_data.iterrows():\n",
    "        \n",
    "        min_distance_to_all_features = np.radians(180)\n",
    "        nearest_continent = None        \n",
    "        \n",
    "        seed_point = pygplates.PointOnSphere(row['lat'], row['lon'])\n",
    "        \n",
    "        for polygon in continental_polygons:\n",
    "            if polygon is not None:\n",
    "                min_distance_to_feature = pygplates.GeometryOnSphere.distance(\n",
    "                    polygon.get_reconstructed_geometry(),\n",
    "                    seed_point,\n",
    "                    min_distance_to_all_features,\n",
    "                    geometry1_is_solid=True)\n",
    "\n",
    "                # If the current geometry is nearer than all previous geometries then\n",
    "                # its associated feature is the nearest feature so far.\n",
    "                if min_distance_to_feature is not None:\n",
    "                    min_distance_to_all_features = min_distance_to_feature\n",
    "                    nearest_continent = polygon.get_feature().get_reconstruction_plate_id()\n",
    "                    \n",
    "        nearest_continent_plate_id.append(nearest_continent)\n",
    "        distance_to_nearest_continent.append(min_distance_to_all_features*pygplates.Earth.mean_radius_in_kms)\n",
    "\n",
    "    return nearest_continent_plate_id,distance_to_nearest_continent\n"
   ]
  },
  {
   "cell_type": "markdown",
   "metadata": {},
   "source": [
    "### Number crunching section"
   ]
  },
  {
   "cell_type": "code",
   "execution_count": 10,
   "metadata": {
    "scrolled": true
   },
   "outputs": [
    {
     "name": "stderr",
     "output_type": "stream",
     "text": [
      "Unable to find the overriding and subducting plates of the subducting shared sub-segment \"Aleutian and Bering Sea Masking Polygon\" at 0.0Ma\n",
      "    there are not exactly 2 topologies sharing the sub-segment.\n",
      "Unable to find the overriding and subducting plates of the subducting shared sub-segment \"Hikurangi& Kermadec TR\" at 0.0Ma\n",
      "    there are not exactly 2 topologies sharing the sub-segment.\n",
      "Unable to find the overriding and subducting plates of the subducting shared sub-segment \"Kalimantan subduction boundary (inferred)\" at 0.0Ma\n",
      "    there are not exactly 2 topologies sharing the sub-segment.\n",
      "Unable to find the overriding and subducting plates of the subducting shared sub-segment \"Tonga-Kermadec-MG\" at 0.0Ma\n",
      "    there are not exactly 2 topologies sharing the sub-segment.\n",
      "Unable to find the overriding and subducting plates of the subducting shared sub-segment \"Aleutian and Bering Sea Masking Polygon\" at 0.0Ma\n",
      "    there are not exactly 2 topologies sharing the sub-segment.\n",
      "Unable to find the overriding and subducting plates of the subducting shared sub-segment \"Mussau Trench\" at 0.0Ma\n",
      "    there are not exactly 2 topologies sharing the sub-segment.\n",
      "Unable to find the overriding and subducting plates of the subducting shared sub-segment \"\" at 0.0Ma\n",
      "    there are not exactly 2 topologies sharing the sub-segment.\n",
      "Unable to find the overriding and subducting plates of the subducting shared sub-segment \"\" at 0.0Ma\n",
      "    there are not exactly 2 topologies sharing the sub-segment.\n",
      "Unable to find the overriding plate of the subducting shared sub-segment \"NAM subduction COB\"\n",
      "    subduction zone feature is missing subduction polarity property or it is set to \"Unknown\".\n",
      "Unable to find the overriding plate of the subducting shared sub-segment \"NAM subduction COB\"\n",
      "    subduction zone feature is missing subduction polarity property or it is set to \"Unknown\".\n",
      "Unable to find the overriding and subducting plates of the subducting shared sub-segment \"Sandwich Trench\" at 0.0Ma\n",
      "    there are not exactly 2 topologies sharing the sub-segment.\n",
      "Unable to find the overriding plate of the subducting shared sub-segment \"So Melanesian-MG-5-20-07\"\n",
      "    subduction zone feature is missing subduction polarity property or it is set to \"Unknown\".\n",
      "Unable to find the overriding plate of the subducting shared sub-segment \"So Melanesian-MG-5-20-07\"\n",
      "    subduction zone feature is missing subduction polarity property or it is set to \"Unknown\".\n",
      "Unable to find the overriding and subducting plates of the subducting shared sub-segment \"Mussau Trench\" at 0.0Ma\n",
      "    there are not exactly 2 topologies sharing the sub-segment.\n"
     ]
    },
    {
     "name": "stdout",
     "output_type": "stream",
     "text": [
      "working on file Data/Muller_etal_2016_AREPS_Agegrids_v1.11/netCDF_0-230Ma/EarthByte_AREPS_v1.11_Muller_etal_2016_AgeGrid-0.nc\n"
     ]
    },
    {
     "name": "stderr",
     "output_type": "stream",
     "text": [
      "/usr/local/lib/python2.7/dist-packages/scipy/io/netcdf.py:317: RuntimeWarning: Cannot close a netcdf_file opened with mmap=True, when netcdf_variables or arrays referring to its data still exist. All data arrays obtained from such files refer directly to data on disk, and must be copied before the file can be cleanly closed. (See netcdf_file docstring for more information on mmap.)\n",
      "  ), category=RuntimeWarning)\n",
      "/usr/local/lib/python2.7/dist-packages/pandas/core/frame.py:6692: FutureWarning: Sorting because non-concatenation axis is not aligned. A future version\n",
      "of pandas will change to not sort by default.\n",
      "\n",
      "To accept the future behavior, pass 'sort=False'.\n",
      "\n",
      "To retain the current behavior and silence the warning, pass 'sort=True'.\n",
      "\n",
      "  sort=sort)\n",
      "Unable to find the overriding and subducting plates of the subducting shared sub-segment \"Aleutian and Bering Sea Masking Polygon\" at 1.0Ma\n",
      "    there are not exactly 2 topologies sharing the sub-segment.\n",
      "Unable to find the overriding and subducting plates of the subducting shared sub-segment \"Aleutian and Bering Sea Masking Polygon\" at 1.0Ma\n",
      "    there are not exactly 2 topologies sharing the sub-segment.\n",
      "Unable to find the overriding and subducting plates of the subducting shared sub-segment \"Izu Bonin Trench\" at 1.0Ma\n",
      "    there are not exactly 2 topologies sharing the sub-segment.\n",
      "Unable to find the overriding and subducting plates of the subducting shared sub-segment \"Kalimantan subduction boundary (inferred)\" at 1.0Ma\n",
      "    there are not exactly 2 topologies sharing the sub-segment.\n",
      "Unable to find the overriding and subducting plates of the subducting shared sub-segment \"Kamchatka SZ from EarthByte COB at 0Ma -- MG 4/20/07\" at 1.0Ma\n",
      "    there are not exactly 2 topologies sharing the sub-segment.\n",
      "Unable to find the overriding and subducting plates of the subducting shared sub-segment \"Marianas Trench-NUVEL\" at 1.0Ma\n",
      "    there are not exactly 2 topologies sharing the sub-segment.\n",
      "Unable to find the overriding and subducting plates of the subducting shared sub-segment \"Aleutian and Bering Sea Masking Polygon\" at 1.0Ma\n",
      "    there are not exactly 2 topologies sharing the sub-segment.\n",
      "Unable to find the overriding plate of the subducting shared sub-segment \"NAM subduction COB\"\n",
      "    subduction zone feature is missing subduction polarity property or it is set to \"Unknown\".\n",
      "Unable to find the overriding and subducting plates of the subducting shared sub-segment \"NAM subduction COB\" at 1.0Ma\n",
      "    there are not exactly 2 topologies sharing the sub-segment.\n",
      "Unable to find the overriding plate of the subducting shared sub-segment \"So Melanesian-MG-5-20-07\"\n",
      "    subduction zone feature is missing subduction polarity property or it is set to \"Unknown\".\n",
      "Unable to find the overriding plate of the subducting shared sub-segment \"So Melanesian-MG-5-20-07\"\n",
      "    subduction zone feature is missing subduction polarity property or it is set to \"Unknown\".\n"
     ]
    },
    {
     "name": "stdout",
     "output_type": "stream",
     "text": [
      "working on file Data/Muller_etal_2016_AREPS_Agegrids_v1.11/netCDF_0-230Ma/EarthByte_AREPS_v1.11_Muller_etal_2016_AgeGrid-1.nc\n"
     ]
    },
    {
     "name": "stderr",
     "output_type": "stream",
     "text": [
      "Unable to find the overriding and subducting plates of the subducting shared sub-segment \"Aleutian and Bering Sea Masking Polygon\" at 2.0Ma\n",
      "    there are not exactly 2 topologies sharing the sub-segment.\n",
      "Unable to find the overriding and subducting plates of the subducting shared sub-segment \"Aleutian and Bering Sea Masking Polygon\" at 2.0Ma\n",
      "    there are not exactly 2 topologies sharing the sub-segment.\n",
      "Unable to find the overriding and subducting plates of the subducting shared sub-segment \"Izu Bonin Trench\" at 2.0Ma\n",
      "    there are not exactly 2 topologies sharing the sub-segment.\n",
      "Unable to find the overriding and subducting plates of the subducting shared sub-segment \"Kalimantan subduction boundary (inferred)\" at 2.0Ma\n",
      "    there are not exactly 2 topologies sharing the sub-segment.\n",
      "Unable to find the overriding and subducting plates of the subducting shared sub-segment \"Kamchatka SZ from EarthByte COB at 0Ma -- MG 4/20/07\" at 2.0Ma\n",
      "    there are not exactly 2 topologies sharing the sub-segment.\n",
      "Unable to find the overriding and subducting plates of the subducting shared sub-segment \"Marianas Trench-NUVEL\" at 2.0Ma\n",
      "    there are not exactly 2 topologies sharing the sub-segment.\n",
      "Unable to find the overriding and subducting plates of the subducting shared sub-segment \"Aleutian and Bering Sea Masking Polygon\" at 2.0Ma\n",
      "    there are not exactly 2 topologies sharing the sub-segment.\n",
      "Unable to find the overriding plate of the subducting shared sub-segment \"Woodlark MOR\"\n",
      "    subduction zone feature is missing subduction polarity property or it is set to \"Unknown\".\n",
      "Unable to find the overriding plate of the subducting shared sub-segment \"NAM subduction COB\"\n",
      "    subduction zone feature is missing subduction polarity property or it is set to \"Unknown\".\n"
     ]
    },
    {
     "name": "stdout",
     "output_type": "stream",
     "text": [
      "working on file Data/Muller_etal_2016_AREPS_Agegrids_v1.11/netCDF_0-230Ma/EarthByte_AREPS_v1.11_Muller_etal_2016_AgeGrid-2.nc\n"
     ]
    },
    {
     "name": "stderr",
     "output_type": "stream",
     "text": [
      "Unable to find the overriding plate of the subducting shared sub-segment \"Woodlark MOR\"\n",
      "    subduction zone feature is missing subduction polarity property or it is set to \"Unknown\".\n",
      "Unable to find the overriding plate of the subducting shared sub-segment \"NAM subduction COB\"\n",
      "    subduction zone feature is missing subduction polarity property or it is set to \"Unknown\".\n",
      "Unable to find the overriding and subducting plates of the subducting shared sub-segment \"Mussau Trench\" at 3.0Ma\n",
      "    there are not exactly 2 topologies sharing the sub-segment.\n",
      "Unable to find the overriding and subducting plates of the subducting shared sub-segment \"Aleutian and Bering Sea Masking Polygon\" at 3.0Ma\n",
      "    there are not exactly 2 topologies sharing the sub-segment.\n",
      "Unable to find the overriding and subducting plates of the subducting shared sub-segment \"Aleutian and Bering Sea Masking Polygon\" at 3.0Ma\n",
      "    there are not exactly 2 topologies sharing the sub-segment.\n",
      "Unable to find the overriding and subducting plates of the subducting shared sub-segment \"COCOS - NORTH AMERICA TRENCH 1\" at 3.0Ma\n",
      "    there are not exactly 2 topologies sharing the sub-segment.\n",
      "Unable to find the overriding and subducting plates of the subducting shared sub-segment \"Kalimantan subduction boundary (inferred)\" at 3.0Ma\n",
      "    there are not exactly 2 topologies sharing the sub-segment.\n",
      "Unable to find the overriding and subducting plates of the subducting shared sub-segment \"Kamchatka SZ from EarthByte COB at 0Ma -- MG 4/20/07\" at 3.0Ma\n",
      "    there are not exactly 2 topologies sharing the sub-segment.\n",
      "Unable to find the overriding and subducting plates of the subducting shared sub-segment \"Aleutian and Bering Sea Masking Polygon\" at 3.0Ma\n",
      "    there are not exactly 2 topologies sharing the sub-segment.\n",
      "Unable to find the overriding and subducting plates of the subducting shared sub-segment \"Mussau Trench\" at 3.0Ma\n",
      "    there are not exactly 2 topologies sharing the sub-segment.\n",
      "Unable to find the overriding and subducting plates of the subducting shared sub-segment \"Mussau Trench\" at 3.0Ma\n",
      "    there are not exactly 2 topologies sharing the sub-segment.\n"
     ]
    },
    {
     "name": "stdout",
     "output_type": "stream",
     "text": [
      "working on file Data/Muller_etal_2016_AREPS_Agegrids_v1.11/netCDF_0-230Ma/EarthByte_AREPS_v1.11_Muller_etal_2016_AgeGrid-3.nc\n"
     ]
    },
    {
     "name": "stderr",
     "output_type": "stream",
     "text": [
      "Unable to find the overriding and subducting plates of the subducting shared sub-segment \"Aleutian and Bering Sea Masking Polygon\" at 4.0Ma\n",
      "    there are not exactly 2 topologies sharing the sub-segment.\n",
      "Unable to find the overriding and subducting plates of the subducting shared sub-segment \"Aleutian and Bering Sea Masking Polygon\" at 4.0Ma\n",
      "    there are not exactly 2 topologies sharing the sub-segment.\n",
      "Unable to find the overriding and subducting plates of the subducting shared sub-segment \"Kalimantan subduction boundary (inferred)\" at 4.0Ma\n",
      "    there are not exactly 2 topologies sharing the sub-segment.\n",
      "Unable to find the overriding and subducting plates of the subducting shared sub-segment \"Kamchatka SZ from EarthByte COB at 0Ma -- MG 4/20/07\" at 4.0Ma\n",
      "    there are not exactly 2 topologies sharing the sub-segment.\n",
      "Unable to find the overriding and subducting plates of the subducting shared sub-segment \"Maramuni Trench\" at 4.0Ma\n",
      "    there are not exactly 2 topologies sharing the sub-segment.\n",
      "Unable to find the overriding and subducting plates of the subducting shared sub-segment \"Maramuni Trench\" at 4.0Ma\n",
      "    there are not exactly 2 topologies sharing the sub-segment.\n",
      "Unable to find the overriding and subducting plates of the subducting shared sub-segment \"NewBritainTrench DiCaprio\" at 4.0Ma\n",
      "    there are not exactly 2 topologies sharing the sub-segment.\n",
      "Unable to find the overriding and subducting plates of the subducting shared sub-segment \"NewBritainTrench DiCaprio\" at 4.0Ma\n",
      "    there are not exactly 2 topologies sharing the sub-segment.\n",
      "Unable to find the overriding and subducting plates of the subducting shared sub-segment \"NewBritainTrench DiCaprio\" at 4.0Ma\n",
      "    there are not exactly 2 topologies sharing the sub-segment.\n",
      "Unable to find the overriding and subducting plates of the subducting shared sub-segment \"SanCristobalTrench DiCaprio\" at 4.0Ma\n",
      "    there are not exactly 2 topologies sharing the sub-segment.\n",
      "Unable to find the overriding and subducting plates of the subducting shared sub-segment \"SanCristobalTrench DiCaprio\" at 4.0Ma\n",
      "    there are not exactly 2 topologies sharing the sub-segment.\n",
      "Unable to find the overriding and subducting plates of the subducting shared sub-segment \"Aleutian and Bering Sea Masking Polygon\" at 4.0Ma\n",
      "    there are not exactly 2 topologies sharing the sub-segment.\n",
      "Unable to find the overriding and subducting plates of the subducting shared sub-segment \"South Torricelli Subduction\" at 4.0Ma\n",
      "    there are not exactly 2 topologies sharing the sub-segment.\n",
      "Unable to find the overriding and subducting plates of the subducting shared sub-segment \"South Torricelli Subduction\" at 4.0Ma\n",
      "    there are not exactly 2 topologies sharing the sub-segment.\n",
      "Unable to find the overriding plate of the subducting shared sub-segment \"Woodlark MOR\"\n",
      "    subduction zone feature is missing subduction polarity property or it is set to \"Unknown\".\n",
      "Unable to find the overriding plate of the subducting shared sub-segment \"NAM subduction COB\"\n",
      "    subduction zone feature is missing subduction polarity property or it is set to \"Unknown\".\n",
      "Unable to find the overriding plate of the subducting shared sub-segment \"NAM subduction COB\"\n",
      "    subduction zone feature is missing subduction polarity property or it is set to \"Unknown\".\n"
     ]
    },
    {
     "name": "stdout",
     "output_type": "stream",
     "text": [
      "working on file Data/Muller_etal_2016_AREPS_Agegrids_v1.11/netCDF_0-230Ma/EarthByte_AREPS_v1.11_Muller_etal_2016_AgeGrid-4.nc\n"
     ]
    },
    {
     "name": "stderr",
     "output_type": "stream",
     "text": [
      "Unable to find the overriding and subducting plates of the subducting shared sub-segment \"Java SZ\" at 5.0Ma\n",
      "    there are not exactly 2 topologies sharing the sub-segment.\n",
      "Unable to find the overriding plate of the subducting shared sub-segment \"Woodlark MOR\"\n",
      "    subduction zone feature is missing subduction polarity property or it is set to \"Unknown\".\n",
      "Unable to find the overriding plate of the subducting shared sub-segment \"NAM subduction COB\"\n",
      "    subduction zone feature is missing subduction polarity property or it is set to \"Unknown\".\n",
      "Unable to find the overriding plate of the subducting shared sub-segment \"NAM subduction COB\"\n",
      "    subduction zone feature is missing subduction polarity property or it is set to \"Unknown\".\n",
      "Unable to find the overriding and subducting plates of the subducting shared sub-segment \"Aleutian and Bering Sea Masking Polygon\" at 5.0Ma\n",
      "    there are not exactly 2 topologies sharing the sub-segment.\n",
      "Unable to find the overriding and subducting plates of the subducting shared sub-segment \"Aleutian and Bering Sea Masking Polygon\" at 5.0Ma\n",
      "    there are not exactly 2 topologies sharing the sub-segment.\n",
      "Unable to find the overriding and subducting plates of the subducting shared sub-segment \"Indonesian bndy w AUS-mg\" at 5.0Ma\n",
      "    there are not exactly 2 topologies sharing the sub-segment.\n",
      "Unable to find the overriding and subducting plates of the subducting shared sub-segment \"Kalimantan subduction boundary (inferred)\" at 5.0Ma\n",
      "    there are not exactly 2 topologies sharing the sub-segment.\n",
      "Unable to find the overriding and subducting plates of the subducting shared sub-segment \"Kamchatka SZ from EarthByte COB at 0Ma -- MG 4/20/07\" at 5.0Ma\n",
      "    there are not exactly 2 topologies sharing the sub-segment.\n",
      "Unable to find the overriding and subducting plates of the subducting shared sub-segment \"Maramuni Trench\" at 5.0Ma\n",
      "    there are not exactly 2 topologies sharing the sub-segment.\n",
      "Unable to find the overriding and subducting plates of the subducting shared sub-segment \"NewBritainTrench DiCaprio\" at 5.0Ma\n",
      "    there are not exactly 2 topologies sharing the sub-segment.\n",
      "Unable to find the overriding and subducting plates of the subducting shared sub-segment \"NewBritian TR-MG-5-22-07\" at 5.0Ma\n",
      "    there are not exactly 2 topologies sharing the sub-segment.\n",
      "Unable to find the overriding and subducting plates of the subducting shared sub-segment \"SanCristobalTrench DiCaprio\" at 5.0Ma\n",
      "    there are not exactly 2 topologies sharing the sub-segment.\n",
      "Unable to find the overriding and subducting plates of the subducting shared sub-segment \"Aleutian and Bering Sea Masking Polygon\" at 5.0Ma\n",
      "    there are not exactly 2 topologies sharing the sub-segment.\n",
      "Unable to find the overriding and subducting plates of the subducting shared sub-segment \"Proto Mussau Trench\" at 5.0Ma\n",
      "    there are not exactly 2 topologies sharing the sub-segment.\n"
     ]
    },
    {
     "name": "stdout",
     "output_type": "stream",
     "text": [
      "working on file Data/Muller_etal_2016_AREPS_Agegrids_v1.11/netCDF_0-230Ma/EarthByte_AREPS_v1.11_Muller_etal_2016_AgeGrid-5.nc\n"
     ]
    },
    {
     "name": "stderr",
     "output_type": "stream",
     "text": [
      "Unable to find the overriding and subducting plates of the subducting shared sub-segment \"Aleutian and Bering Sea Masking Polygon\" at 6.0Ma\n",
      "    there are not exactly 2 topologies sharing the sub-segment.\n",
      "Unable to find the overriding and subducting plates of the subducting shared sub-segment \"Kalimantan subduction boundary (inferred)\" at 6.0Ma\n",
      "    there are not exactly 2 topologies sharing the sub-segment.\n",
      "Unable to find the overriding and subducting plates of the subducting shared sub-segment \"Maramuni Trench\" at 6.0Ma\n",
      "    there are not exactly 2 topologies sharing the sub-segment.\n",
      "Unable to find the overriding and subducting plates of the subducting shared sub-segment \"SanCristobalTrench DiCaprio\" at 6.0Ma\n",
      "    there are not exactly 2 topologies sharing the sub-segment.\n",
      "Unable to find the overriding and subducting plates of the subducting shared sub-segment \"Aleutian and Bering Sea Masking Polygon\" at 6.0Ma\n",
      "    there are not exactly 2 topologies sharing the sub-segment.\n",
      "Unable to find the overriding plate of the subducting shared sub-segment \"Woodlark MOR\"\n",
      "    subduction zone feature is missing subduction polarity property or it is set to \"Unknown\".\n",
      "Unable to find the overriding plate of the subducting shared sub-segment \"NAM subduction COB\"\n",
      "    subduction zone feature is missing subduction polarity property or it is set to \"Unknown\".\n",
      "Unable to find the overriding and subducting plates of the subducting shared sub-segment \"NAM subduction COB\" at 6.0Ma\n",
      "    there are not exactly 2 topologies sharing the sub-segment.\n"
     ]
    },
    {
     "name": "stdout",
     "output_type": "stream",
     "text": [
      "working on file Data/Muller_etal_2016_AREPS_Agegrids_v1.11/netCDF_0-230Ma/EarthByte_AREPS_v1.11_Muller_etal_2016_AgeGrid-6.nc\n"
     ]
    },
    {
     "name": "stderr",
     "output_type": "stream",
     "text": [
      "Unable to find the overriding and subducting plates of the subducting shared sub-segment \"Aleutian and Bering Sea Masking Polygon\" at 7.0Ma\n",
      "    there are not exactly 2 topologies sharing the sub-segment.\n",
      "Unable to find the overriding and subducting plates of the subducting shared sub-segment \"Kalimantan subduction boundary (inferred)\" at 7.0Ma\n",
      "    there are not exactly 2 topologies sharing the sub-segment.\n",
      "Unable to find the overriding and subducting plates of the subducting shared sub-segment \"Aleutian and Bering Sea Masking Polygon\" at 7.0Ma\n",
      "    there are not exactly 2 topologies sharing the sub-segment.\n",
      "Unable to find the overriding plate of the subducting shared sub-segment \"Woodlark MOR\"\n",
      "    subduction zone feature is missing subduction polarity property or it is set to \"Unknown\".\n",
      "Unable to find the overriding plate of the subducting shared sub-segment \"NAM subduction COB\"\n",
      "    subduction zone feature is missing subduction polarity property or it is set to \"Unknown\".\n",
      "Unable to find the overriding and subducting plates of the subducting shared sub-segment \"NAM subduction COB\" at 7.0Ma\n",
      "    there are not exactly 2 topologies sharing the sub-segment.\n"
     ]
    },
    {
     "name": "stdout",
     "output_type": "stream",
     "text": [
      "working on file Data/Muller_etal_2016_AREPS_Agegrids_v1.11/netCDF_0-230Ma/EarthByte_AREPS_v1.11_Muller_etal_2016_AgeGrid-7.nc\n"
     ]
    },
    {
     "name": "stderr",
     "output_type": "stream",
     "text": [
      "Unable to find the overriding and subducting plates of the subducting shared sub-segment \"Aleutian and Bering Sea Masking Polygon\" at 8.0Ma\n",
      "    there are not exactly 2 topologies sharing the sub-segment.\n",
      "Unable to find the overriding and subducting plates of the subducting shared sub-segment \"Kalimantan subduction boundary (inferred)\" at 8.0Ma\n",
      "    there are not exactly 2 topologies sharing the sub-segment.\n",
      "Unable to find the overriding and subducting plates of the subducting shared sub-segment \"SanCristobalTrench DiCaprio\" at 8.0Ma\n",
      "    there are not exactly 2 topologies sharing the sub-segment.\n",
      "Unable to find the overriding and subducting plates of the subducting shared sub-segment \"Aleutian and Bering Sea Masking Polygon\" at 8.0Ma\n",
      "    there are not exactly 2 topologies sharing the sub-segment.\n",
      "Unable to find the overriding plate of the subducting shared sub-segment \"NAM subduction COB\"\n",
      "    subduction zone feature is missing subduction polarity property or it is set to \"Unknown\".\n",
      "Unable to find the overriding and subducting plates of the subducting shared sub-segment \"NAM subduction COB\" at 8.0Ma\n",
      "    there are not exactly 2 topologies sharing the sub-segment.\n"
     ]
    },
    {
     "name": "stdout",
     "output_type": "stream",
     "text": [
      "working on file Data/Muller_etal_2016_AREPS_Agegrids_v1.11/netCDF_0-230Ma/EarthByte_AREPS_v1.11_Muller_etal_2016_AgeGrid-8.nc\n"
     ]
    },
    {
     "name": "stderr",
     "output_type": "stream",
     "text": [
      "Unable to find the overriding and subducting plates of the subducting shared sub-segment \"Aleutian and Bering Sea Masking Polygon\" at 9.0Ma\n",
      "    there are not exactly 2 topologies sharing the sub-segment.\n",
      "Unable to find the overriding and subducting plates of the subducting shared sub-segment \"Kalimantan subduction boundary (inferred)\" at 9.0Ma\n",
      "    there are not exactly 2 topologies sharing the sub-segment.\n",
      "Unable to find the overriding and subducting plates of the subducting shared sub-segment \"Aleutian and Bering Sea Masking Polygon\" at 9.0Ma\n",
      "    there are not exactly 2 topologies sharing the sub-segment.\n",
      "Unable to find the overriding plate of the subducting shared sub-segment \"NAM subduction COB\"\n",
      "    subduction zone feature is missing subduction polarity property or it is set to \"Unknown\".\n",
      "Unable to find the overriding and subducting plates of the subducting shared sub-segment \"NAM subduction COB\" at 9.0Ma\n",
      "    there are not exactly 2 topologies sharing the sub-segment.\n"
     ]
    },
    {
     "name": "stdout",
     "output_type": "stream",
     "text": [
      "working on file Data/Muller_etal_2016_AREPS_Agegrids_v1.11/netCDF_0-230Ma/EarthByte_AREPS_v1.11_Muller_etal_2016_AgeGrid-9.nc\n"
     ]
    },
    {
     "name": "stderr",
     "output_type": "stream",
     "text": [
      "Unable to find the overriding plate of the subducting shared sub-segment \"NAM subduction COB\"\n",
      "    subduction zone feature is missing subduction polarity property or it is set to \"Unknown\".\n",
      "Unable to find the overriding plate of the subducting shared sub-segment \"NAM subduction COB\"\n",
      "    subduction zone feature is missing subduction polarity property or it is set to \"Unknown\".\n",
      "Unable to find the overriding plate of the subducting shared sub-segment \"NAM subduction COB\"\n",
      "    subduction zone feature is missing subduction polarity property or it is set to \"Unknown\".\n",
      "Unable to find the overriding and subducting plates of the subducting shared sub-segment \"Aleutian and Bering Sea Masking Polygon\" at 10.0Ma\n",
      "    there are not exactly 2 topologies sharing the sub-segment.\n",
      "Unable to find the overriding and subducting plates of the subducting shared sub-segment \"Kalimantan subduction boundary (inferred)\" at 10.0Ma\n",
      "    there are not exactly 2 topologies sharing the sub-segment.\n",
      "Unable to find the overriding and subducting plates of the subducting shared sub-segment \"Aleutian and Bering Sea Masking Polygon\" at 10.0Ma\n",
      "    there are not exactly 2 topologies sharing the sub-segment.\n"
     ]
    },
    {
     "name": "stdout",
     "output_type": "stream",
     "text": [
      "working on file Data/Muller_etal_2016_AREPS_Agegrids_v1.11/netCDF_0-230Ma/EarthByte_AREPS_v1.11_Muller_etal_2016_AgeGrid-10.nc\n"
     ]
    },
    {
     "name": "stderr",
     "output_type": "stream",
     "text": [
      "Unable to find the overriding and subducting plates of the subducting shared sub-segment \"Aleutian and Bering Sea Masking Polygon\" at 11.0Ma\n",
      "    there are not exactly 2 topologies sharing the sub-segment.\n",
      "Unable to find the overriding and subducting plates of the subducting shared sub-segment \"Japan sub zone fromEarthByte cob MG 4-20-07\" at 11.0Ma\n",
      "    there are not exactly 2 topologies sharing the sub-segment.\n",
      "Unable to find the overriding and subducting plates of the subducting shared sub-segment \"Aleutian and Bering Sea Masking Polygon\" at 11.0Ma\n",
      "    there are not exactly 2 topologies sharing the sub-segment.\n",
      "Unable to find the overriding and subducting plates of the subducting shared sub-segment \"Japan sub zone fromEarthByte cob MG 4-20-07 for IZA part 1\" at 11.0Ma\n",
      "    there are not exactly 2 topologies sharing the sub-segment.\n",
      "Unable to find the overriding plate of the subducting shared sub-segment \"NAM subduction COB\"\n",
      "    subduction zone feature is missing subduction polarity property or it is set to \"Unknown\".\n",
      "Unable to find the overriding plate of the subducting shared sub-segment \"NAM subduction COB\"\n",
      "    subduction zone feature is missing subduction polarity property or it is set to \"Unknown\".\n"
     ]
    },
    {
     "name": "stdout",
     "output_type": "stream",
     "text": [
      "working on file Data/Muller_etal_2016_AREPS_Agegrids_v1.11/netCDF_0-230Ma/EarthByte_AREPS_v1.11_Muller_etal_2016_AgeGrid-11.nc\n"
     ]
    },
    {
     "name": "stderr",
     "output_type": "stream",
     "text": [
      "Unable to find the overriding plate of the subducting shared sub-segment \"NAM subduction COB\"\n",
      "    subduction zone feature is missing subduction polarity property or it is set to \"Unknown\".\n",
      "Unable to find the overriding plate of the subducting shared sub-segment \"NAM subduction COB\"\n",
      "    subduction zone feature is missing subduction polarity property or it is set to \"Unknown\".\n",
      "Unable to find the overriding and subducting plates of the subducting shared sub-segment \"Aleutian and Bering Sea Masking Polygon\" at 12.0Ma\n",
      "    there are not exactly 2 topologies sharing the sub-segment.\n",
      "Unable to find the overriding and subducting plates of the subducting shared sub-segment \"Japan sub zone fromEarthByte cob MG 4-20-07\" at 12.0Ma\n",
      "    there are not exactly 2 topologies sharing the sub-segment.\n",
      "Unable to find the overriding and subducting plates of the subducting shared sub-segment \"Aleutian and Bering Sea Masking Polygon\" at 12.0Ma\n",
      "    there are not exactly 2 topologies sharing the sub-segment.\n",
      "Unable to find the overriding and subducting plates of the subducting shared sub-segment \"Japan sub zone fromEarthByte cob MG 4-20-07 for IZA part 1\" at 12.0Ma\n",
      "    there are not exactly 2 topologies sharing the sub-segment.\n"
     ]
    },
    {
     "name": "stdout",
     "output_type": "stream",
     "text": [
      "working on file Data/Muller_etal_2016_AREPS_Agegrids_v1.11/netCDF_0-230Ma/EarthByte_AREPS_v1.11_Muller_etal_2016_AgeGrid-12.nc\n"
     ]
    },
    {
     "name": "stderr",
     "output_type": "stream",
     "text": [
      "Unable to find the overriding and subducting plates of the subducting shared sub-segment \"South America trench taken from COB file\" at 13.0Ma\n",
      "    there are not exactly 2 topologies sharing the sub-segment.\n",
      "Unable to find the overriding and subducting plates of the subducting shared sub-segment \"South America trench taken from COB file\" at 13.0Ma\n",
      "    there are not exactly 2 topologies sharing the sub-segment.\n",
      "Unable to find the overriding and subducting plates of the subducting shared sub-segment \"South America trench taken from COB file\" at 13.0Ma\n",
      "    there are not exactly 2 topologies sharing the sub-segment.\n",
      "Unable to find the overriding and subducting plates of the subducting shared sub-segment \"TBD\" at 13.0Ma\n",
      "    there are not exactly 2 topologies sharing the sub-segment.\n",
      "Unable to find the overriding plate of the subducting shared sub-segment \"NAM subduction COB\"\n",
      "    subduction zone feature is missing subduction polarity property or it is set to \"Unknown\".\n",
      "Unable to find the overriding plate of the subducting shared sub-segment \"NAM subduction COB\"\n",
      "    subduction zone feature is missing subduction polarity property or it is set to \"Unknown\".\n",
      "Unable to find the overriding and subducting plates of the subducting shared sub-segment \"Endurance Collision Zone\" at 13.0Ma\n",
      "    there are not exactly 2 topologies sharing the sub-segment.\n",
      "Unable to find the overriding and subducting plates of the subducting shared sub-segment \"Sandwich Trench\" at 13.0Ma\n",
      "    there are not exactly 2 topologies sharing the sub-segment.\n",
      "Unable to find the overriding and subducting plates of the subducting shared sub-segment \"Sandwich Trench\" at 13.0Ma\n",
      "    there are not exactly 2 topologies sharing the sub-segment.\n",
      "Unable to find the overriding and subducting plates of the subducting shared sub-segment \"Aleutian and Bering Sea Masking Polygon\" at 13.0Ma\n",
      "    there are not exactly 2 topologies sharing the sub-segment.\n",
      "Unable to find the overriding and subducting plates of the subducting shared sub-segment \"Aleutian and Bering Sea Masking Polygon\" at 13.0Ma\n",
      "    there are not exactly 2 topologies sharing the sub-segment.\n",
      "Unable to find the overriding and subducting plates of the subducting shared sub-segment \"\" at 13.0Ma\n",
      "    there are not exactly 2 topologies sharing the sub-segment.\n"
     ]
    },
    {
     "name": "stdout",
     "output_type": "stream",
     "text": [
      "working on file Data/Muller_etal_2016_AREPS_Agegrids_v1.11/netCDF_0-230Ma/EarthByte_AREPS_v1.11_Muller_etal_2016_AgeGrid-13.nc\n"
     ]
    },
    {
     "name": "stderr",
     "output_type": "stream",
     "text": [
      "Unable to find the overriding and subducting plates of the subducting shared sub-segment \"Aleutian and Bering Sea Masking Polygon\" at 14.0Ma\n",
      "    there are not exactly 2 topologies sharing the sub-segment.\n",
      "Unable to find the overriding and subducting plates of the subducting shared sub-segment \"Aleutian and Bering Sea Masking Polygon\" at 14.0Ma\n",
      "    there are not exactly 2 topologies sharing the sub-segment.\n",
      "Unable to find the overriding plate of the subducting shared sub-segment \"NAM subduction COB\"\n",
      "    subduction zone feature is missing subduction polarity property or it is set to \"Unknown\".\n",
      "Unable to find the overriding plate of the subducting shared sub-segment \"NAM subduction COB\"\n",
      "    subduction zone feature is missing subduction polarity property or it is set to \"Unknown\".\n"
     ]
    },
    {
     "name": "stdout",
     "output_type": "stream",
     "text": [
      "working on file Data/Muller_etal_2016_AREPS_Agegrids_v1.11/netCDF_0-230Ma/EarthByte_AREPS_v1.11_Muller_etal_2016_AgeGrid-14.nc\n"
     ]
    },
    {
     "name": "stderr",
     "output_type": "stream",
     "text": [
      "Unable to find the overriding and subducting plates of the subducting shared sub-segment \"Aleutian and Bering Sea Masking Polygon\" at 15.0Ma\n",
      "    there are not exactly 2 topologies sharing the sub-segment.\n",
      "Unable to find the overriding and subducting plates of the subducting shared sub-segment \"Japan sub zone fromEarthByte cob MG 4-20-07\" at 15.0Ma\n",
      "    there are not exactly 2 topologies sharing the sub-segment.\n",
      "Unable to find the overriding and subducting plates of the subducting shared sub-segment \"Aleutian and Bering Sea Masking Polygon\" at 15.0Ma\n",
      "    there are not exactly 2 topologies sharing the sub-segment.\n",
      "Unable to find the overriding and subducting plates of the subducting shared sub-segment \"Japan sub zone fromEarthByte cob MG 4-20-07 for IZA part 2\" at 15.0Ma\n",
      "    there are not exactly 2 topologies sharing the sub-segment.\n",
      "Unable to find the overriding plate of the subducting shared sub-segment \"NAM subduction COB\"\n",
      "    subduction zone feature is missing subduction polarity property or it is set to \"Unknown\".\n",
      "Unable to find the overriding plate of the subducting shared sub-segment \"NAM subduction COB\"\n",
      "    subduction zone feature is missing subduction polarity property or it is set to \"Unknown\".\n",
      "Unable to find the overriding plate of the subducting shared sub-segment \"NAM subduction COB\"\n",
      "    subduction zone feature is missing subduction polarity property or it is set to \"Unknown\".\n"
     ]
    },
    {
     "name": "stdout",
     "output_type": "stream",
     "text": [
      "working on file Data/Muller_etal_2016_AREPS_Agegrids_v1.11/netCDF_0-230Ma/EarthByte_AREPS_v1.11_Muller_etal_2016_AgeGrid-15.nc\n"
     ]
    },
    {
     "name": "stderr",
     "output_type": "stream",
     "text": [
      "Unable to find the overriding plate of the subducting shared sub-segment \"NAM subduction COB\"\n",
      "    subduction zone feature is missing subduction polarity property or it is set to \"Unknown\".\n",
      "Unable to find the overriding plate of the subducting shared sub-segment \"NAM subduction COB\"\n",
      "    subduction zone feature is missing subduction polarity property or it is set to \"Unknown\".\n",
      "Unable to find the overriding plate of the subducting shared sub-segment \"NAM subduction COB\"\n",
      "    subduction zone feature is missing subduction polarity property or it is set to \"Unknown\".\n",
      "Unable to find the overriding and subducting plates of the subducting shared sub-segment \"Japan sub zone fromEarthByte cob MG 4-20-07\" at 16.0Ma\n",
      "    there are not exactly 2 topologies sharing the sub-segment.\n",
      "Unable to find the overriding and subducting plates of the subducting shared sub-segment \"Japan sub zone fromEarthByte cob MG 4-20-07 for IZA part 1\" at 16.0Ma\n",
      "    there are not exactly 2 topologies sharing the sub-segment.\n",
      "Unable to find the overriding and subducting plates of the subducting shared sub-segment \"Japan sub zone fromEarthByte cob MG 4-20-07 for IZA part 2\" at 16.0Ma\n",
      "    there are not exactly 2 topologies sharing the sub-segment.\n"
     ]
    },
    {
     "name": "stdout",
     "output_type": "stream",
     "text": [
      "working on file Data/Muller_etal_2016_AREPS_Agegrids_v1.11/netCDF_0-230Ma/EarthByte_AREPS_v1.11_Muller_etal_2016_AgeGrid-16.nc\n"
     ]
    },
    {
     "name": "stderr",
     "output_type": "stream",
     "text": [
      "Unable to find the overriding and subducting plates of the subducting shared sub-segment \"Indonesian bndy w AUS-mg\" at 17.0Ma\n",
      "    there are not exactly 2 topologies sharing the sub-segment.\n",
      "Unable to find the overriding and subducting plates of the subducting shared sub-segment \"Japan sub zone fromEarthByte cob MG 4-20-07\" at 17.0Ma\n",
      "    there are not exactly 2 topologies sharing the sub-segment.\n",
      "Unable to find the overriding and subducting plates of the subducting shared sub-segment \"Kamchatka SZ from EarthByte COB at 0Ma -- MG 4/20/07\" at 17.0Ma\n",
      "    there are not exactly 2 topologies sharing the sub-segment.\n",
      "Unable to find the overriding and subducting plates of the subducting shared sub-segment \"Japan sub zone fromEarthByte cob MG 4-20-07 for IZA part 1\" at 17.0Ma\n",
      "    there are not exactly 2 topologies sharing the sub-segment.\n",
      "Unable to find the overriding and subducting plates of the subducting shared sub-segment \"Japan sub zone fromEarthByte cob MG 4-20-07 for IZA part 2\" at 17.0Ma\n",
      "    there are not exactly 2 topologies sharing the sub-segment.\n",
      "Unable to find the overriding and subducting plates of the subducting shared sub-segment \"Java SZ\" at 17.0Ma\n",
      "    there are not exactly 2 topologies sharing the sub-segment.\n",
      "Unable to find the overriding plate of the subducting shared sub-segment \"\" at 17.0Ma\n",
      "    both sharing topologies are on subducting side of subducting line.\n",
      "Unable to find the overriding plate of the subducting shared sub-segment \"NAM subduction COB\"\n",
      "    subduction zone feature is missing subduction polarity property or it is set to \"Unknown\".\n",
      "Unable to find the overriding plate of the subducting shared sub-segment \"NAM subduction COB\"\n",
      "    subduction zone feature is missing subduction polarity property or it is set to \"Unknown\".\n",
      "Unable to find the overriding plate of the subducting shared sub-segment \"NAM subduction COB\"\n",
      "    subduction zone feature is missing subduction polarity property or it is set to \"Unknown\".\n"
     ]
    },
    {
     "name": "stdout",
     "output_type": "stream",
     "text": [
      "working on file Data/Muller_etal_2016_AREPS_Agegrids_v1.11/netCDF_0-230Ma/EarthByte_AREPS_v1.11_Muller_etal_2016_AgeGrid-17.nc\n"
     ]
    },
    {
     "name": "stderr",
     "output_type": "stream",
     "text": [
      "Unable to find the overriding plate of the subducting shared sub-segment \"NAM subduction COB\"\n",
      "    subduction zone feature is missing subduction polarity property or it is set to \"Unknown\".\n",
      "Unable to find the overriding plate of the subducting shared sub-segment \"NAM subduction COB\"\n",
      "    subduction zone feature is missing subduction polarity property or it is set to \"Unknown\".\n",
      "Unable to find the overriding plate of the subducting shared sub-segment \"NAM subduction COB\"\n",
      "    subduction zone feature is missing subduction polarity property or it is set to \"Unknown\".\n",
      "Unable to find the overriding and subducting plates of the subducting shared sub-segment \"Japan sub zone fromEarthByte cob MG 4-20-07\" at 18.0Ma\n",
      "    there are not exactly 2 topologies sharing the sub-segment.\n",
      "Unable to find the overriding and subducting plates of the subducting shared sub-segment \"Kamchatka SZ from EarthByte COB at 0Ma -- MG 4/20/07\" at 18.0Ma\n",
      "    there are not exactly 2 topologies sharing the sub-segment.\n",
      "Unable to find the overriding and subducting plates of the subducting shared sub-segment \"Japan sub zone fromEarthByte cob MG 4-20-07 for IZA part 1\" at 18.0Ma\n",
      "    there are not exactly 2 topologies sharing the sub-segment.\n",
      "Unable to find the overriding and subducting plates of the subducting shared sub-segment \"Japan sub zone fromEarthByte cob MG 4-20-07 for IZA part 2\" at 18.0Ma\n",
      "    there are not exactly 2 topologies sharing the sub-segment.\n",
      "Unable to find the overriding plate of the subducting shared sub-segment \"\" at 18.0Ma\n",
      "    both sharing topologies are on subducting side of subducting line.\n"
     ]
    },
    {
     "name": "stdout",
     "output_type": "stream",
     "text": [
      "working on file Data/Muller_etal_2016_AREPS_Agegrids_v1.11/netCDF_0-230Ma/EarthByte_AREPS_v1.11_Muller_etal_2016_AgeGrid-18.nc\n"
     ]
    },
    {
     "name": "stderr",
     "output_type": "stream",
     "text": [
      "Unable to find the overriding and subducting plates of the subducting shared sub-segment \"Japan sub zone fromEarthByte cob MG 4-20-07\" at 19.0Ma\n",
      "    there are not exactly 2 topologies sharing the sub-segment.\n",
      "Unable to find the overriding and subducting plates of the subducting shared sub-segment \"Kamchatka SZ from EarthByte COB at 0Ma -- MG 4/20/07\" at 19.0Ma\n",
      "    there are not exactly 2 topologies sharing the sub-segment.\n",
      "Unable to find the overriding and subducting plates of the subducting shared sub-segment \"Japan sub zone fromEarthByte cob MG 4-20-07 for IZA part 1\" at 19.0Ma\n",
      "    there are not exactly 2 topologies sharing the sub-segment.\n",
      "Unable to find the overriding and subducting plates of the subducting shared sub-segment \"Japan sub zone fromEarthByte cob MG 4-20-07 for IZA part 2\" at 19.0Ma\n",
      "    there are not exactly 2 topologies sharing the sub-segment.\n",
      "Unable to find the overriding plate of the subducting shared sub-segment \"\" at 19.0Ma\n",
      "    both sharing topologies are on subducting side of subducting line.\n"
     ]
    },
    {
     "name": "stdout",
     "output_type": "stream",
     "text": [
      "working on file Data/Muller_etal_2016_AREPS_Agegrids_v1.11/netCDF_0-230Ma/EarthByte_AREPS_v1.11_Muller_etal_2016_AgeGrid-19.nc\n"
     ]
    },
    {
     "name": "stderr",
     "output_type": "stream",
     "text": [
      "Unable to find the overriding and subducting plates of the subducting shared sub-segment \"Japan sub zone fromEarthByte cob MG 4-20-07\" at 20.0Ma\n",
      "    there are not exactly 2 topologies sharing the sub-segment.\n",
      "Unable to find the overriding and subducting plates of the subducting shared sub-segment \"Kamchatka SZ from EarthByte COB at 0Ma -- MG 4/20/07\" at 20.0Ma\n",
      "    there are not exactly 2 topologies sharing the sub-segment.\n",
      "Unable to find the overriding and subducting plates of the subducting shared sub-segment \"Japan sub zone fromEarthByte cob MG 4-20-07 for IZA part 1\" at 20.0Ma\n",
      "    there are not exactly 2 topologies sharing the sub-segment.\n",
      "Unable to find the overriding and subducting plates of the subducting shared sub-segment \"Japan sub zone fromEarthByte cob MG 4-20-07 for IZA part 2\" at 20.0Ma\n",
      "    there are not exactly 2 topologies sharing the sub-segment.\n",
      "Unable to find the overriding plate of the subducting shared sub-segment \"\" at 20.0Ma\n",
      "    both sharing topologies are on subducting side of subducting line.\n"
     ]
    },
    {
     "name": "stdout",
     "output_type": "stream",
     "text": [
      "working on file Data/Muller_etal_2016_AREPS_Agegrids_v1.11/netCDF_0-230Ma/EarthByte_AREPS_v1.11_Muller_etal_2016_AgeGrid-20.nc\n"
     ]
    },
    {
     "name": "stderr",
     "output_type": "stream",
     "text": [
      "Unable to find the overriding and subducting plates of the subducting shared sub-segment \"Japan sub zone fromEarthByte cob MG 4-20-07\" at 21.0Ma\n",
      "    there are not exactly 2 topologies sharing the sub-segment.\n",
      "Unable to find the overriding and subducting plates of the subducting shared sub-segment \"Kamchatka SZ from EarthByte COB at 0Ma -- MG 4/20/07\" at 21.0Ma\n",
      "    there are not exactly 2 topologies sharing the sub-segment.\n",
      "Unable to find the overriding and subducting plates of the subducting shared sub-segment \"MelanesiaVityaz DiCaprio\" at 21.0Ma\n",
      "    there are not exactly 2 topologies sharing the sub-segment.\n",
      "Unable to find the overriding and subducting plates of the subducting shared sub-segment \"Japan sub zone fromEarthByte cob MG 4-20-07 for IZA part 1\" at 21.0Ma\n",
      "    there are not exactly 2 topologies sharing the sub-segment.\n",
      "Unable to find the overriding and subducting plates of the subducting shared sub-segment \"Japan sub zone fromEarthByte cob MG 4-20-07 for IZA part 1\" at 21.0Ma\n",
      "    there are not exactly 2 topologies sharing the sub-segment.\n",
      "Unable to find the overriding and subducting plates of the subducting shared sub-segment \"Proto Mussau Trench\" at 21.0Ma\n",
      "    there are not exactly 2 topologies sharing the sub-segment.\n",
      "Unable to find the overriding and subducting plates of the subducting shared sub-segment \"Pacific Melanesia Subduction Zone\" at 21.0Ma\n",
      "    there are not exactly 2 topologies sharing the sub-segment.\n"
     ]
    },
    {
     "name": "stdout",
     "output_type": "stream",
     "text": [
      "working on file Data/Muller_etal_2016_AREPS_Agegrids_v1.11/netCDF_0-230Ma/EarthByte_AREPS_v1.11_Muller_etal_2016_AgeGrid-21.nc\n"
     ]
    },
    {
     "name": "stderr",
     "output_type": "stream",
     "text": [
      "Unable to find the overriding and subducting plates of the subducting shared sub-segment \"Japan sub zone fromEarthByte cob MG 4-20-07\" at 22.0Ma\n",
      "    there are not exactly 2 topologies sharing the sub-segment.\n",
      "Unable to find the overriding and subducting plates of the subducting shared sub-segment \"Kamchatka SZ from EarthByte COB at 0Ma -- MG 4/20/07\" at 22.0Ma\n",
      "    there are not exactly 2 topologies sharing the sub-segment.\n",
      "Unable to find the overriding and subducting plates of the subducting shared sub-segment \"Kermadec Trench DiCaprio\" at 22.0Ma\n",
      "    there are not exactly 2 topologies sharing the sub-segment.\n",
      "Unable to find the overriding and subducting plates of the subducting shared sub-segment \"Japan sub zone fromEarthByte cob MG 4-20-07 for IZA part 1\" at 22.0Ma\n",
      "    there are not exactly 2 topologies sharing the sub-segment.\n",
      "Unable to find the overriding and subducting plates of the subducting shared sub-segment \"Japan sub zone fromEarthByte cob MG 4-20-07 for IZA part 1\" at 22.0Ma\n",
      "    there are not exactly 2 topologies sharing the sub-segment.\n"
     ]
    },
    {
     "name": "stdout",
     "output_type": "stream",
     "text": [
      "working on file Data/Muller_etal_2016_AREPS_Agegrids_v1.11/netCDF_0-230Ma/EarthByte_AREPS_v1.11_Muller_etal_2016_AgeGrid-22.nc\n"
     ]
    },
    {
     "name": "stderr",
     "output_type": "stream",
     "text": [
      "Unable to find the overriding and subducting plates of the subducting shared sub-segment \"Japan sub zone fromEarthByte cob MG 4-20-07\" at 23.0Ma\n",
      "    there are not exactly 2 topologies sharing the sub-segment.\n",
      "Unable to find the overriding and subducting plates of the subducting shared sub-segment \"Kamchatka SZ from EarthByte COB at 0Ma -- MG 4/20/07\" at 23.0Ma\n",
      "    there are not exactly 2 topologies sharing the sub-segment.\n",
      "Unable to find the overriding and subducting plates of the subducting shared sub-segment \"Japan sub zone fromEarthByte cob MG 4-20-07 for IZA part 1\" at 23.0Ma\n",
      "    there are not exactly 2 topologies sharing the sub-segment.\n",
      "Unable to find the overriding and subducting plates of the subducting shared sub-segment \"Japan sub zone fromEarthByte cob MG 4-20-07 for IZA part 1\" at 23.0Ma\n",
      "    there are not exactly 2 topologies sharing the sub-segment.\n"
     ]
    },
    {
     "name": "stdout",
     "output_type": "stream",
     "text": [
      "working on file Data/Muller_etal_2016_AREPS_Agegrids_v1.11/netCDF_0-230Ma/EarthByte_AREPS_v1.11_Muller_etal_2016_AgeGrid-23.nc\n"
     ]
    },
    {
     "name": "stderr",
     "output_type": "stream",
     "text": [
      "Unable to find the overriding and subducting plates of the subducting shared sub-segment \"Japan sub zone fromEarthByte cob MG 4-20-07\" at 24.0Ma\n",
      "    there are not exactly 2 topologies sharing the sub-segment.\n",
      "Unable to find the overriding and subducting plates of the subducting shared sub-segment \"Kamchatka SZ from EarthByte COB at 0Ma -- MG 4/20/07\" at 24.0Ma\n",
      "    there are not exactly 2 topologies sharing the sub-segment.\n",
      "Unable to find the overriding and subducting plates of the subducting shared sub-segment \"Japan sub zone fromEarthByte cob MG 4-20-07 for IZA part 1\" at 24.0Ma\n",
      "    there are not exactly 2 topologies sharing the sub-segment.\n"
     ]
    },
    {
     "name": "stdout",
     "output_type": "stream",
     "text": [
      "working on file Data/Muller_etal_2016_AREPS_Agegrids_v1.11/netCDF_0-230Ma/EarthByte_AREPS_v1.11_Muller_etal_2016_AgeGrid-24.nc\n"
     ]
    },
    {
     "name": "stderr",
     "output_type": "stream",
     "text": [
      "Unable to find the overriding and subducting plates of the subducting shared sub-segment \"Aleutian and Bering Sea Masking Polygon\" at 25.0Ma\n",
      "    there are not exactly 2 topologies sharing the sub-segment.\n",
      "Unable to find the overriding and subducting plates of the subducting shared sub-segment \"Japan sub zone fromEarthByte cob MG 4-20-07\" at 25.0Ma\n",
      "    there are not exactly 2 topologies sharing the sub-segment.\n",
      "Unable to find the overriding and subducting plates of the subducting shared sub-segment \"Kamchatka SZ from EarthByte COB at 0Ma -- MG 4/20/07\" at 25.0Ma\n",
      "    there are not exactly 2 topologies sharing the sub-segment.\n",
      "Unable to find the overriding and subducting plates of the subducting shared sub-segment \"Western NAM subduction\" at 25.0Ma\n",
      "    there are not exactly 2 topologies sharing the sub-segment.\n",
      "Unable to find the overriding and subducting plates of the subducting shared sub-segment \"Shirshov Ridge Subduction\" at 25.0Ma\n",
      "    there are not exactly 2 topologies sharing the sub-segment.\n",
      "Unable to find the overriding and subducting plates of the subducting shared sub-segment \"Japan sub zone fromEarthByte cob MG 4-20-07 for IZA part 1\" at 25.0Ma\n",
      "    there are not exactly 2 topologies sharing the sub-segment.\n",
      "Unable to find the overriding and subducting plates of the subducting shared sub-segment \"East Philippine Isl Nthward Subduction DiCaprio\" at 25.0Ma\n",
      "    there are not exactly 2 topologies sharing the sub-segment.\n",
      "Unable to find the overriding and subducting plates of the subducting shared sub-segment \"Proto Caroline arc\" at 25.0Ma\n",
      "    there are not exactly 2 topologies sharing the sub-segment.\n",
      "Unable to find the overriding and subducting plates of the subducting shared sub-segment \"Western NAM subduction\" at 25.0Ma\n",
      "    there are not exactly 2 topologies sharing the sub-segment.\n"
     ]
    },
    {
     "name": "stdout",
     "output_type": "stream",
     "text": [
      "working on file Data/Muller_etal_2016_AREPS_Agegrids_v1.11/netCDF_0-230Ma/EarthByte_AREPS_v1.11_Muller_etal_2016_AgeGrid-25.nc\n"
     ]
    },
    {
     "name": "stderr",
     "output_type": "stream",
     "text": [
      "Unable to find the overriding and subducting plates of the subducting shared sub-segment \"Aleutian and Bering Sea Masking Polygon\" at 26.0Ma\n",
      "    there are not exactly 2 topologies sharing the sub-segment.\n",
      "Unable to find the overriding and subducting plates of the subducting shared sub-segment \"Japan sub zone fromEarthByte cob MG 4-20-07\" at 26.0Ma\n",
      "    there are not exactly 2 topologies sharing the sub-segment.\n",
      "Unable to find the overriding and subducting plates of the subducting shared sub-segment \"Aleutian and Bering Sea Masking Polygon\" at 26.0Ma\n",
      "    there are not exactly 2 topologies sharing the sub-segment.\n",
      "Unable to find the overriding and subducting plates of the subducting shared sub-segment \"Japan sub zone fromEarthByte cob MG 4-20-07 for IZA part 1\" at 26.0Ma\n",
      "    there are not exactly 2 topologies sharing the sub-segment.\n",
      "Unable to find the overriding plate of the subducting shared sub-segment \"\" at 26.0Ma\n",
      "    both sharing topologies are on subducting side of subducting line.\n"
     ]
    },
    {
     "name": "stdout",
     "output_type": "stream",
     "text": [
      "working on file Data/Muller_etal_2016_AREPS_Agegrids_v1.11/netCDF_0-230Ma/EarthByte_AREPS_v1.11_Muller_etal_2016_AgeGrid-26.nc\n"
     ]
    },
    {
     "name": "stderr",
     "output_type": "stream",
     "text": [
      "Unable to find the overriding and subducting plates of the subducting shared sub-segment \"Aleutian and Bering Sea Masking Polygon\" at 27.0Ma\n",
      "    there are not exactly 2 topologies sharing the sub-segment.\n",
      "Unable to find the overriding and subducting plates of the subducting shared sub-segment \"Aleutian and Bering Sea Masking Polygon\" at 27.0Ma\n",
      "    there are not exactly 2 topologies sharing the sub-segment.\n",
      "Unable to find the overriding plate of the subducting shared sub-segment \"\" at 27.0Ma\n",
      "    both sharing topologies are on subducting side of subducting line.\n"
     ]
    },
    {
     "name": "stdout",
     "output_type": "stream",
     "text": [
      "working on file Data/Muller_etal_2016_AREPS_Agegrids_v1.11/netCDF_0-230Ma/EarthByte_AREPS_v1.11_Muller_etal_2016_AgeGrid-27.nc\n"
     ]
    },
    {
     "name": "stderr",
     "output_type": "stream",
     "text": [
      "Unable to find the overriding and subducting plates of the subducting shared sub-segment \"South America trench taken from COB file\" at 28.0Ma\n",
      "    there are not exactly 2 topologies sharing the sub-segment.\n",
      "Unable to find the overriding and subducting plates of the subducting shared sub-segment \"Western NAM subduction\" at 28.0Ma\n",
      "    there are not exactly 2 topologies sharing the sub-segment.\n",
      "Unable to find the overriding and subducting plates of the subducting shared sub-segment \"Aleutian and Bering Sea Masking Polygon\" at 28.0Ma\n",
      "    there are not exactly 2 topologies sharing the sub-segment.\n",
      "Unable to find the overriding and subducting plates of the subducting shared sub-segment \"Aleutian and Bering Sea Masking Polygon\" at 28.0Ma\n",
      "    there are not exactly 2 topologies sharing the sub-segment.\n",
      "Unable to find the overriding and subducting plates of the subducting shared sub-segment \"Trench Baja California COB MG 4-30-07\" at 28.0Ma\n",
      "    there are not exactly 2 topologies sharing the sub-segment.\n",
      "Unable to find the overriding and subducting plates of the subducting shared sub-segment \"Western NAM subduction\" at 28.0Ma\n",
      "    there are not exactly 2 topologies sharing the sub-segment.\n"
     ]
    },
    {
     "name": "stdout",
     "output_type": "stream",
     "text": [
      "working on file Data/Muller_etal_2016_AREPS_Agegrids_v1.11/netCDF_0-230Ma/EarthByte_AREPS_v1.11_Muller_etal_2016_AgeGrid-28.nc\n"
     ]
    },
    {
     "name": "stderr",
     "output_type": "stream",
     "text": [
      "Unable to find the overriding and subducting plates of the subducting shared sub-segment \"Western NAM subduction\" at 29.0Ma\n",
      "    there are not exactly 2 topologies sharing the sub-segment.\n",
      "Unable to find the overriding and subducting plates of the subducting shared sub-segment \"Aleutian and Bering Sea Masking Polygon\" at 29.0Ma\n",
      "    there are not exactly 2 topologies sharing the sub-segment.\n",
      "Unable to find the overriding and subducting plates of the subducting shared sub-segment \"Western NAM subduction\" at 29.0Ma\n",
      "    there are not exactly 2 topologies sharing the sub-segment.\n",
      "Unable to find the overriding and subducting plates of the subducting shared sub-segment \"Aleutian and Bering Sea Masking Polygon\" at 29.0Ma\n",
      "    there are not exactly 2 topologies sharing the sub-segment.\n"
     ]
    },
    {
     "name": "stdout",
     "output_type": "stream",
     "text": [
      "working on file Data/Muller_etal_2016_AREPS_Agegrids_v1.11/netCDF_0-230Ma/EarthByte_AREPS_v1.11_Muller_etal_2016_AgeGrid-29.nc\n"
     ]
    },
    {
     "name": "stderr",
     "output_type": "stream",
     "text": [
      "Unable to find the overriding and subducting plates of the subducting shared sub-segment \"Aleutian and Bering Sea Masking Polygon\" at 30.0Ma\n",
      "    there are not exactly 2 topologies sharing the sub-segment.\n",
      "Unable to find the overriding and subducting plates of the subducting shared sub-segment \"Aleutian and Bering Sea Masking Polygon\" at 30.0Ma\n",
      "    there are not exactly 2 topologies sharing the sub-segment.\n"
     ]
    },
    {
     "name": "stdout",
     "output_type": "stream",
     "text": [
      "working on file Data/Muller_etal_2016_AREPS_Agegrids_v1.11/netCDF_0-230Ma/EarthByte_AREPS_v1.11_Muller_etal_2016_AgeGrid-30.nc\n"
     ]
    },
    {
     "name": "stderr",
     "output_type": "stream",
     "text": [
      "Unable to find the overriding and subducting plates of the subducting shared sub-segment \"Aleutian and Bering Sea Masking Polygon\" at 31.0Ma\n",
      "    there are not exactly 2 topologies sharing the sub-segment.\n",
      "Unable to find the overriding and subducting plates of the subducting shared sub-segment \"Aleutian and Bering Sea Masking Polygon\" at 31.0Ma\n",
      "    there are not exactly 2 topologies sharing the sub-segment.\n",
      "Unable to find the overriding and subducting plates of the subducting shared sub-segment \"Endurance Collision Zone\" at 31.0Ma\n",
      "    there are not exactly 2 topologies sharing the sub-segment.\n"
     ]
    },
    {
     "name": "stdout",
     "output_type": "stream",
     "text": [
      "working on file Data/Muller_etal_2016_AREPS_Agegrids_v1.11/netCDF_0-230Ma/EarthByte_AREPS_v1.11_Muller_etal_2016_AgeGrid-31.nc\n"
     ]
    },
    {
     "name": "stderr",
     "output_type": "stream",
     "text": [
      "Unable to find the overriding and subducting plates of the subducting shared sub-segment \"Endurance Collision Zone\" at 32.0Ma\n",
      "    there are not exactly 2 topologies sharing the sub-segment.\n",
      "Unable to find the overriding and subducting plates of the subducting shared sub-segment \"Aleutian and Bering Sea Masking Polygon\" at 32.0Ma\n",
      "    there are not exactly 2 topologies sharing the sub-segment.\n",
      "Unable to find the overriding and subducting plates of the subducting shared sub-segment \"Aleutian and Bering Sea Masking Polygon\" at 32.0Ma\n",
      "    there are not exactly 2 topologies sharing the sub-segment.\n"
     ]
    },
    {
     "name": "stdout",
     "output_type": "stream",
     "text": [
      "working on file Data/Muller_etal_2016_AREPS_Agegrids_v1.11/netCDF_0-230Ma/EarthByte_AREPS_v1.11_Muller_etal_2016_AgeGrid-32.nc\n"
     ]
    },
    {
     "name": "stderr",
     "output_type": "stream",
     "text": [
      "Unable to find the overriding and subducting plates of the subducting shared sub-segment \"Aleutian and Bering Sea Masking Polygon\" at 33.0Ma\n",
      "    there are not exactly 2 topologies sharing the sub-segment.\n",
      "Unable to find the overriding and subducting plates of the subducting shared sub-segment \"Japan sub zone fromEarthByte cob MG 4-20-07\" at 33.0Ma\n",
      "    there are not exactly 2 topologies sharing the sub-segment.\n",
      "Unable to find the overriding and subducting plates of the subducting shared sub-segment \"Aleutian and Bering Sea Masking Polygon\" at 33.0Ma\n",
      "    there are not exactly 2 topologies sharing the sub-segment.\n",
      "Unable to find the overriding and subducting plates of the subducting shared sub-segment \"Japan sub zone fromEarthByte cob MG 4-20-07 for IZA part 1\" at 33.0Ma\n",
      "    there are not exactly 2 topologies sharing the sub-segment.\n",
      "Unable to find the overriding and subducting plates of the subducting shared sub-segment \"Endurance Collision Zone\" at 33.0Ma\n",
      "    there are not exactly 2 topologies sharing the sub-segment.\n"
     ]
    },
    {
     "name": "stdout",
     "output_type": "stream",
     "text": [
      "working on file Data/Muller_etal_2016_AREPS_Agegrids_v1.11/netCDF_0-230Ma/EarthByte_AREPS_v1.11_Muller_etal_2016_AgeGrid-33.nc\n"
     ]
    },
    {
     "name": "stderr",
     "output_type": "stream",
     "text": [
      "Unable to find the overriding and subducting plates of the subducting shared sub-segment \"Ligurian Subduction\" at 34.0Ma\n",
      "    there are not exactly 2 topologies sharing the sub-segment.\n",
      "Unable to find the overriding and subducting plates of the subducting shared sub-segment \"Aleutian and Bering Sea Masking Polygon\" at 34.0Ma\n",
      "    there are not exactly 2 topologies sharing the sub-segment.\n",
      "Unable to find the overriding and subducting plates of the subducting shared sub-segment \"Kermadec Trench DiCaprio\" at 34.0Ma\n",
      "    there are not exactly 2 topologies sharing the sub-segment.\n",
      "Unable to find the overriding and subducting plates of the subducting shared sub-segment \"NewCal Obd Oph\" at 34.0Ma\n",
      "    there are not exactly 2 topologies sharing the sub-segment.\n",
      "Unable to find the overriding and subducting plates of the subducting shared sub-segment \"Tonga Trench DiCaprio\" at 34.0Ma\n",
      "    there are not exactly 2 topologies sharing the sub-segment.\n",
      "Unable to find the overriding and subducting plates of the subducting shared sub-segment \"Aleutian and Bering Sea Masking Polygon\" at 34.0Ma\n",
      "    there are not exactly 2 topologies sharing the sub-segment.\n"
     ]
    },
    {
     "name": "stdout",
     "output_type": "stream",
     "text": [
      "working on file Data/Muller_etal_2016_AREPS_Agegrids_v1.11/netCDF_0-230Ma/EarthByte_AREPS_v1.11_Muller_etal_2016_AgeGrid-34.nc\n"
     ]
    },
    {
     "name": "stderr",
     "output_type": "stream",
     "text": [
      "Unable to find the overriding and subducting plates of the subducting shared sub-segment \"Aleutian and Bering Sea Masking Polygon\" at 35.0Ma\n",
      "    there are not exactly 2 topologies sharing the sub-segment.\n",
      "Unable to find the overriding and subducting plates of the subducting shared sub-segment \"Japan sub zone fromEarthByte cob MG 4-20-07\" at 35.0Ma\n",
      "    there are not exactly 2 topologies sharing the sub-segment.\n",
      "Unable to find the overriding and subducting plates of the subducting shared sub-segment \"Kermadec Trench DiCaprio\" at 35.0Ma\n",
      "    there are not exactly 2 topologies sharing the sub-segment.\n",
      "Unable to find the overriding and subducting plates of the subducting shared sub-segment \"NewCal Obd Oph\" at 35.0Ma\n",
      "    there are not exactly 2 topologies sharing the sub-segment.\n",
      "Unable to find the overriding and subducting plates of the subducting shared sub-segment \"Tonga Trench DiCaprio\" at 35.0Ma\n",
      "    there are not exactly 2 topologies sharing the sub-segment.\n",
      "Unable to find the overriding and subducting plates of the subducting shared sub-segment \"Aleutian and Bering Sea Masking Polygon\" at 35.0Ma\n",
      "    there are not exactly 2 topologies sharing the sub-segment.\n",
      "Unable to find the overriding and subducting plates of the subducting shared sub-segment \"Japan sub zone fromEarthByte cob MG 4-20-07 for IZA part 1\" at 35.0Ma\n",
      "    there are not exactly 2 topologies sharing the sub-segment.\n",
      "Unable to find the overriding and subducting plates of the subducting shared sub-segment \"Ligurian Subduction\" at 35.0Ma\n",
      "    there are not exactly 2 topologies sharing the sub-segment.\n"
     ]
    },
    {
     "name": "stdout",
     "output_type": "stream",
     "text": [
      "working on file Data/Muller_etal_2016_AREPS_Agegrids_v1.11/netCDF_0-230Ma/EarthByte_AREPS_v1.11_Muller_etal_2016_AgeGrid-35.nc\n"
     ]
    },
    {
     "name": "stderr",
     "output_type": "stream",
     "text": [
      "Unable to find the overriding and subducting plates of the subducting shared sub-segment \"Ligurian Subduction\" at 36.0Ma\n",
      "    there are not exactly 2 topologies sharing the sub-segment.\n",
      "Unable to find the overriding and subducting plates of the subducting shared sub-segment \"Kermadec Trench DiCaprio\" at 36.0Ma\n",
      "    there are not exactly 2 topologies sharing the sub-segment.\n",
      "Unable to find the overriding and subducting plates of the subducting shared sub-segment \"Tonga Trench DiCaprio\" at 36.0Ma\n",
      "    there are not exactly 2 topologies sharing the sub-segment.\n"
     ]
    },
    {
     "name": "stdout",
     "output_type": "stream",
     "text": [
      "working on file Data/Muller_etal_2016_AREPS_Agegrids_v1.11/netCDF_0-230Ma/EarthByte_AREPS_v1.11_Muller_etal_2016_AgeGrid-36.nc\n"
     ]
    },
    {
     "name": "stderr",
     "output_type": "stream",
     "text": [
      "Unable to find the overriding and subducting plates of the subducting shared sub-segment \"Ligurian Subduction\" at 37.0Ma\n",
      "    there are not exactly 2 topologies sharing the sub-segment.\n"
     ]
    },
    {
     "name": "stdout",
     "output_type": "stream",
     "text": [
      "working on file Data/Muller_etal_2016_AREPS_Agegrids_v1.11/netCDF_0-230Ma/EarthByte_AREPS_v1.11_Muller_etal_2016_AgeGrid-37.nc\n"
     ]
    },
    {
     "name": "stderr",
     "output_type": "stream",
     "text": [
      "Unable to find the overriding and subducting plates of the subducting shared sub-segment \"Ligurian Subduction\" at 38.0Ma\n",
      "    there are not exactly 2 topologies sharing the sub-segment.\n"
     ]
    },
    {
     "name": "stdout",
     "output_type": "stream",
     "text": [
      "working on file Data/Muller_etal_2016_AREPS_Agegrids_v1.11/netCDF_0-230Ma/EarthByte_AREPS_v1.11_Muller_etal_2016_AgeGrid-38.nc\n"
     ]
    },
    {
     "name": "stderr",
     "output_type": "stream",
     "text": [
      "Unable to find the overriding and subducting plates of the subducting shared sub-segment \"Ligurian Subduction\" at 39.0Ma\n",
      "    there are not exactly 2 topologies sharing the sub-segment.\n"
     ]
    },
    {
     "name": "stdout",
     "output_type": "stream",
     "text": [
      "working on file Data/Muller_etal_2016_AREPS_Agegrids_v1.11/netCDF_0-230Ma/EarthByte_AREPS_v1.11_Muller_etal_2016_AgeGrid-39.nc\n"
     ]
    },
    {
     "name": "stderr",
     "output_type": "stream",
     "text": [
      "Unable to find the overriding and subducting plates of the subducting shared sub-segment \"Ligurian Subduction\" at 40.0Ma\n",
      "    there are not exactly 2 topologies sharing the sub-segment.\n"
     ]
    },
    {
     "name": "stdout",
     "output_type": "stream",
     "text": [
      "working on file Data/Muller_etal_2016_AREPS_Agegrids_v1.11/netCDF_0-230Ma/EarthByte_AREPS_v1.11_Muller_etal_2016_AgeGrid-40.nc\n"
     ]
    },
    {
     "name": "stderr",
     "output_type": "stream",
     "text": [
      "Unable to find the overriding and subducting plates of the subducting shared sub-segment \"Japan sub zone fromEarthByte cob MG 4-20-07\" at 41.0Ma\n",
      "    there are not exactly 2 topologies sharing the sub-segment.\n",
      "Unable to find the overriding and subducting plates of the subducting shared sub-segment \"Western NAM subduction\" at 41.0Ma\n",
      "    there are not exactly 2 topologies sharing the sub-segment.\n",
      "Unable to find the overriding and subducting plates of the subducting shared sub-segment \"Japan sub zone fromEarthByte cob MG 4-20-07 for IZA part 1\" at 41.0Ma\n",
      "    there are not exactly 2 topologies sharing the sub-segment.\n",
      "Unable to find the overriding and subducting plates of the subducting shared sub-segment \"\" at 41.0Ma\n",
      "    there are not exactly 2 topologies sharing the sub-segment.\n",
      "Unable to find the overriding and subducting plates of the subducting shared sub-segment \"\" at 41.0Ma\n",
      "    there are not exactly 2 topologies sharing the sub-segment.\n",
      "Unable to find the overriding and subducting plates of the subducting shared sub-segment \"\" at 41.0Ma\n",
      "    there are not exactly 2 topologies sharing the sub-segment.\n",
      "Unable to find the overriding and subducting plates of the subducting shared sub-segment \"\" at 41.0Ma\n",
      "    there are not exactly 2 topologies sharing the sub-segment.\n",
      "Unable to find the overriding and subducting plates of the subducting shared sub-segment \"\" at 41.0Ma\n",
      "    there are not exactly 2 topologies sharing the sub-segment.\n",
      "Unable to find the overriding and subducting plates of the subducting shared sub-segment \"South America trench taken from COB file\" at 41.0Ma\n",
      "    there are not exactly 2 topologies sharing the sub-segment.\n",
      "Unable to find the overriding and subducting plates of the subducting shared sub-segment \"South America trench taken from COB file\" at 41.0Ma\n",
      "    there are not exactly 2 topologies sharing the sub-segment.\n"
     ]
    },
    {
     "name": "stdout",
     "output_type": "stream",
     "text": [
      "working on file Data/Muller_etal_2016_AREPS_Agegrids_v1.11/netCDF_0-230Ma/EarthByte_AREPS_v1.11_Muller_etal_2016_AgeGrid-41.nc\n",
      "working on file Data/Muller_etal_2016_AREPS_Agegrids_v1.11/netCDF_0-230Ma/EarthByte_AREPS_v1.11_Muller_etal_2016_AgeGrid-42.nc\n",
      "working on file Data/Muller_etal_2016_AREPS_Agegrids_v1.11/netCDF_0-230Ma/EarthByte_AREPS_v1.11_Muller_etal_2016_AgeGrid-43.nc\n",
      "working on file Data/Muller_etal_2016_AREPS_Agegrids_v1.11/netCDF_0-230Ma/EarthByte_AREPS_v1.11_Muller_etal_2016_AgeGrid-44.nc\n",
      "working on file Data/Muller_etal_2016_AREPS_Agegrids_v1.11/netCDF_0-230Ma/EarthByte_AREPS_v1.11_Muller_etal_2016_AgeGrid-45.nc\n",
      "working on file Data/Muller_etal_2016_AREPS_Agegrids_v1.11/netCDF_0-230Ma/EarthByte_AREPS_v1.11_Muller_etal_2016_AgeGrid-46.nc\n",
      "working on file Data/Muller_etal_2016_AREPS_Agegrids_v1.11/netCDF_0-230Ma/EarthByte_AREPS_v1.11_Muller_etal_2016_AgeGrid-47.nc\n",
      "working on file Data/Muller_etal_2016_AREPS_Agegrids_v1.11/netCDF_0-230Ma/EarthByte_AREPS_v1.11_Muller_etal_2016_AgeGrid-48.nc\n",
      "working on file Data/Muller_etal_2016_AREPS_Agegrids_v1.11/netCDF_0-230Ma/EarthByte_AREPS_v1.11_Muller_etal_2016_AgeGrid-49.nc\n",
      "working on file Data/Muller_etal_2016_AREPS_Agegrids_v1.11/netCDF_0-230Ma/EarthByte_AREPS_v1.11_Muller_etal_2016_AgeGrid-50.nc\n"
     ]
    },
    {
     "name": "stderr",
     "output_type": "stream",
     "text": [
      "Unable to find the overriding and subducting plates of the subducting shared sub-segment \"Alpine Subduction\" at 51.0Ma\n",
      "    there are not exactly 2 topologies sharing the sub-segment.\n"
     ]
    },
    {
     "name": "stdout",
     "output_type": "stream",
     "text": [
      "working on file Data/Muller_etal_2016_AREPS_Agegrids_v1.11/netCDF_0-230Ma/EarthByte_AREPS_v1.11_Muller_etal_2016_AgeGrid-51.nc\n"
     ]
    },
    {
     "name": "stderr",
     "output_type": "stream",
     "text": [
      "Unable to find the overriding and subducting plates of the subducting shared sub-segment \"Alpine Subduction\" at 52.0Ma\n",
      "    there are not exactly 2 topologies sharing the sub-segment.\n"
     ]
    },
    {
     "name": "stdout",
     "output_type": "stream",
     "text": [
      "working on file Data/Muller_etal_2016_AREPS_Agegrids_v1.11/netCDF_0-230Ma/EarthByte_AREPS_v1.11_Muller_etal_2016_AgeGrid-52.nc\n"
     ]
    },
    {
     "name": "stderr",
     "output_type": "stream",
     "text": [
      "Unable to find the overriding and subducting plates of the subducting shared sub-segment \"Alpine Subduction\" at 53.0Ma\n",
      "    there are not exactly 2 topologies sharing the sub-segment.\n",
      "Unable to find the overriding and subducting plates of the subducting shared sub-segment \"MelanesiaVityaz DiCaprio\" at 53.0Ma\n",
      "    there are not exactly 2 topologies sharing the sub-segment.\n",
      "Unable to find the overriding and subducting plates of the subducting shared sub-segment \"MelanesiaVityaz DiCaprio\" at 53.0Ma\n",
      "    there are not exactly 2 topologies sharing the sub-segment.\n",
      "Unable to find the overriding and subducting plates of the subducting shared sub-segment \"West-dipping SZ that opens South Loyalty Basin\" at 53.0Ma\n",
      "    there are not exactly 2 topologies sharing the sub-segment.\n"
     ]
    },
    {
     "name": "stdout",
     "output_type": "stream",
     "text": [
      "working on file Data/Muller_etal_2016_AREPS_Agegrids_v1.11/netCDF_0-230Ma/EarthByte_AREPS_v1.11_Muller_etal_2016_AgeGrid-53.nc\n"
     ]
    },
    {
     "name": "stderr",
     "output_type": "stream",
     "text": [
      "Unable to find the overriding and subducting plates of the subducting shared sub-segment \"Subduction Zone - A Gibbons Phd 2012\" at 54.0Ma\n",
      "    there are not exactly 2 topologies sharing the sub-segment.\n",
      "Unable to find the overriding and subducting plates of the subducting shared sub-segment \"Subduction zone to close the Tethyan/Lhasa back-arc basin, southward jump after accretion\" at 54.0Ma\n",
      "    there are not exactly 2 topologies sharing the sub-segment.\n",
      "Unable to find the overriding and subducting plates of the subducting shared sub-segment \"Alpine Subduction\" at 54.0Ma\n",
      "    there are not exactly 2 topologies sharing the sub-segment.\n"
     ]
    },
    {
     "name": "stdout",
     "output_type": "stream",
     "text": [
      "working on file Data/Muller_etal_2016_AREPS_Agegrids_v1.11/netCDF_0-230Ma/EarthByte_AREPS_v1.11_Muller_etal_2016_AgeGrid-54.nc\n"
     ]
    },
    {
     "name": "stderr",
     "output_type": "stream",
     "text": [
      "Unable to find the overriding and subducting plates of the subducting shared sub-segment \"Alpine Subduction\" at 55.0Ma\n",
      "    there are not exactly 2 topologies sharing the sub-segment.\n",
      "Unable to find the overriding and subducting plates of the subducting shared sub-segment \"MelanesiaVityaz DiCaprio\" at 55.0Ma\n",
      "    there are not exactly 2 topologies sharing the sub-segment.\n",
      "Unable to find the overriding and subducting plates of the subducting shared sub-segment \"Subduction Zone - A Gibbons Phd 2012\" at 55.0Ma\n",
      "    there are not exactly 2 topologies sharing the sub-segment.\n",
      "Unable to find the overriding and subducting plates of the subducting shared sub-segment \"Subduction zone to close the Tethyan/Lhasa back-arc basin, southward jump after accretion\" at 55.0Ma\n",
      "    there are not exactly 2 topologies sharing the sub-segment.\n",
      "Unable to find the overriding and subducting plates of the subducting shared sub-segment \"Philippine Subduction\" at 55.0Ma\n",
      "    there are not exactly 2 topologies sharing the sub-segment.\n",
      "Unable to find the overriding and subducting plates of the subducting shared sub-segment \"SW-dipping SZ southeast of PNG to open BAB\" at 55.0Ma\n",
      "    there are not exactly 2 topologies sharing the sub-segment.\n"
     ]
    },
    {
     "name": "stdout",
     "output_type": "stream",
     "text": [
      "working on file Data/Muller_etal_2016_AREPS_Agegrids_v1.11/netCDF_0-230Ma/EarthByte_AREPS_v1.11_Muller_etal_2016_AgeGrid-55.nc\n"
     ]
    },
    {
     "name": "stderr",
     "output_type": "stream",
     "text": [
      "Unable to find the overriding and subducting plates of the subducting shared sub-segment \"Japan sub zone fromEarthByte cob MG 4-20-07\" at 56.0Ma\n",
      "    there are not exactly 2 topologies sharing the sub-segment.\n",
      "Unable to find the overriding and subducting plates of the subducting shared sub-segment \"Subduction Zone - A Gibbons Phd 2012\" at 56.0Ma\n",
      "    there are not exactly 2 topologies sharing the sub-segment.\n",
      "Unable to find the overriding and subducting plates of the subducting shared sub-segment \"Japan sub zone fromEarthByte cob MG 4-20-07 for IZA part 1\" at 56.0Ma\n",
      "    there are not exactly 2 topologies sharing the sub-segment.\n",
      "Unable to find the overriding and subducting plates of the subducting shared sub-segment \"Subduction zone to close the Tethyan/Lhasa back-arc basin, southward jump after accretion\" at 56.0Ma\n",
      "    there are not exactly 2 topologies sharing the sub-segment.\n"
     ]
    },
    {
     "name": "stdout",
     "output_type": "stream",
     "text": [
      "working on file Data/Muller_etal_2016_AREPS_Agegrids_v1.11/netCDF_0-230Ma/EarthByte_AREPS_v1.11_Muller_etal_2016_AgeGrid-56.nc\n"
     ]
    },
    {
     "name": "stderr",
     "output_type": "stream",
     "text": [
      "Unable to find the overriding and subducting plates of the subducting shared sub-segment \"Japan sub zone fromEarthByte cob MG 4-20-07\" at 57.0Ma\n",
      "    there are not exactly 2 topologies sharing the sub-segment.\n",
      "Unable to find the overriding and subducting plates of the subducting shared sub-segment \"Subduction Zone - A Gibbons Phd 2012\" at 57.0Ma\n",
      "    there are not exactly 2 topologies sharing the sub-segment.\n",
      "Unable to find the overriding and subducting plates of the subducting shared sub-segment \"Japan sub zone fromEarthByte cob MG 4-20-07 for IZA part 1\" at 57.0Ma\n",
      "    there are not exactly 2 topologies sharing the sub-segment.\n",
      "Unable to find the overriding and subducting plates of the subducting shared sub-segment \"Subduction zone to close the Tethyan/Lhasa back-arc basin, southward jump after accretion\" at 57.0Ma\n",
      "    there are not exactly 2 topologies sharing the sub-segment.\n"
     ]
    },
    {
     "name": "stdout",
     "output_type": "stream",
     "text": [
      "working on file Data/Muller_etal_2016_AREPS_Agegrids_v1.11/netCDF_0-230Ma/EarthByte_AREPS_v1.11_Muller_etal_2016_AgeGrid-57.nc\n"
     ]
    },
    {
     "name": "stderr",
     "output_type": "stream",
     "text": [
      "Unable to find the overriding and subducting plates of the subducting shared sub-segment \"Subduction Zone - A Gibbons Phd 2012\" at 58.0Ma\n",
      "    there are not exactly 2 topologies sharing the sub-segment.\n",
      "Unable to find the overriding and subducting plates of the subducting shared sub-segment \"Subduction zone to close the Tethyan/Lhasa back-arc basin, southward jump after accretion\" at 58.0Ma\n",
      "    there are not exactly 2 topologies sharing the sub-segment.\n"
     ]
    },
    {
     "name": "stdout",
     "output_type": "stream",
     "text": [
      "working on file Data/Muller_etal_2016_AREPS_Agegrids_v1.11/netCDF_0-230Ma/EarthByte_AREPS_v1.11_Muller_etal_2016_AgeGrid-58.nc\n"
     ]
    },
    {
     "name": "stderr",
     "output_type": "stream",
     "text": [
      "Unable to find the overriding and subducting plates of the subducting shared sub-segment \"Subduction Zone - A Gibbons Phd 2012\" at 59.0Ma\n",
      "    there are not exactly 2 topologies sharing the sub-segment.\n",
      "Unable to find the overriding and subducting plates of the subducting shared sub-segment \"Subduction zone to close the Tethyan/Lhasa back-arc basin, southward jump after accretion\" at 59.0Ma\n",
      "    there are not exactly 2 topologies sharing the sub-segment.\n"
     ]
    },
    {
     "name": "stdout",
     "output_type": "stream",
     "text": [
      "working on file Data/Muller_etal_2016_AREPS_Agegrids_v1.11/netCDF_0-230Ma/EarthByte_AREPS_v1.11_Muller_etal_2016_AgeGrid-59.nc\n"
     ]
    },
    {
     "name": "stderr",
     "output_type": "stream",
     "text": [
      "Unable to find the overriding and subducting plates of the subducting shared sub-segment \"Subduction Zone - A Gibbons Phd 2012\" at 60.0Ma\n",
      "    there are not exactly 2 topologies sharing the sub-segment.\n",
      "Unable to find the overriding and subducting plates of the subducting shared sub-segment \"Subduction zone to close the Tethyan/Lhasa back-arc basin, southward jump after accretion\" at 60.0Ma\n",
      "    there are not exactly 2 topologies sharing the sub-segment.\n"
     ]
    },
    {
     "name": "stdout",
     "output_type": "stream",
     "text": [
      "working on file Data/Muller_etal_2016_AREPS_Agegrids_v1.11/netCDF_0-230Ma/EarthByte_AREPS_v1.11_Muller_etal_2016_AgeGrid-60.nc\n",
      "working on file Data/Muller_etal_2016_AREPS_Agegrids_v1.11/netCDF_0-230Ma/EarthByte_AREPS_v1.11_Muller_etal_2016_AgeGrid-61.nc\n",
      "working on file Data/Muller_etal_2016_AREPS_Agegrids_v1.11/netCDF_0-230Ma/EarthByte_AREPS_v1.11_Muller_etal_2016_AgeGrid-62.nc\n",
      "working on file Data/Muller_etal_2016_AREPS_Agegrids_v1.11/netCDF_0-230Ma/EarthByte_AREPS_v1.11_Muller_etal_2016_AgeGrid-63.nc\n",
      "working on file Data/Muller_etal_2016_AREPS_Agegrids_v1.11/netCDF_0-230Ma/EarthByte_AREPS_v1.11_Muller_etal_2016_AgeGrid-64.nc\n",
      "working on file Data/Muller_etal_2016_AREPS_Agegrids_v1.11/netCDF_0-230Ma/EarthByte_AREPS_v1.11_Muller_etal_2016_AgeGrid-65.nc\n",
      "working on file Data/Muller_etal_2016_AREPS_Agegrids_v1.11/netCDF_0-230Ma/EarthByte_AREPS_v1.11_Muller_etal_2016_AgeGrid-66.nc\n"
     ]
    },
    {
     "name": "stderr",
     "output_type": "stream",
     "text": [
      "Unable to find the overriding and subducting plates of the subducting shared sub-segment \"TBD\" at 67.0Ma\n",
      "    there are not exactly 2 topologies sharing the sub-segment.\n"
     ]
    },
    {
     "name": "stdout",
     "output_type": "stream",
     "text": [
      "working on file Data/Muller_etal_2016_AREPS_Agegrids_v1.11/netCDF_0-230Ma/EarthByte_AREPS_v1.11_Muller_etal_2016_AgeGrid-67.nc\n"
     ]
    },
    {
     "name": "stderr",
     "output_type": "stream",
     "text": [
      "Unable to find the overriding and subducting plates of the subducting shared sub-segment \"ANT NAZ 060 015 TF\" at 68.0Ma\n",
      "    there are not exactly 2 topologies sharing the sub-segment.\n",
      "Unable to find the overriding and subducting plates of the subducting shared sub-segment \"TBD\" at 68.0Ma\n",
      "    there are not exactly 2 topologies sharing the sub-segment.\n",
      "Unable to find the overriding and subducting plates of the subducting shared sub-segment \"South America trench taken from COB file\" at 68.0Ma\n",
      "    there are not exactly 2 topologies sharing the sub-segment.\n",
      "Unable to find the overriding and subducting plates of the subducting shared sub-segment \"Antarctic-Aluk subduction zone\" at 68.0Ma\n",
      "    there are not exactly 2 topologies sharing the sub-segment.\n"
     ]
    },
    {
     "name": "stdout",
     "output_type": "stream",
     "text": [
      "working on file Data/Muller_etal_2016_AREPS_Agegrids_v1.11/netCDF_0-230Ma/EarthByte_AREPS_v1.11_Muller_etal_2016_AgeGrid-68.nc\n"
     ]
    },
    {
     "name": "stderr",
     "output_type": "stream",
     "text": [
      "Unable to find the overriding and subducting plates of the subducting shared sub-segment \"TBD\" at 69.0Ma\n",
      "    there are not exactly 2 topologies sharing the sub-segment.\n"
     ]
    },
    {
     "name": "stdout",
     "output_type": "stream",
     "text": [
      "working on file Data/Muller_etal_2016_AREPS_Agegrids_v1.11/netCDF_0-230Ma/EarthByte_AREPS_v1.11_Muller_etal_2016_AgeGrid-69.nc\n",
      "working on file Data/Muller_etal_2016_AREPS_Agegrids_v1.11/netCDF_0-230Ma/EarthByte_AREPS_v1.11_Muller_etal_2016_AgeGrid-70.nc\n",
      "working on file Data/Muller_etal_2016_AREPS_Agegrids_v1.11/netCDF_0-230Ma/EarthByte_AREPS_v1.11_Muller_etal_2016_AgeGrid-71.nc\n",
      "working on file Data/Muller_etal_2016_AREPS_Agegrids_v1.11/netCDF_0-230Ma/EarthByte_AREPS_v1.11_Muller_etal_2016_AgeGrid-72.nc\n",
      "working on file Data/Muller_etal_2016_AREPS_Agegrids_v1.11/netCDF_0-230Ma/EarthByte_AREPS_v1.11_Muller_etal_2016_AgeGrid-73.nc\n",
      "working on file Data/Muller_etal_2016_AREPS_Agegrids_v1.11/netCDF_0-230Ma/EarthByte_AREPS_v1.11_Muller_etal_2016_AgeGrid-74.nc\n",
      "working on file Data/Muller_etal_2016_AREPS_Agegrids_v1.11/netCDF_0-230Ma/EarthByte_AREPS_v1.11_Muller_etal_2016_AgeGrid-75.nc\n",
      "working on file Data/Muller_etal_2016_AREPS_Agegrids_v1.11/netCDF_0-230Ma/EarthByte_AREPS_v1.11_Muller_etal_2016_AgeGrid-76.nc\n",
      "working on file Data/Muller_etal_2016_AREPS_Agegrids_v1.11/netCDF_0-230Ma/EarthByte_AREPS_v1.11_Muller_etal_2016_AgeGrid-77.nc\n",
      "working on file Data/Muller_etal_2016_AREPS_Agegrids_v1.11/netCDF_0-230Ma/EarthByte_AREPS_v1.11_Muller_etal_2016_AgeGrid-78.nc\n",
      "working on file Data/Muller_etal_2016_AREPS_Agegrids_v1.11/netCDF_0-230Ma/EarthByte_AREPS_v1.11_Muller_etal_2016_AgeGrid-79.nc\n",
      "working on file Data/Muller_etal_2016_AREPS_Agegrids_v1.11/netCDF_0-230Ma/EarthByte_AREPS_v1.11_Muller_etal_2016_AgeGrid-80.nc\n"
     ]
    },
    {
     "name": "stderr",
     "output_type": "stream",
     "text": [
      "Unable to find the overriding and subducting plates of the subducting shared sub-segment \"Proto Molucca Plate subduction\" at 81.0Ma\n",
      "    there are not exactly 2 topologies sharing the sub-segment.\n"
     ]
    },
    {
     "name": "stdout",
     "output_type": "stream",
     "text": [
      "working on file Data/Muller_etal_2016_AREPS_Agegrids_v1.11/netCDF_0-230Ma/EarthByte_AREPS_v1.11_Muller_etal_2016_AgeGrid-81.nc\n",
      "working on file Data/Muller_etal_2016_AREPS_Agegrids_v1.11/netCDF_0-230Ma/EarthByte_AREPS_v1.11_Muller_etal_2016_AgeGrid-82.nc\n",
      "working on file Data/Muller_etal_2016_AREPS_Agegrids_v1.11/netCDF_0-230Ma/EarthByte_AREPS_v1.11_Muller_etal_2016_AgeGrid-83.nc\n",
      "working on file Data/Muller_etal_2016_AREPS_Agegrids_v1.11/netCDF_0-230Ma/EarthByte_AREPS_v1.11_Muller_etal_2016_AgeGrid-84.nc\n",
      "working on file Data/Muller_etal_2016_AREPS_Agegrids_v1.11/netCDF_0-230Ma/EarthByte_AREPS_v1.11_Muller_etal_2016_AgeGrid-85.nc\n"
     ]
    },
    {
     "name": "stderr",
     "output_type": "stream",
     "text": [
      "Unable to find the overriding and subducting plates of the subducting shared sub-segment \"Sunda Jurassic-Cretaceous subduction\" at 86.0Ma\n",
      "    there are not exactly 2 topologies sharing the sub-segment.\n",
      "Unable to find the overriding and subducting plates of the subducting shared sub-segment \"Woyla and Proto Andaman Sea Subduction\" at 86.0Ma\n",
      "    there are not exactly 2 topologies sharing the sub-segment.\n",
      "Unable to find the overriding and subducting plates of the subducting shared sub-segment \"Woyla and Proto Andaman Sea Subduction\" at 86.0Ma\n",
      "    there are not exactly 2 topologies sharing the sub-segment.\n",
      "Unable to find the overriding and subducting plates of the subducting shared sub-segment \"Barito Sea Subduction\" at 86.0Ma\n",
      "    there are not exactly 2 topologies sharing the sub-segment.\n",
      "Unable to find the overriding and subducting plates of the subducting shared sub-segment \"Barito Sea Subduction\" at 86.0Ma\n",
      "    there are not exactly 2 topologies sharing the sub-segment.\n"
     ]
    },
    {
     "name": "stdout",
     "output_type": "stream",
     "text": [
      "working on file Data/Muller_etal_2016_AREPS_Agegrids_v1.11/netCDF_0-230Ma/EarthByte_AREPS_v1.11_Muller_etal_2016_AgeGrid-86.nc\n",
      "working on file Data/Muller_etal_2016_AREPS_Agegrids_v1.11/netCDF_0-230Ma/EarthByte_AREPS_v1.11_Muller_etal_2016_AgeGrid-87.nc\n",
      "working on file Data/Muller_etal_2016_AREPS_Agegrids_v1.11/netCDF_0-230Ma/EarthByte_AREPS_v1.11_Muller_etal_2016_AgeGrid-88.nc\n",
      "working on file Data/Muller_etal_2016_AREPS_Agegrids_v1.11/netCDF_0-230Ma/EarthByte_AREPS_v1.11_Muller_etal_2016_AgeGrid-89.nc\n",
      "working on file Data/Muller_etal_2016_AREPS_Agegrids_v1.11/netCDF_0-230Ma/EarthByte_AREPS_v1.11_Muller_etal_2016_AgeGrid-90.nc\n",
      "working on file Data/Muller_etal_2016_AREPS_Agegrids_v1.11/netCDF_0-230Ma/EarthByte_AREPS_v1.11_Muller_etal_2016_AgeGrid-91.nc\n",
      "working on file Data/Muller_etal_2016_AREPS_Agegrids_v1.11/netCDF_0-230Ma/EarthByte_AREPS_v1.11_Muller_etal_2016_AgeGrid-92.nc\n",
      "working on file Data/Muller_etal_2016_AREPS_Agegrids_v1.11/netCDF_0-230Ma/EarthByte_AREPS_v1.11_Muller_etal_2016_AgeGrid-93.nc\n"
     ]
    },
    {
     "name": "stderr",
     "output_type": "stream",
     "text": [
      "Unable to find the overriding and subducting plates of the subducting shared sub-segment \"Chatham Rise subduction KM\" at 94.0Ma\n",
      "    there are not exactly 2 topologies sharing the sub-segment.\n",
      "Unable to find the overriding and subducting plates of the subducting shared sub-segment \"Challenger Plateau NE margin\" at 94.0Ma\n",
      "    there are not exactly 2 topologies sharing the sub-segment.\n"
     ]
    },
    {
     "name": "stdout",
     "output_type": "stream",
     "text": [
      "working on file Data/Muller_etal_2016_AREPS_Agegrids_v1.11/netCDF_0-230Ma/EarthByte_AREPS_v1.11_Muller_etal_2016_AgeGrid-94.nc\n"
     ]
    },
    {
     "name": "stderr",
     "output_type": "stream",
     "text": [
      "Unable to find the overriding and subducting plates of the subducting shared sub-segment \"Chatham Rise subduction KM\" at 95.0Ma\n",
      "    there are not exactly 2 topologies sharing the sub-segment.\n",
      "Unable to find the overriding and subducting plates of the subducting shared sub-segment \"Challenger Plateau NE margin\" at 95.0Ma\n",
      "    there are not exactly 2 topologies sharing the sub-segment.\n"
     ]
    },
    {
     "name": "stdout",
     "output_type": "stream",
     "text": [
      "working on file Data/Muller_etal_2016_AREPS_Agegrids_v1.11/netCDF_0-230Ma/EarthByte_AREPS_v1.11_Muller_etal_2016_AgeGrid-95.nc\n"
     ]
    },
    {
     "name": "stderr",
     "output_type": "stream",
     "text": [
      "Unable to find the overriding and subducting plates of the subducting shared sub-segment \"Philippines Late Cretaceous back-arc\" at 96.0Ma\n",
      "    there are not exactly 2 topologies sharing the sub-segment.\n",
      "Unable to find the overriding and subducting plates of the subducting shared sub-segment \"Chatham Rise subduction KM\" at 96.0Ma\n",
      "    there are not exactly 2 topologies sharing the sub-segment.\n",
      "Unable to find the overriding and subducting plates of the subducting shared sub-segment \"Challenger Plateau NE margin\" at 96.0Ma\n",
      "    there are not exactly 2 topologies sharing the sub-segment.\n"
     ]
    },
    {
     "name": "stdout",
     "output_type": "stream",
     "text": [
      "working on file Data/Muller_etal_2016_AREPS_Agegrids_v1.11/netCDF_0-230Ma/EarthByte_AREPS_v1.11_Muller_etal_2016_AgeGrid-96.nc\n"
     ]
    },
    {
     "name": "stderr",
     "output_type": "stream",
     "text": [
      "Unable to find the overriding and subducting plates of the subducting shared sub-segment \"West Ant SZ\" at 97.0Ma\n",
      "    there are not exactly 2 topologies sharing the sub-segment.\n",
      "Unable to find the overriding and subducting plates of the subducting shared sub-segment \"West Ant SZ\" at 97.0Ma\n",
      "    there are not exactly 2 topologies sharing the sub-segment.\n",
      "Unable to find the overriding and subducting plates of the subducting shared sub-segment \"Philippines Late Cretaceous back-arc\" at 97.0Ma\n",
      "    there are not exactly 2 topologies sharing the sub-segment.\n",
      "Unable to find the overriding plate of the subducting shared sub-segment \"Chatham Rise subduction KM\" at 97.0Ma\n",
      "    both sharing topologies are on subducting side of subducting line.\n",
      "Unable to find the overriding and subducting plates of the subducting shared sub-segment \"Chatham Rise subduction KM\" at 97.0Ma\n",
      "    there are not exactly 2 topologies sharing the sub-segment.\n",
      "Unable to find the overriding and subducting plates of the subducting shared sub-segment \"Challenger Plateau NE margin\" at 97.0Ma\n",
      "    there are not exactly 2 topologies sharing the sub-segment.\n",
      "Unable to find the overriding and subducting plates of the subducting shared sub-segment \"Challenger Plateau NE margin\" at 97.0Ma\n",
      "    there are not exactly 2 topologies sharing the sub-segment.\n",
      "Unable to find the overriding and subducting plates of the subducting shared sub-segment \"boundary LHR\" at 97.0Ma\n",
      "    there are not exactly 2 topologies sharing the sub-segment.\n",
      "Unable to find the overriding and subducting plates of the subducting shared sub-segment \"boundary LHR\" at 97.0Ma\n",
      "    there are not exactly 2 topologies sharing the sub-segment.\n"
     ]
    },
    {
     "name": "stdout",
     "output_type": "stream",
     "text": [
      "working on file Data/Muller_etal_2016_AREPS_Agegrids_v1.11/netCDF_0-230Ma/EarthByte_AREPS_v1.11_Muller_etal_2016_AgeGrid-97.nc\n"
     ]
    },
    {
     "name": "stderr",
     "output_type": "stream",
     "text": [
      "Unable to find the overriding and subducting plates of the subducting shared sub-segment \"Philippines Late Cretaceous back-arc\" at 98.0Ma\n",
      "    there are not exactly 2 topologies sharing the sub-segment.\n"
     ]
    },
    {
     "name": "stdout",
     "output_type": "stream",
     "text": [
      "working on file Data/Muller_etal_2016_AREPS_Agegrids_v1.11/netCDF_0-230Ma/EarthByte_AREPS_v1.11_Muller_etal_2016_AgeGrid-98.nc\n"
     ]
    },
    {
     "name": "stderr",
     "output_type": "stream",
     "text": [
      "Unable to find the overriding and subducting plates of the subducting shared sub-segment \"Jarrod\" at 99.0Ma\n",
      "    there are not exactly 2 topologies sharing the sub-segment.\n",
      "Unable to find the overriding and subducting plates of the subducting shared sub-segment \"Chatham Rise subduction KM\" at 99.0Ma\n",
      "    there are not exactly 2 topologies sharing the sub-segment.\n"
     ]
    },
    {
     "name": "stdout",
     "output_type": "stream",
     "text": [
      "working on file Data/Muller_etal_2016_AREPS_Agegrids_v1.11/netCDF_0-230Ma/EarthByte_AREPS_v1.11_Muller_etal_2016_AgeGrid-99.nc\n"
     ]
    },
    {
     "name": "stderr",
     "output_type": "stream",
     "text": [
      "Unable to find the overriding and subducting plates of the subducting shared sub-segment \"Jarrod\" at 100.0Ma\n",
      "    there are not exactly 2 topologies sharing the sub-segment.\n",
      "Unable to find the overriding and subducting plates of the subducting shared sub-segment \"Northern cont. of Eastern Gondwanaland Active Margin\" at 100.0Ma\n",
      "    there are not exactly 2 topologies sharing the sub-segment.\n",
      "Unable to find the overriding and subducting plates of the subducting shared sub-segment \"Chatham Rise subduction KM\" at 100.0Ma\n",
      "    there are not exactly 2 topologies sharing the sub-segment.\n",
      "Unable to find the overriding and subducting plates of the subducting shared sub-segment \"Chatham Rise subduction KM\" at 100.0Ma\n",
      "    there are not exactly 2 topologies sharing the sub-segment.\n",
      "Unable to find the overriding plate of the subducting shared sub-segment \"Chatham Rise subduction KM\" at 100.0Ma\n",
      "    both sharing topologies are on subducting side of subducting line.\n",
      "Unable to find the overriding and subducting plates of the subducting shared sub-segment \"East Gondwana active margin\" at 100.0Ma\n",
      "    there are not exactly 2 topologies sharing the sub-segment.\n",
      "Unable to find the overriding and subducting plates of the subducting shared sub-segment \"East Gondwana active margin\" at 100.0Ma\n",
      "    there are not exactly 2 topologies sharing the sub-segment.\n",
      "Unable to find the overriding and subducting plates of the subducting shared sub-segment \"boundary LHR\" at 100.0Ma\n",
      "    there are not exactly 2 topologies sharing the sub-segment.\n"
     ]
    },
    {
     "name": "stdout",
     "output_type": "stream",
     "text": [
      "working on file Data/Muller_etal_2016_AREPS_Agegrids_v1.11/netCDF_0-230Ma/EarthByte_AREPS_v1.11_Muller_etal_2016_AgeGrid-100.nc\n",
      "working on file Data/Muller_etal_2016_AREPS_Agegrids_v1.11/netCDF_0-230Ma/EarthByte_AREPS_v1.11_Muller_etal_2016_AgeGrid-101.nc\n",
      "working on file Data/Muller_etal_2016_AREPS_Agegrids_v1.11/netCDF_0-230Ma/EarthByte_AREPS_v1.11_Muller_etal_2016_AgeGrid-102.nc\n",
      "working on file Data/Muller_etal_2016_AREPS_Agegrids_v1.11/netCDF_0-230Ma/EarthByte_AREPS_v1.11_Muller_etal_2016_AgeGrid-103.nc\n",
      "working on file Data/Muller_etal_2016_AREPS_Agegrids_v1.11/netCDF_0-230Ma/EarthByte_AREPS_v1.11_Muller_etal_2016_AgeGrid-104.nc\n",
      "working on file Data/Muller_etal_2016_AREPS_Agegrids_v1.11/netCDF_0-230Ma/EarthByte_AREPS_v1.11_Muller_etal_2016_AgeGrid-105.nc\n",
      "working on file Data/Muller_etal_2016_AREPS_Agegrids_v1.11/netCDF_0-230Ma/EarthByte_AREPS_v1.11_Muller_etal_2016_AgeGrid-106.nc\n",
      "working on file Data/Muller_etal_2016_AREPS_Agegrids_v1.11/netCDF_0-230Ma/EarthByte_AREPS_v1.11_Muller_etal_2016_AgeGrid-107.nc\n",
      "working on file Data/Muller_etal_2016_AREPS_Agegrids_v1.11/netCDF_0-230Ma/EarthByte_AREPS_v1.11_Muller_etal_2016_AgeGrid-108.nc\n",
      "working on file Data/Muller_etal_2016_AREPS_Agegrids_v1.11/netCDF_0-230Ma/EarthByte_AREPS_v1.11_Muller_etal_2016_AgeGrid-109.nc\n",
      "working on file Data/Muller_etal_2016_AREPS_Agegrids_v1.11/netCDF_0-230Ma/EarthByte_AREPS_v1.11_Muller_etal_2016_AgeGrid-110.nc\n"
     ]
    },
    {
     "name": "stderr",
     "output_type": "stream",
     "text": [
      "Unable to find the overriding and subducting plates of the subducting shared sub-segment \"Chatham Rise subduction KM\" at 111.0Ma\n",
      "    there are not exactly 2 topologies sharing the sub-segment.\n",
      "Unable to find the overriding and subducting plates of the subducting shared sub-segment \"East Gondwana active margin\" at 111.0Ma\n",
      "    there are not exactly 2 topologies sharing the sub-segment.\n"
     ]
    },
    {
     "name": "stdout",
     "output_type": "stream",
     "text": [
      "working on file Data/Muller_etal_2016_AREPS_Agegrids_v1.11/netCDF_0-230Ma/EarthByte_AREPS_v1.11_Muller_etal_2016_AgeGrid-111.nc\n",
      "working on file Data/Muller_etal_2016_AREPS_Agegrids_v1.11/netCDF_0-230Ma/EarthByte_AREPS_v1.11_Muller_etal_2016_AgeGrid-112.nc\n",
      "working on file Data/Muller_etal_2016_AREPS_Agegrids_v1.11/netCDF_0-230Ma/EarthByte_AREPS_v1.11_Muller_etal_2016_AgeGrid-113.nc\n",
      "working on file Data/Muller_etal_2016_AREPS_Agegrids_v1.11/netCDF_0-230Ma/EarthByte_AREPS_v1.11_Muller_etal_2016_AgeGrid-114.nc\n",
      "working on file Data/Muller_etal_2016_AREPS_Agegrids_v1.11/netCDF_0-230Ma/EarthByte_AREPS_v1.11_Muller_etal_2016_AgeGrid-115.nc\n",
      "working on file Data/Muller_etal_2016_AREPS_Agegrids_v1.11/netCDF_0-230Ma/EarthByte_AREPS_v1.11_Muller_etal_2016_AgeGrid-116.nc\n",
      "working on file Data/Muller_etal_2016_AREPS_Agegrids_v1.11/netCDF_0-230Ma/EarthByte_AREPS_v1.11_Muller_etal_2016_AgeGrid-117.nc\n",
      "working on file Data/Muller_etal_2016_AREPS_Agegrids_v1.11/netCDF_0-230Ma/EarthByte_AREPS_v1.11_Muller_etal_2016_AgeGrid-118.nc\n",
      "working on file Data/Muller_etal_2016_AREPS_Agegrids_v1.11/netCDF_0-230Ma/EarthByte_AREPS_v1.11_Muller_etal_2016_AgeGrid-119.nc\n",
      "working on file Data/Muller_etal_2016_AREPS_Agegrids_v1.11/netCDF_0-230Ma/EarthByte_AREPS_v1.11_Muller_etal_2016_AgeGrid-120.nc\n"
     ]
    },
    {
     "name": "stderr",
     "output_type": "stream",
     "text": [
      "Unable to find the overriding and subducting plates of the subducting shared sub-segment \"Challenger Plateau NE margin\" at 121.0Ma\n",
      "    there are not exactly 2 topologies sharing the sub-segment.\n",
      "Unable to find the overriding and subducting plates of the subducting shared sub-segment \"East Gondwana active margin\" at 121.0Ma\n",
      "    there are not exactly 2 topologies sharing the sub-segment.\n"
     ]
    },
    {
     "name": "stdout",
     "output_type": "stream",
     "text": [
      "working on file Data/Muller_etal_2016_AREPS_Agegrids_v1.11/netCDF_0-230Ma/EarthByte_AREPS_v1.11_Muller_etal_2016_AgeGrid-121.nc\n"
     ]
    },
    {
     "name": "stderr",
     "output_type": "stream",
     "text": [
      "Unable to find the overriding and subducting plates of the subducting shared sub-segment \"Koyukuk and Nutesyn Arc Subduction Zone Test GS\" at 122.0Ma\n",
      "    there are not exactly 2 topologies sharing the sub-segment.\n",
      "Unable to find the overriding and subducting plates of the subducting shared sub-segment \"Koyukuk and Nutesyn Arc Subduction Zone Test GS\" at 122.0Ma\n",
      "    there are not exactly 2 topologies sharing the sub-segment.\n",
      "Unable to find the overriding and subducting plates of the subducting shared sub-segment \"Koyukuk and Nutesyn Arc Subduction Zone Test GS\" at 122.0Ma\n",
      "    there are not exactly 2 topologies sharing the sub-segment.\n",
      "Unable to find the overriding and subducting plates of the subducting shared sub-segment \"Koyukuk and Nutesyn Arc Subduction Zone Test GS\" at 122.0Ma\n",
      "    there are not exactly 2 topologies sharing the sub-segment.\n",
      "Unable to find the overriding and subducting plates of the subducting shared sub-segment \"Challenger Plateau NE margin\" at 122.0Ma\n",
      "    there are not exactly 2 topologies sharing the sub-segment.\n",
      "Unable to find the overriding and subducting plates of the subducting shared sub-segment \"East Gondwana active margin\" at 122.0Ma\n",
      "    there are not exactly 2 topologies sharing the sub-segment.\n"
     ]
    },
    {
     "name": "stdout",
     "output_type": "stream",
     "text": [
      "working on file Data/Muller_etal_2016_AREPS_Agegrids_v1.11/netCDF_0-230Ma/EarthByte_AREPS_v1.11_Muller_etal_2016_AgeGrid-122.nc\n"
     ]
    },
    {
     "name": "stderr",
     "output_type": "stream",
     "text": [
      "Unable to find the overriding and subducting plates of the subducting shared sub-segment \"Koyukuk and Nutesyn Arc Subduction Zone Test GS\" at 123.0Ma\n",
      "    there are not exactly 2 topologies sharing the sub-segment.\n",
      "Unable to find the overriding and subducting plates of the subducting shared sub-segment \"Koyukuk and Nutesyn Arc Subduction Zone Test GS\" at 123.0Ma\n",
      "    there are not exactly 2 topologies sharing the sub-segment.\n",
      "Unable to find the overriding and subducting plates of the subducting shared sub-segment \"Koyukuk and Nutesyn Arc Subduction Zone Test GS\" at 123.0Ma\n",
      "    there are not exactly 2 topologies sharing the sub-segment.\n",
      "Unable to find the overriding and subducting plates of the subducting shared sub-segment \"Challenger Plateau NE margin\" at 123.0Ma\n",
      "    there are not exactly 2 topologies sharing the sub-segment.\n",
      "Unable to find the overriding and subducting plates of the subducting shared sub-segment \"East Gondwana active margin\" at 123.0Ma\n",
      "    there are not exactly 2 topologies sharing the sub-segment.\n"
     ]
    },
    {
     "name": "stdout",
     "output_type": "stream",
     "text": [
      "working on file Data/Muller_etal_2016_AREPS_Agegrids_v1.11/netCDF_0-230Ma/EarthByte_AREPS_v1.11_Muller_etal_2016_AgeGrid-123.nc\n"
     ]
    },
    {
     "name": "stderr",
     "output_type": "stream",
     "text": [
      "Unable to find the overriding and subducting plates of the subducting shared sub-segment \"Challenger Plateau NE margin\" at 124.0Ma\n",
      "    there are not exactly 2 topologies sharing the sub-segment.\n",
      "Unable to find the overriding and subducting plates of the subducting shared sub-segment \"East Gondwana active margin\" at 124.0Ma\n",
      "    there are not exactly 2 topologies sharing the sub-segment.\n"
     ]
    },
    {
     "name": "stdout",
     "output_type": "stream",
     "text": [
      "working on file Data/Muller_etal_2016_AREPS_Agegrids_v1.11/netCDF_0-230Ma/EarthByte_AREPS_v1.11_Muller_etal_2016_AgeGrid-124.nc\n"
     ]
    },
    {
     "name": "stderr",
     "output_type": "stream",
     "text": [
      "Unable to find the overriding and subducting plates of the subducting shared sub-segment \"Challenger Plateau NE margin\" at 125.0Ma\n",
      "    there are not exactly 2 topologies sharing the sub-segment.\n",
      "Unable to find the overriding and subducting plates of the subducting shared sub-segment \"East Gondwana active margin\" at 125.0Ma\n",
      "    there are not exactly 2 topologies sharing the sub-segment.\n"
     ]
    },
    {
     "name": "stdout",
     "output_type": "stream",
     "text": [
      "working on file Data/Muller_etal_2016_AREPS_Agegrids_v1.11/netCDF_0-230Ma/EarthByte_AREPS_v1.11_Muller_etal_2016_AgeGrid-125.nc\n"
     ]
    },
    {
     "name": "stderr",
     "output_type": "stream",
     "text": [
      "Unable to find the overriding and subducting plates of the subducting shared sub-segment \"Alpine Subduction\" at 126.0Ma\n",
      "    there are not exactly 2 topologies sharing the sub-segment.\n",
      "Unable to find the overriding and subducting plates of the subducting shared sub-segment \"Sub. East Ligurian Ocean\" at 126.0Ma\n",
      "    there are not exactly 2 topologies sharing the sub-segment.\n",
      "Unable to find the overriding and subducting plates of the subducting shared sub-segment \"Vardar Sea Subduction\" at 126.0Ma\n",
      "    there are not exactly 2 topologies sharing the sub-segment.\n",
      "Unable to find the overriding and subducting plates of the subducting shared sub-segment \"TBD\" at 126.0Ma\n",
      "    there are not exactly 2 topologies sharing the sub-segment.\n",
      "Unable to find the overriding and subducting plates of the subducting shared sub-segment \"TBD\" at 126.0Ma\n",
      "    there are not exactly 2 topologies sharing the sub-segment.\n",
      "Unable to find the overriding and subducting plates of the subducting shared sub-segment \"TBD\" at 126.0Ma\n",
      "    there are not exactly 2 topologies sharing the sub-segment.\n",
      "Unable to find the overriding and subducting plates of the subducting shared sub-segment \"Challenger Plateau NE margin\" at 126.0Ma\n",
      "    there are not exactly 2 topologies sharing the sub-segment.\n",
      "Unable to find the overriding and subducting plates of the subducting shared sub-segment \"East Gondwana active margin\" at 126.0Ma\n",
      "    there are not exactly 2 topologies sharing the sub-segment.\n",
      "Unable to find the overriding and subducting plates of the subducting shared sub-segment \"Tethyan subduction after Afgan block accretion\" at 126.0Ma\n",
      "    there are not exactly 2 topologies sharing the sub-segment.\n"
     ]
    },
    {
     "name": "stdout",
     "output_type": "stream",
     "text": [
      "working on file Data/Muller_etal_2016_AREPS_Agegrids_v1.11/netCDF_0-230Ma/EarthByte_AREPS_v1.11_Muller_etal_2016_AgeGrid-126.nc\n"
     ]
    },
    {
     "name": "stderr",
     "output_type": "stream",
     "text": [
      "Unable to find the overriding and subducting plates of the subducting shared sub-segment \"Challenger Plateau NE margin\" at 127.0Ma\n",
      "    there are not exactly 2 topologies sharing the sub-segment.\n",
      "Unable to find the overriding and subducting plates of the subducting shared sub-segment \"East Gondwana active margin\" at 127.0Ma\n",
      "    there are not exactly 2 topologies sharing the sub-segment.\n"
     ]
    },
    {
     "name": "stdout",
     "output_type": "stream",
     "text": [
      "working on file Data/Muller_etal_2016_AREPS_Agegrids_v1.11/netCDF_0-230Ma/EarthByte_AREPS_v1.11_Muller_etal_2016_AgeGrid-127.nc\n"
     ]
    },
    {
     "name": "stderr",
     "output_type": "stream",
     "text": [
      "Unable to find the overriding and subducting plates of the subducting shared sub-segment \"South America trench taken from COB file\" at 128.0Ma\n",
      "    there are not exactly 2 topologies sharing the sub-segment.\n",
      "Unable to find the overriding and subducting plates of the subducting shared sub-segment \"Challenger Plateau NE margin\" at 128.0Ma\n",
      "    there are not exactly 2 topologies sharing the sub-segment.\n",
      "Unable to find the overriding and subducting plates of the subducting shared sub-segment \"East Gondwana active margin\" at 128.0Ma\n",
      "    there are not exactly 2 topologies sharing the sub-segment.\n"
     ]
    },
    {
     "name": "stdout",
     "output_type": "stream",
     "text": [
      "working on file Data/Muller_etal_2016_AREPS_Agegrids_v1.11/netCDF_0-230Ma/EarthByte_AREPS_v1.11_Muller_etal_2016_AgeGrid-128.nc\n"
     ]
    },
    {
     "name": "stderr",
     "output_type": "stream",
     "text": [
      "Unable to find the overriding and subducting plates of the subducting shared sub-segment \"Challenger Plateau NE margin\" at 129.0Ma\n",
      "    there are not exactly 2 topologies sharing the sub-segment.\n",
      "Unable to find the overriding and subducting plates of the subducting shared sub-segment \"East Gondwana active margin\" at 129.0Ma\n",
      "    there are not exactly 2 topologies sharing the sub-segment.\n"
     ]
    },
    {
     "name": "stdout",
     "output_type": "stream",
     "text": [
      "working on file Data/Muller_etal_2016_AREPS_Agegrids_v1.11/netCDF_0-230Ma/EarthByte_AREPS_v1.11_Muller_etal_2016_AgeGrid-129.nc\n"
     ]
    },
    {
     "name": "stderr",
     "output_type": "stream",
     "text": [
      "Unable to find the overriding and subducting plates of the subducting shared sub-segment \"Vardar Sea Subduction\" at 130.0Ma\n",
      "    there are not exactly 2 topologies sharing the sub-segment.\n",
      "Unable to find the overriding and subducting plates of the subducting shared sub-segment \"Vadar Sea subduction 170Ma geom\" at 130.0Ma\n",
      "    there are not exactly 2 topologies sharing the sub-segment.\n",
      "Unable to find the overriding and subducting plates of the subducting shared sub-segment \"Challenger Plateau NE margin\" at 130.0Ma\n",
      "    there are not exactly 2 topologies sharing the sub-segment.\n",
      "Unable to find the overriding and subducting plates of the subducting shared sub-segment \"East Gondwana active margin\" at 130.0Ma\n",
      "    there are not exactly 2 topologies sharing the sub-segment.\n"
     ]
    },
    {
     "name": "stdout",
     "output_type": "stream",
     "text": [
      "working on file Data/Muller_etal_2016_AREPS_Agegrids_v1.11/netCDF_0-230Ma/EarthByte_AREPS_v1.11_Muller_etal_2016_AgeGrid-130.nc\n"
     ]
    },
    {
     "name": "stderr",
     "output_type": "stream",
     "text": [
      "Unable to find the overriding and subducting plates of the subducting shared sub-segment \"Koyukuk and Nutesyn Subduction Zone GS\" at 131.0Ma\n",
      "    there are not exactly 2 topologies sharing the sub-segment.\n",
      "Unable to find the overriding and subducting plates of the subducting shared sub-segment \"Koyukuk and Nutesyn Arc Subduction Zone Test GS\" at 131.0Ma\n",
      "    there are not exactly 2 topologies sharing the sub-segment.\n"
     ]
    },
    {
     "name": "stdout",
     "output_type": "stream",
     "text": [
      "working on file Data/Muller_etal_2016_AREPS_Agegrids_v1.11/netCDF_0-230Ma/EarthByte_AREPS_v1.11_Muller_etal_2016_AgeGrid-131.nc\n"
     ]
    },
    {
     "name": "stderr",
     "output_type": "stream",
     "text": [
      "Unable to find the overriding and subducting plates of the subducting shared sub-segment \"Japan sub zone fromEarthByte cob MG 4-20-07\" at 132.0Ma\n",
      "    there are not exactly 2 topologies sharing the sub-segment.\n",
      "Unable to find the overriding and subducting plates of the subducting shared sub-segment \"Okinawa Trough (Ryuku) from EarthByte cob MG 4-20-07\" at 132.0Ma\n",
      "    there are not exactly 2 topologies sharing the sub-segment.\n",
      "Unable to find the overriding and subducting plates of the subducting shared sub-segment \"Uda-Murgal Subduction Zone GS\" at 132.0Ma\n",
      "    there are not exactly 2 topologies sharing the sub-segment.\n",
      "Unable to find the overriding and subducting plates of the subducting shared sub-segment \"Vardar Sea Subduction\" at 132.0Ma\n",
      "    there are not exactly 2 topologies sharing the sub-segment.\n",
      "Unable to find the overriding and subducting plates of the subducting shared sub-segment \"Vadar Sea subduction 170Ma geom\" at 132.0Ma\n",
      "    there are not exactly 2 topologies sharing the sub-segment.\n"
     ]
    },
    {
     "name": "stdout",
     "output_type": "stream",
     "text": [
      "working on file Data/Muller_etal_2016_AREPS_Agegrids_v1.11/netCDF_0-230Ma/EarthByte_AREPS_v1.11_Muller_etal_2016_AgeGrid-132.nc\n"
     ]
    },
    {
     "name": "stderr",
     "output_type": "stream",
     "text": [
      "Unable to find the overriding and subducting plates of the subducting shared sub-segment \"Vardar Sea Subduction\" at 133.0Ma\n",
      "    there are not exactly 2 topologies sharing the sub-segment.\n",
      "Unable to find the overriding and subducting plates of the subducting shared sub-segment \"TBD\" at 133.0Ma\n",
      "    there are not exactly 2 topologies sharing the sub-segment.\n",
      "Unable to find the overriding and subducting plates of the subducting shared sub-segment \"TBD\" at 133.0Ma\n",
      "    there are not exactly 2 topologies sharing the sub-segment.\n",
      "Unable to find the overriding and subducting plates of the subducting shared sub-segment \"TBD\" at 133.0Ma\n",
      "    there are not exactly 2 topologies sharing the sub-segment.\n",
      "Unable to find the overriding and subducting plates of the subducting shared sub-segment \"Vadar Sea subduction 170Ma geom\" at 133.0Ma\n",
      "    there are not exactly 2 topologies sharing the sub-segment.\n"
     ]
    },
    {
     "name": "stdout",
     "output_type": "stream",
     "text": [
      "working on file Data/Muller_etal_2016_AREPS_Agegrids_v1.11/netCDF_0-230Ma/EarthByte_AREPS_v1.11_Muller_etal_2016_AgeGrid-133.nc\n"
     ]
    },
    {
     "name": "stderr",
     "output_type": "stream",
     "text": [
      "Unable to find the overriding and subducting plates of the subducting shared sub-segment \"TBD\" at 134.0Ma\n",
      "    there are not exactly 2 topologies sharing the sub-segment.\n",
      "Unable to find the overriding and subducting plates of the subducting shared sub-segment \"TBD\" at 134.0Ma\n",
      "    there are not exactly 2 topologies sharing the sub-segment.\n",
      "Unable to find the overriding and subducting plates of the subducting shared sub-segment \"TBD\" at 134.0Ma\n",
      "    there are not exactly 2 topologies sharing the sub-segment.\n"
     ]
    },
    {
     "name": "stdout",
     "output_type": "stream",
     "text": [
      "working on file Data/Muller_etal_2016_AREPS_Agegrids_v1.11/netCDF_0-230Ma/EarthByte_AREPS_v1.11_Muller_etal_2016_AgeGrid-134.nc\n"
     ]
    },
    {
     "name": "stderr",
     "output_type": "stream",
     "text": [
      "Unable to find the overriding and subducting plates of the subducting shared sub-segment \"Vardar Sea Subduction\" at 135.0Ma\n",
      "    there are not exactly 2 topologies sharing the sub-segment.\n",
      "Unable to find the overriding and subducting plates of the subducting shared sub-segment \"TBD\" at 135.0Ma\n",
      "    there are not exactly 2 topologies sharing the sub-segment.\n",
      "Unable to find the overriding and subducting plates of the subducting shared sub-segment \"TBD\" at 135.0Ma\n",
      "    there are not exactly 2 topologies sharing the sub-segment.\n",
      "Unable to find the overriding and subducting plates of the subducting shared sub-segment \"TBD\" at 135.0Ma\n",
      "    there are not exactly 2 topologies sharing the sub-segment.\n",
      "Unable to find the overriding and subducting plates of the subducting shared sub-segment \"Vadar Sea subduction 170Ma geom\" at 135.0Ma\n",
      "    there are not exactly 2 topologies sharing the sub-segment.\n"
     ]
    },
    {
     "name": "stdout",
     "output_type": "stream",
     "text": [
      "working on file Data/Muller_etal_2016_AREPS_Agegrids_v1.11/netCDF_0-230Ma/EarthByte_AREPS_v1.11_Muller_etal_2016_AgeGrid-135.nc\n"
     ]
    },
    {
     "name": "stderr",
     "output_type": "stream",
     "text": [
      "Unable to find the overriding and subducting plates of the subducting shared sub-segment \"Nutesyn Arc Subduction Zone Test GS\" at 136.0Ma\n",
      "    there are not exactly 2 topologies sharing the sub-segment.\n",
      "Unable to find the overriding and subducting plates of the subducting shared sub-segment \"Nutesyn Arc Subduction Zone Test GS\" at 136.0Ma\n",
      "    there are not exactly 2 topologies sharing the sub-segment.\n"
     ]
    },
    {
     "name": "stdout",
     "output_type": "stream",
     "text": [
      "working on file Data/Muller_etal_2016_AREPS_Agegrids_v1.11/netCDF_0-230Ma/EarthByte_AREPS_v1.11_Muller_etal_2016_AgeGrid-136.nc\n"
     ]
    },
    {
     "name": "stderr",
     "output_type": "stream",
     "text": [
      "Unable to find the overriding and subducting plates of the subducting shared sub-segment \"Nutesyn Arc Subduction Zone Test GS\" at 137.0Ma\n",
      "    there are not exactly 2 topologies sharing the sub-segment.\n",
      "Unable to find the overriding and subducting plates of the subducting shared sub-segment \"Nutesyn Arc Subduction Zone Test GS\" at 137.0Ma\n",
      "    there are not exactly 2 topologies sharing the sub-segment.\n"
     ]
    },
    {
     "name": "stdout",
     "output_type": "stream",
     "text": [
      "working on file Data/Muller_etal_2016_AREPS_Agegrids_v1.11/netCDF_0-230Ma/EarthByte_AREPS_v1.11_Muller_etal_2016_AgeGrid-137.nc\n"
     ]
    },
    {
     "name": "stderr",
     "output_type": "stream",
     "text": [
      "Unable to find the overriding and subducting plates of the subducting shared sub-segment \"Nutesyn Arc Subduction Zone Test GS\" at 138.0Ma\n",
      "    there are not exactly 2 topologies sharing the sub-segment.\n",
      "Unable to find the overriding and subducting plates of the subducting shared sub-segment \"Nutesyn Arc Subduction Zone Test GS\" at 138.0Ma\n",
      "    there are not exactly 2 topologies sharing the sub-segment.\n"
     ]
    },
    {
     "name": "stdout",
     "output_type": "stream",
     "text": [
      "working on file Data/Muller_etal_2016_AREPS_Agegrids_v1.11/netCDF_0-230Ma/EarthByte_AREPS_v1.11_Muller_etal_2016_AgeGrid-138.nc\n"
     ]
    },
    {
     "name": "stderr",
     "output_type": "stream",
     "text": [
      "Unable to find the overriding and subducting plates of the subducting shared sub-segment \"Nutesyn Arc Subduction Zone Test GS\" at 139.0Ma\n",
      "    there are not exactly 2 topologies sharing the sub-segment.\n",
      "Unable to find the overriding and subducting plates of the subducting shared sub-segment \"Nutesyn Arc Subduction Zone Test GS\" at 139.0Ma\n",
      "    there are not exactly 2 topologies sharing the sub-segment.\n",
      "Unable to find the overriding and subducting plates of the subducting shared sub-segment \"Nutesyn Arc Subduction Zone Test GS\" at 139.0Ma\n",
      "    there are not exactly 2 topologies sharing the sub-segment.\n"
     ]
    },
    {
     "name": "stdout",
     "output_type": "stream",
     "text": [
      "working on file Data/Muller_etal_2016_AREPS_Agegrids_v1.11/netCDF_0-230Ma/EarthByte_AREPS_v1.11_Muller_etal_2016_AgeGrid-139.nc\n"
     ]
    },
    {
     "name": "stderr",
     "output_type": "stream",
     "text": [
      "Unable to find the overriding and subducting plates of the subducting shared sub-segment \"Koyukuk and Nutesyn Subduction Zone GS\" at 140.0Ma\n",
      "    there are not exactly 2 topologies sharing the sub-segment.\n",
      "Unable to find the overriding and subducting plates of the subducting shared sub-segment \"Nutesyn Arc Subduction Zone Test GS\" at 140.0Ma\n",
      "    there are not exactly 2 topologies sharing the sub-segment.\n"
     ]
    },
    {
     "name": "stdout",
     "output_type": "stream",
     "text": [
      "working on file Data/Muller_etal_2016_AREPS_Agegrids_v1.11/netCDF_0-230Ma/EarthByte_AREPS_v1.11_Muller_etal_2016_AgeGrid-140.nc\n"
     ]
    },
    {
     "name": "stderr",
     "output_type": "stream",
     "text": [
      "Unable to find the overriding and subducting plates of the subducting shared sub-segment \"Vardar Sea Subduction\" at 141.0Ma\n",
      "    there are not exactly 2 topologies sharing the sub-segment.\n",
      "Unable to find the overriding and subducting plates of the subducting shared sub-segment \"Vadar Sea subduction 170Ma geom\" at 141.0Ma\n",
      "    there are not exactly 2 topologies sharing the sub-segment.\n"
     ]
    },
    {
     "name": "stdout",
     "output_type": "stream",
     "text": [
      "working on file Data/Muller_etal_2016_AREPS_Agegrids_v1.11/netCDF_0-230Ma/EarthByte_AREPS_v1.11_Muller_etal_2016_AgeGrid-141.nc\n"
     ]
    },
    {
     "name": "stderr",
     "output_type": "stream",
     "text": [
      "Unable to find the overriding and subducting plates of the subducting shared sub-segment \"Vardar Sea Subduction\" at 142.0Ma\n",
      "    there are not exactly 2 topologies sharing the sub-segment.\n",
      "Unable to find the overriding and subducting plates of the subducting shared sub-segment \"Vadar Sea subduction 170Ma geom\" at 142.0Ma\n",
      "    there are not exactly 2 topologies sharing the sub-segment.\n"
     ]
    },
    {
     "name": "stdout",
     "output_type": "stream",
     "text": [
      "working on file Data/Muller_etal_2016_AREPS_Agegrids_v1.11/netCDF_0-230Ma/EarthByte_AREPS_v1.11_Muller_etal_2016_AgeGrid-142.nc\n",
      "working on file Data/Muller_etal_2016_AREPS_Agegrids_v1.11/netCDF_0-230Ma/EarthByte_AREPS_v1.11_Muller_etal_2016_AgeGrid-143.nc\n"
     ]
    },
    {
     "name": "stderr",
     "output_type": "stream",
     "text": [
      "Unable to find the overriding and subducting plates of the subducting shared sub-segment \"Oloy subduction zone  GS\" at 144.0Ma\n",
      "    there are not exactly 2 topologies sharing the sub-segment.\n"
     ]
    },
    {
     "name": "stdout",
     "output_type": "stream",
     "text": [
      "working on file Data/Muller_etal_2016_AREPS_Agegrids_v1.11/netCDF_0-230Ma/EarthByte_AREPS_v1.11_Muller_etal_2016_AgeGrid-144.nc\n"
     ]
    },
    {
     "name": "stderr",
     "output_type": "stream",
     "text": [
      "Unable to find the overriding and subducting plates of the subducting shared sub-segment \"Oloy subduction zone  GS\" at 145.0Ma\n",
      "    there are not exactly 2 topologies sharing the sub-segment.\n"
     ]
    },
    {
     "name": "stdout",
     "output_type": "stream",
     "text": [
      "working on file Data/Muller_etal_2016_AREPS_Agegrids_v1.11/netCDF_0-230Ma/EarthByte_AREPS_v1.11_Muller_etal_2016_AgeGrid-145.nc\n"
     ]
    },
    {
     "name": "stderr",
     "output_type": "stream",
     "text": [
      "Unable to find the overriding and subducting plates of the subducting shared sub-segment \"Oloy subduction zone  GS\" at 146.0Ma\n",
      "    there are not exactly 2 topologies sharing the sub-segment.\n"
     ]
    },
    {
     "name": "stdout",
     "output_type": "stream",
     "text": [
      "working on file Data/Muller_etal_2016_AREPS_Agegrids_v1.11/netCDF_0-230Ma/EarthByte_AREPS_v1.11_Muller_etal_2016_AgeGrid-146.nc\n"
     ]
    },
    {
     "name": "stderr",
     "output_type": "stream",
     "text": [
      "Unable to find the overriding and subducting plates of the subducting shared sub-segment \"Oloy subduction zone  GS\" at 147.0Ma\n",
      "    there are not exactly 2 topologies sharing the sub-segment.\n"
     ]
    },
    {
     "name": "stdout",
     "output_type": "stream",
     "text": [
      "working on file Data/Muller_etal_2016_AREPS_Agegrids_v1.11/netCDF_0-230Ma/EarthByte_AREPS_v1.11_Muller_etal_2016_AgeGrid-147.nc\n"
     ]
    },
    {
     "name": "stderr",
     "output_type": "stream",
     "text": [
      "Unable to find the overriding and subducting plates of the subducting shared sub-segment \"Oloy subduction zone  GS\" at 148.0Ma\n",
      "    there are not exactly 2 topologies sharing the sub-segment.\n"
     ]
    },
    {
     "name": "stdout",
     "output_type": "stream",
     "text": [
      "working on file Data/Muller_etal_2016_AREPS_Agegrids_v1.11/netCDF_0-230Ma/EarthByte_AREPS_v1.11_Muller_etal_2016_AgeGrid-148.nc\n",
      "working on file Data/Muller_etal_2016_AREPS_Agegrids_v1.11/netCDF_0-230Ma/EarthByte_AREPS_v1.11_Muller_etal_2016_AgeGrid-149.nc\n",
      "working on file Data/Muller_etal_2016_AREPS_Agegrids_v1.11/netCDF_0-230Ma/EarthByte_AREPS_v1.11_Muller_etal_2016_AgeGrid-150.nc\n",
      "working on file Data/Muller_etal_2016_AREPS_Agegrids_v1.11/netCDF_0-230Ma/EarthByte_AREPS_v1.11_Muller_etal_2016_AgeGrid-151.nc\n",
      "working on file Data/Muller_etal_2016_AREPS_Agegrids_v1.11/netCDF_0-230Ma/EarthByte_AREPS_v1.11_Muller_etal_2016_AgeGrid-152.nc\n",
      "working on file Data/Muller_etal_2016_AREPS_Agegrids_v1.11/netCDF_0-230Ma/EarthByte_AREPS_v1.11_Muller_etal_2016_AgeGrid-153.nc\n",
      "working on file Data/Muller_etal_2016_AREPS_Agegrids_v1.11/netCDF_0-230Ma/EarthByte_AREPS_v1.11_Muller_etal_2016_AgeGrid-154.nc\n"
     ]
    },
    {
     "name": "stderr",
     "output_type": "stream",
     "text": [
      "Unable to find the overriding and subducting plates of the subducting shared sub-segment \"Tethyan subduction after Afgan block accretion\" at 155.0Ma\n",
      "    there are not exactly 2 topologies sharing the sub-segment.\n"
     ]
    },
    {
     "name": "stdout",
     "output_type": "stream",
     "text": [
      "working on file Data/Muller_etal_2016_AREPS_Agegrids_v1.11/netCDF_0-230Ma/EarthByte_AREPS_v1.11_Muller_etal_2016_AgeGrid-155.nc\n",
      "working on file Data/Muller_etal_2016_AREPS_Agegrids_v1.11/netCDF_0-230Ma/EarthByte_AREPS_v1.11_Muller_etal_2016_AgeGrid-156.nc\n",
      "working on file Data/Muller_etal_2016_AREPS_Agegrids_v1.11/netCDF_0-230Ma/EarthByte_AREPS_v1.11_Muller_etal_2016_AgeGrid-157.nc\n",
      "working on file Data/Muller_etal_2016_AREPS_Agegrids_v1.11/netCDF_0-230Ma/EarthByte_AREPS_v1.11_Muller_etal_2016_AgeGrid-158.nc\n",
      "working on file Data/Muller_etal_2016_AREPS_Agegrids_v1.11/netCDF_0-230Ma/EarthByte_AREPS_v1.11_Muller_etal_2016_AgeGrid-159.nc\n"
     ]
    },
    {
     "name": "stderr",
     "output_type": "stream",
     "text": [
      "Unable to find the overriding and subducting plates of the subducting shared sub-segment \"Sunda Jurassic-Cretaceous subduction\" at 160.0Ma\n",
      "    there are not exactly 2 topologies sharing the sub-segment.\n",
      "Unable to find the overriding and subducting plates of the subducting shared sub-segment \"East Borneo subduction\" at 160.0Ma\n",
      "    there are not exactly 2 topologies sharing the sub-segment.\n",
      "Unable to find the overriding and subducting plates of the subducting shared sub-segment \"Junction SZ\" at 160.0Ma\n",
      "    there are not exactly 2 topologies sharing the sub-segment.\n"
     ]
    },
    {
     "name": "stdout",
     "output_type": "stream",
     "text": [
      "working on file Data/Muller_etal_2016_AREPS_Agegrids_v1.11/netCDF_0-230Ma/EarthByte_AREPS_v1.11_Muller_etal_2016_AgeGrid-160.nc\n",
      "working on file Data/Muller_etal_2016_AREPS_Agegrids_v1.11/netCDF_0-230Ma/EarthByte_AREPS_v1.11_Muller_etal_2016_AgeGrid-161.nc\n",
      "working on file Data/Muller_etal_2016_AREPS_Agegrids_v1.11/netCDF_0-230Ma/EarthByte_AREPS_v1.11_Muller_etal_2016_AgeGrid-162.nc\n",
      "working on file Data/Muller_etal_2016_AREPS_Agegrids_v1.11/netCDF_0-230Ma/EarthByte_AREPS_v1.11_Muller_etal_2016_AgeGrid-163.nc\n",
      "working on file Data/Muller_etal_2016_AREPS_Agegrids_v1.11/netCDF_0-230Ma/EarthByte_AREPS_v1.11_Muller_etal_2016_AgeGrid-164.nc\n",
      "working on file Data/Muller_etal_2016_AREPS_Agegrids_v1.11/netCDF_0-230Ma/EarthByte_AREPS_v1.11_Muller_etal_2016_AgeGrid-165.nc\n",
      "working on file Data/Muller_etal_2016_AREPS_Agegrids_v1.11/netCDF_0-230Ma/EarthByte_AREPS_v1.11_Muller_etal_2016_AgeGrid-166.nc\n"
     ]
    },
    {
     "name": "stderr",
     "output_type": "stream",
     "text": [
      "Unable to find the overriding and subducting plates of the subducting shared sub-segment \"Japan sub zone fromEarthByte cob MG 4-20-07\" at 167.0Ma\n",
      "    there are not exactly 2 topologies sharing the sub-segment.\n",
      "Unable to find the overriding and subducting plates of the subducting shared sub-segment \"Koni-Taigonos Subduction Zone GS\" at 167.0Ma\n",
      "    there are not exactly 2 topologies sharing the sub-segment.\n",
      "Unable to find the overriding and subducting plates of the subducting shared sub-segment \"East Asia subduction 250-150 Ma\" at 167.0Ma\n",
      "    there are not exactly 2 topologies sharing the sub-segment.\n"
     ]
    },
    {
     "name": "stdout",
     "output_type": "stream",
     "text": [
      "working on file Data/Muller_etal_2016_AREPS_Agegrids_v1.11/netCDF_0-230Ma/EarthByte_AREPS_v1.11_Muller_etal_2016_AgeGrid-167.nc\n"
     ]
    },
    {
     "name": "stderr",
     "output_type": "stream",
     "text": [
      "Unable to find the overriding and subducting plates of the subducting shared sub-segment \"Japan sub zone fromEarthByte cob MG 4-20-07\" at 168.0Ma\n",
      "    there are not exactly 2 topologies sharing the sub-segment.\n",
      "Unable to find the overriding and subducting plates of the subducting shared sub-segment \"Koni-Taigonos Subduction Zone GS\" at 168.0Ma\n",
      "    there are not exactly 2 topologies sharing the sub-segment.\n",
      "Unable to find the overriding and subducting plates of the subducting shared sub-segment \"East Asia subduction 250-150 Ma\" at 168.0Ma\n",
      "    there are not exactly 2 topologies sharing the sub-segment.\n"
     ]
    },
    {
     "name": "stdout",
     "output_type": "stream",
     "text": [
      "working on file Data/Muller_etal_2016_AREPS_Agegrids_v1.11/netCDF_0-230Ma/EarthByte_AREPS_v1.11_Muller_etal_2016_AgeGrid-168.nc\n",
      "working on file Data/Muller_etal_2016_AREPS_Agegrids_v1.11/netCDF_0-230Ma/EarthByte_AREPS_v1.11_Muller_etal_2016_AgeGrid-169.nc\n",
      "working on file Data/Muller_etal_2016_AREPS_Agegrids_v1.11/netCDF_0-230Ma/EarthByte_AREPS_v1.11_Muller_etal_2016_AgeGrid-170.nc\n",
      "working on file Data/Muller_etal_2016_AREPS_Agegrids_v1.11/netCDF_0-230Ma/EarthByte_AREPS_v1.11_Muller_etal_2016_AgeGrid-171.nc\n"
     ]
    },
    {
     "name": "stderr",
     "output_type": "stream",
     "text": [
      "Unable to find the overriding plate of the subducting shared sub-segment \"Koni-Taigonos Subduction Zone GS\" at 172.0Ma\n",
      "    both sharing topologies are on subducting side of subducting line.\n",
      "Unable to find the subducting plate of the subducting shared sub-segment \"Koni-Taigonos subduction\" at 172.0Ma\n",
      "    both sharing topologies are on overriding side of subducting line.\n"
     ]
    },
    {
     "name": "stdout",
     "output_type": "stream",
     "text": [
      "working on file Data/Muller_etal_2016_AREPS_Agegrids_v1.11/netCDF_0-230Ma/EarthByte_AREPS_v1.11_Muller_etal_2016_AgeGrid-172.nc\n",
      "working on file Data/Muller_etal_2016_AREPS_Agegrids_v1.11/netCDF_0-230Ma/EarthByte_AREPS_v1.11_Muller_etal_2016_AgeGrid-173.nc\n",
      "working on file Data/Muller_etal_2016_AREPS_Agegrids_v1.11/netCDF_0-230Ma/EarthByte_AREPS_v1.11_Muller_etal_2016_AgeGrid-174.nc\n",
      "working on file Data/Muller_etal_2016_AREPS_Agegrids_v1.11/netCDF_0-230Ma/EarthByte_AREPS_v1.11_Muller_etal_2016_AgeGrid-175.nc\n",
      "working on file Data/Muller_etal_2016_AREPS_Agegrids_v1.11/netCDF_0-230Ma/EarthByte_AREPS_v1.11_Muller_etal_2016_AgeGrid-176.nc\n",
      "working on file Data/Muller_etal_2016_AREPS_Agegrids_v1.11/netCDF_0-230Ma/EarthByte_AREPS_v1.11_Muller_etal_2016_AgeGrid-177.nc\n",
      "working on file Data/Muller_etal_2016_AREPS_Agegrids_v1.11/netCDF_0-230Ma/EarthByte_AREPS_v1.11_Muller_etal_2016_AgeGrid-178.nc\n",
      "working on file Data/Muller_etal_2016_AREPS_Agegrids_v1.11/netCDF_0-230Ma/EarthByte_AREPS_v1.11_Muller_etal_2016_AgeGrid-179.nc\n",
      "working on file Data/Muller_etal_2016_AREPS_Agegrids_v1.11/netCDF_0-230Ma/EarthByte_AREPS_v1.11_Muller_etal_2016_AgeGrid-180.nc\n"
     ]
    },
    {
     "name": "stderr",
     "output_type": "stream",
     "text": [
      "Unable to find the overriding and subducting plates of the subducting shared sub-segment \"Eastern Gondwana Subduction Zone\" at 181.0Ma\n",
      "    there are not exactly 2 topologies sharing the sub-segment.\n",
      "Unable to find the overriding and subducting plates of the subducting shared sub-segment \"South America trench taken from COB file and RUM\" at 181.0Ma\n",
      "    there are not exactly 2 topologies sharing the sub-segment.\n"
     ]
    },
    {
     "name": "stdout",
     "output_type": "stream",
     "text": [
      "working on file Data/Muller_etal_2016_AREPS_Agegrids_v1.11/netCDF_0-230Ma/EarthByte_AREPS_v1.11_Muller_etal_2016_AgeGrid-181.nc\n"
     ]
    },
    {
     "name": "stderr",
     "output_type": "stream",
     "text": [
      "Unable to find the overriding and subducting plates of the subducting shared sub-segment \"Eastern Gondwana Subduction Zone\" at 182.0Ma\n",
      "    there are not exactly 2 topologies sharing the sub-segment.\n",
      "Unable to find the overriding and subducting plates of the subducting shared sub-segment \"South America trench taken from COB file and RUM\" at 182.0Ma\n",
      "    there are not exactly 2 topologies sharing the sub-segment.\n"
     ]
    },
    {
     "name": "stdout",
     "output_type": "stream",
     "text": [
      "working on file Data/Muller_etal_2016_AREPS_Agegrids_v1.11/netCDF_0-230Ma/EarthByte_AREPS_v1.11_Muller_etal_2016_AgeGrid-182.nc\n"
     ]
    },
    {
     "name": "stderr",
     "output_type": "stream",
     "text": [
      "Unable to find the overriding and subducting plates of the subducting shared sub-segment \"South America trench taken from COB file and RUM\" at 183.0Ma\n",
      "    there are not exactly 2 topologies sharing the sub-segment.\n",
      "Unable to find the overriding and subducting plates of the subducting shared sub-segment \"Eastern Gondwana Subduction Zone\" at 183.0Ma\n",
      "    there are not exactly 2 topologies sharing the sub-segment.\n"
     ]
    },
    {
     "name": "stdout",
     "output_type": "stream",
     "text": [
      "working on file Data/Muller_etal_2016_AREPS_Agegrids_v1.11/netCDF_0-230Ma/EarthByte_AREPS_v1.11_Muller_etal_2016_AgeGrid-183.nc\n"
     ]
    },
    {
     "name": "stderr",
     "output_type": "stream",
     "text": [
      "Unable to find the overriding and subducting plates of the subducting shared sub-segment \"South America trench taken from COB file and RUM\" at 184.0Ma\n",
      "    there are not exactly 2 topologies sharing the sub-segment.\n",
      "Unable to find the overriding and subducting plates of the subducting shared sub-segment \"Eastern Gondwana Subduction Zone\" at 184.0Ma\n",
      "    there are not exactly 2 topologies sharing the sub-segment.\n"
     ]
    },
    {
     "name": "stdout",
     "output_type": "stream",
     "text": [
      "working on file Data/Muller_etal_2016_AREPS_Agegrids_v1.11/netCDF_0-230Ma/EarthByte_AREPS_v1.11_Muller_etal_2016_AgeGrid-184.nc\n"
     ]
    },
    {
     "name": "stderr",
     "output_type": "stream",
     "text": [
      "Unable to find the overriding and subducting plates of the subducting shared sub-segment \"Eastern Gondwana Subduction Zone\" at 185.0Ma\n",
      "    there are not exactly 2 topologies sharing the sub-segment.\n",
      "Unable to find the overriding and subducting plates of the subducting shared sub-segment \"South America trench taken from COB file and RUM\" at 185.0Ma\n",
      "    there are not exactly 2 topologies sharing the sub-segment.\n"
     ]
    },
    {
     "name": "stdout",
     "output_type": "stream",
     "text": [
      "working on file Data/Muller_etal_2016_AREPS_Agegrids_v1.11/netCDF_0-230Ma/EarthByte_AREPS_v1.11_Muller_etal_2016_AgeGrid-185.nc\n"
     ]
    },
    {
     "name": "stderr",
     "output_type": "stream",
     "text": [
      "Unable to find the overriding and subducting plates of the subducting shared sub-segment \"South America trench taken from COB file and RUM\" at 186.0Ma\n",
      "    there are not exactly 2 topologies sharing the sub-segment.\n",
      "Unable to find the overriding and subducting plates of the subducting shared sub-segment \"Eastern Gondwana Subduction Zone\" at 186.0Ma\n",
      "    there are not exactly 2 topologies sharing the sub-segment.\n"
     ]
    },
    {
     "name": "stdout",
     "output_type": "stream",
     "text": [
      "working on file Data/Muller_etal_2016_AREPS_Agegrids_v1.11/netCDF_0-230Ma/EarthByte_AREPS_v1.11_Muller_etal_2016_AgeGrid-186.nc\n"
     ]
    },
    {
     "name": "stderr",
     "output_type": "stream",
     "text": [
      "Unable to find the overriding and subducting plates of the subducting shared sub-segment \"Monghol-Okosk Subduction Zone MS\" at 187.0Ma\n",
      "    there are not exactly 2 topologies sharing the sub-segment.\n",
      "Unable to find the overriding and subducting plates of the subducting shared sub-segment \"Koni-Taigonos Subduction Zone GS\" at 187.0Ma\n",
      "    there are not exactly 2 topologies sharing the sub-segment.\n",
      "Unable to find the overriding and subducting plates of the subducting shared sub-segment \"East Asia subduction 250-150 Ma\" at 187.0Ma\n",
      "    there are not exactly 2 topologies sharing the sub-segment.\n"
     ]
    },
    {
     "name": "stdout",
     "output_type": "stream",
     "text": [
      "working on file Data/Muller_etal_2016_AREPS_Agegrids_v1.11/netCDF_0-230Ma/EarthByte_AREPS_v1.11_Muller_etal_2016_AgeGrid-187.nc\n"
     ]
    },
    {
     "name": "stderr",
     "output_type": "stream",
     "text": [
      "Unable to find the overriding and subducting plates of the subducting shared sub-segment \"Monghol-Okosk Subduction Zone MS\" at 188.0Ma\n",
      "    there are not exactly 2 topologies sharing the sub-segment.\n",
      "Unable to find the overriding and subducting plates of the subducting shared sub-segment \"Koni-Taigonos Subduction Zone GS\" at 188.0Ma\n",
      "    there are not exactly 2 topologies sharing the sub-segment.\n",
      "Unable to find the overriding and subducting plates of the subducting shared sub-segment \"East Asia subduction 250-150 Ma\" at 188.0Ma\n",
      "    there are not exactly 2 topologies sharing the sub-segment.\n"
     ]
    },
    {
     "name": "stdout",
     "output_type": "stream",
     "text": [
      "working on file Data/Muller_etal_2016_AREPS_Agegrids_v1.11/netCDF_0-230Ma/EarthByte_AREPS_v1.11_Muller_etal_2016_AgeGrid-188.nc\n"
     ]
    },
    {
     "name": "stderr",
     "output_type": "stream",
     "text": [
      "Unable to find the overriding and subducting plates of the subducting shared sub-segment \"East Asia subduction 250-150 Ma\" at 189.0Ma\n",
      "    there are not exactly 2 topologies sharing the sub-segment.\n",
      "Unable to find the overriding and subducting plates of the subducting shared sub-segment \"Monghol-Okosk Subduction Zone MS\" at 189.0Ma\n",
      "    there are not exactly 2 topologies sharing the sub-segment.\n",
      "Unable to find the overriding and subducting plates of the subducting shared sub-segment \"Koni-Taigonos Subduction Zone GS\" at 189.0Ma\n",
      "    there are not exactly 2 topologies sharing the sub-segment.\n"
     ]
    },
    {
     "name": "stdout",
     "output_type": "stream",
     "text": [
      "working on file Data/Muller_etal_2016_AREPS_Agegrids_v1.11/netCDF_0-230Ma/EarthByte_AREPS_v1.11_Muller_etal_2016_AgeGrid-189.nc\n"
     ]
    },
    {
     "name": "stderr",
     "output_type": "stream",
     "text": [
      "Unable to find the overriding and subducting plates of the subducting shared sub-segment \"Koni-Taigonos Subduction Zone GS\" at 190.0Ma\n",
      "    there are not exactly 2 topologies sharing the sub-segment.\n",
      "Unable to find the overriding and subducting plates of the subducting shared sub-segment \"Koni-Taigonos Subduction Zone GS\" at 190.0Ma\n",
      "    there are not exactly 2 topologies sharing the sub-segment.\n",
      "Unable to find the overriding and subducting plates of the subducting shared sub-segment \"East Asia subduction 250-150 Ma\" at 190.0Ma\n",
      "    there are not exactly 2 topologies sharing the sub-segment.\n",
      "Unable to find the overriding and subducting plates of the subducting shared sub-segment \"Monghol-Okosk Subduction Zone MS\" at 190.0Ma\n",
      "    there are not exactly 2 topologies sharing the sub-segment.\n"
     ]
    },
    {
     "name": "stdout",
     "output_type": "stream",
     "text": [
      "working on file Data/Muller_etal_2016_AREPS_Agegrids_v1.11/netCDF_0-230Ma/EarthByte_AREPS_v1.11_Muller_etal_2016_AgeGrid-190.nc\n",
      "working on file Data/Muller_etal_2016_AREPS_Agegrids_v1.11/netCDF_0-230Ma/EarthByte_AREPS_v1.11_Muller_etal_2016_AgeGrid-191.nc\n",
      "working on file Data/Muller_etal_2016_AREPS_Agegrids_v1.11/netCDF_0-230Ma/EarthByte_AREPS_v1.11_Muller_etal_2016_AgeGrid-192.nc\n",
      "working on file Data/Muller_etal_2016_AREPS_Agegrids_v1.11/netCDF_0-230Ma/EarthByte_AREPS_v1.11_Muller_etal_2016_AgeGrid-193.nc\n",
      "working on file Data/Muller_etal_2016_AREPS_Agegrids_v1.11/netCDF_0-230Ma/EarthByte_AREPS_v1.11_Muller_etal_2016_AgeGrid-194.nc\n",
      "working on file Data/Muller_etal_2016_AREPS_Agegrids_v1.11/netCDF_0-230Ma/EarthByte_AREPS_v1.11_Muller_etal_2016_AgeGrid-195.nc\n",
      "working on file Data/Muller_etal_2016_AREPS_Agegrids_v1.11/netCDF_0-230Ma/EarthByte_AREPS_v1.11_Muller_etal_2016_AgeGrid-196.nc\n",
      "working on file Data/Muller_etal_2016_AREPS_Agegrids_v1.11/netCDF_0-230Ma/EarthByte_AREPS_v1.11_Muller_etal_2016_AgeGrid-197.nc\n",
      "working on file Data/Muller_etal_2016_AREPS_Agegrids_v1.11/netCDF_0-230Ma/EarthByte_AREPS_v1.11_Muller_etal_2016_AgeGrid-198.nc\n",
      "working on file Data/Muller_etal_2016_AREPS_Agegrids_v1.11/netCDF_0-230Ma/EarthByte_AREPS_v1.11_Muller_etal_2016_AgeGrid-199.nc\n",
      "working on file Data/Muller_etal_2016_AREPS_Agegrids_v1.11/netCDF_0-230Ma/EarthByte_AREPS_v1.11_Muller_etal_2016_AgeGrid-200.nc\n",
      "working on file Data/Muller_etal_2016_AREPS_Agegrids_v1.11/netCDF_0-230Ma/EarthByte_AREPS_v1.11_Muller_etal_2016_AgeGrid-201.nc\n",
      "working on file Data/Muller_etal_2016_AREPS_Agegrids_v1.11/netCDF_0-230Ma/EarthByte_AREPS_v1.11_Muller_etal_2016_AgeGrid-202.nc\n",
      "working on file Data/Muller_etal_2016_AREPS_Agegrids_v1.11/netCDF_0-230Ma/EarthByte_AREPS_v1.11_Muller_etal_2016_AgeGrid-203.nc\n",
      "working on file Data/Muller_etal_2016_AREPS_Agegrids_v1.11/netCDF_0-230Ma/EarthByte_AREPS_v1.11_Muller_etal_2016_AgeGrid-204.nc\n",
      "working on file Data/Muller_etal_2016_AREPS_Agegrids_v1.11/netCDF_0-230Ma/EarthByte_AREPS_v1.11_Muller_etal_2016_AgeGrid-205.nc\n",
      "working on file Data/Muller_etal_2016_AREPS_Agegrids_v1.11/netCDF_0-230Ma/EarthByte_AREPS_v1.11_Muller_etal_2016_AgeGrid-206.nc\n",
      "working on file Data/Muller_etal_2016_AREPS_Agegrids_v1.11/netCDF_0-230Ma/EarthByte_AREPS_v1.11_Muller_etal_2016_AgeGrid-207.nc\n",
      "working on file Data/Muller_etal_2016_AREPS_Agegrids_v1.11/netCDF_0-230Ma/EarthByte_AREPS_v1.11_Muller_etal_2016_AgeGrid-208.nc\n",
      "working on file Data/Muller_etal_2016_AREPS_Agegrids_v1.11/netCDF_0-230Ma/EarthByte_AREPS_v1.11_Muller_etal_2016_AgeGrid-209.nc\n",
      "working on file Data/Muller_etal_2016_AREPS_Agegrids_v1.11/netCDF_0-230Ma/EarthByte_AREPS_v1.11_Muller_etal_2016_AgeGrid-210.nc\n",
      "working on file Data/Muller_etal_2016_AREPS_Agegrids_v1.11/netCDF_0-230Ma/EarthByte_AREPS_v1.11_Muller_etal_2016_AgeGrid-211.nc\n",
      "working on file Data/Muller_etal_2016_AREPS_Agegrids_v1.11/netCDF_0-230Ma/EarthByte_AREPS_v1.11_Muller_etal_2016_AgeGrid-212.nc\n",
      "working on file Data/Muller_etal_2016_AREPS_Agegrids_v1.11/netCDF_0-230Ma/EarthByte_AREPS_v1.11_Muller_etal_2016_AgeGrid-213.nc\n",
      "working on file Data/Muller_etal_2016_AREPS_Agegrids_v1.11/netCDF_0-230Ma/EarthByte_AREPS_v1.11_Muller_etal_2016_AgeGrid-214.nc\n",
      "working on file Data/Muller_etal_2016_AREPS_Agegrids_v1.11/netCDF_0-230Ma/EarthByte_AREPS_v1.11_Muller_etal_2016_AgeGrid-215.nc\n",
      "working on file Data/Muller_etal_2016_AREPS_Agegrids_v1.11/netCDF_0-230Ma/EarthByte_AREPS_v1.11_Muller_etal_2016_AgeGrid-216.nc\n",
      "working on file Data/Muller_etal_2016_AREPS_Agegrids_v1.11/netCDF_0-230Ma/EarthByte_AREPS_v1.11_Muller_etal_2016_AgeGrid-217.nc\n",
      "working on file Data/Muller_etal_2016_AREPS_Agegrids_v1.11/netCDF_0-230Ma/EarthByte_AREPS_v1.11_Muller_etal_2016_AgeGrid-218.nc\n",
      "working on file Data/Muller_etal_2016_AREPS_Agegrids_v1.11/netCDF_0-230Ma/EarthByte_AREPS_v1.11_Muller_etal_2016_AgeGrid-219.nc\n",
      "working on file Data/Muller_etal_2016_AREPS_Agegrids_v1.11/netCDF_0-230Ma/EarthByte_AREPS_v1.11_Muller_etal_2016_AgeGrid-220.nc\n",
      "working on file Data/Muller_etal_2016_AREPS_Agegrids_v1.11/netCDF_0-230Ma/EarthByte_AREPS_v1.11_Muller_etal_2016_AgeGrid-221.nc\n",
      "working on file Data/Muller_etal_2016_AREPS_Agegrids_v1.11/netCDF_0-230Ma/EarthByte_AREPS_v1.11_Muller_etal_2016_AgeGrid-222.nc\n",
      "working on file Data/Muller_etal_2016_AREPS_Agegrids_v1.11/netCDF_0-230Ma/EarthByte_AREPS_v1.11_Muller_etal_2016_AgeGrid-223.nc\n",
      "working on file Data/Muller_etal_2016_AREPS_Agegrids_v1.11/netCDF_0-230Ma/EarthByte_AREPS_v1.11_Muller_etal_2016_AgeGrid-224.nc\n",
      "working on file Data/Muller_etal_2016_AREPS_Agegrids_v1.11/netCDF_0-230Ma/EarthByte_AREPS_v1.11_Muller_etal_2016_AgeGrid-225.nc\n",
      "working on file Data/Muller_etal_2016_AREPS_Agegrids_v1.11/netCDF_0-230Ma/EarthByte_AREPS_v1.11_Muller_etal_2016_AgeGrid-226.nc\n",
      "working on file Data/Muller_etal_2016_AREPS_Agegrids_v1.11/netCDF_0-230Ma/EarthByte_AREPS_v1.11_Muller_etal_2016_AgeGrid-227.nc\n",
      "working on file Data/Muller_etal_2016_AREPS_Agegrids_v1.11/netCDF_0-230Ma/EarthByte_AREPS_v1.11_Muller_etal_2016_AgeGrid-228.nc\n",
      "working on file Data/Muller_etal_2016_AREPS_Agegrids_v1.11/netCDF_0-230Ma/EarthByte_AREPS_v1.11_Muller_etal_2016_AgeGrid-229.nc\n",
      "working on file Data/Muller_etal_2016_AREPS_Agegrids_v1.11/netCDF_0-230Ma/EarthByte_AREPS_v1.11_Muller_etal_2016_AgeGrid-230.nc\n"
     ]
    }
   ],
   "source": [
    "# Create a dataframe that contains all subduction data for full sequence of time steps\n",
    "\n",
    "# Data frame template defining the column names\n",
    "DataFrameTemplate = ('lon','lat','conv_rate','conv_obliq','migr_rate',\n",
    "                     'migr_obliq','arc_length','arc_azimuth',\n",
    "                     'subducting_plate','overriding_plate','time')\n",
    "\n",
    "# Create an empty dataframe to concatenate results to\n",
    "df_AllTimes = pd.DataFrame(columns=DataFrameTemplate)\n",
    "\n",
    "# list of reconstruction times\n",
    "reconstruction_times = np.arange(min_time,max_time+1,time_step)\n",
    "\n",
    "# Iterate over time steps\n",
    "for reconstruction_time in reconstruction_times:\n",
    "        \n",
    "    # Get the subduction kinematics database \n",
    "    subduction_data = []\n",
    "    output_data = sc.subduction_convergence(\n",
    "                rotation_filename,\n",
    "                input_topology_filename,\n",
    "                threshold_sampling_distance_radians,\n",
    "                reconstruction_time,\n",
    "                velocity_delta_time,\n",
    "                anchor_plate_id)\n",
    "\n",
    "    # Make a flat list of subduction stats to input into the proximity test\n",
    "    for data in output_data:\n",
    "        subduction_data.append(data+(reconstruction_time,))\n",
    "    \n",
    "    # convert list array to dataframe\n",
    "    df = pd.DataFrame(subduction_data, columns = DataFrameTemplate)\n",
    "    \n",
    "    ######################\n",
    "    # Age grid sampling\n",
    "    grdfile = '%s%0.0f%s' % (agegrid_filename[0],reconstruction_time,agegrid_filename[1])\n",
    "    print 'working on file %s' % grdfile\n",
    "    sample_result = sample_grid_using_scipy(df['lon'],df['lat'],grdfile)\n",
    "    \n",
    "    # Append interpolate seafloor ages to dataframe\n",
    "    df['SeafloorAge'] = pd.Series(sample_result)\n",
    "    \n",
    "    \n",
    "    ######################\n",
    "    # Find nearest continental polygon\n",
    "    reconstructed_continental_polygons = []\n",
    "    pygplates.reconstruct(continental_polygon_features,\n",
    "                          rotation_model,\n",
    "                          reconstructed_continental_polygons,\n",
    "                          reconstruction_time,\n",
    "                          anchor_plate_id=anchor_plate_id)\n",
    "    pid,dist = get_nearest_continental_polygon(df,reconstructed_continental_polygons)\n",
    "    df['NearestContinentPID'] = pd.Series(pid)\n",
    "    df['DistanceToContinent'] = pd.Series(dist)\n",
    "\n",
    "    # append dataframe \n",
    "    df_AllTimes = df_AllTimes.append(df)\n",
    "    "
   ]
  },
  {
   "cell_type": "markdown",
   "metadata": {},
   "source": [
    "### Options for saving/loading results to/from file"
   ]
  },
  {
   "cell_type": "code",
   "execution_count": 11,
   "metadata": {},
   "outputs": [],
   "source": [
    "# Save to csv file (prefered file format)\n",
    "df_AllTimes.to_csv('tmp/SubductionTable_clean_%0.0f_%0.0fMa.csv' % (min_time,max_time)) \n",
    "\n",
    "# Save to an hdf5 file\n",
    "#df_AllTimes.to_hdf('SubductionTable_%0.0f_%0.0fMa.h5' % (min_time,max_time),'SubductionTable') \n",
    "\n",
    "# Example of loading previously calculated results from a hdf5 file as created using the line above\n",
    "#df_AllTimes = pd.read_hdf('SubductionTable_0_230Ma.h5')\n",
    "\n",
    "#plt.scatter(df.lon,df.lat,c=df.DistanceToContinent,edgecolors='')\n",
    "#plt.show()\n"
   ]
  },
  {
   "cell_type": "code",
   "execution_count": 12,
   "metadata": {},
   "outputs": [
    {
     "data": {
      "text/html": [
       "<div>\n",
       "<style scoped>\n",
       "    .dataframe tbody tr th:only-of-type {\n",
       "        vertical-align: middle;\n",
       "    }\n",
       "\n",
       "    .dataframe tbody tr th {\n",
       "        vertical-align: top;\n",
       "    }\n",
       "\n",
       "    .dataframe thead th {\n",
       "        text-align: right;\n",
       "    }\n",
       "</style>\n",
       "<table border=\"1\" class=\"dataframe\">\n",
       "  <thead>\n",
       "    <tr style=\"text-align: right;\">\n",
       "      <th></th>\n",
       "      <th>DistanceToContinent</th>\n",
       "      <th>NearestContinentPID</th>\n",
       "      <th>SeafloorAge</th>\n",
       "      <th>arc_azimuth</th>\n",
       "      <th>arc_length</th>\n",
       "      <th>conv_obliq</th>\n",
       "      <th>conv_rate</th>\n",
       "      <th>lat</th>\n",
       "      <th>lon</th>\n",
       "      <th>migr_obliq</th>\n",
       "      <th>migr_rate</th>\n",
       "      <th>overriding_plate</th>\n",
       "      <th>subducting_plate</th>\n",
       "      <th>time</th>\n",
       "    </tr>\n",
       "  </thead>\n",
       "  <tbody>\n",
       "    <tr>\n",
       "      <th>0</th>\n",
       "      <td>0.000000</td>\n",
       "      <td>16130.0</td>\n",
       "      <td>33.191524</td>\n",
       "      <td>7.048196</td>\n",
       "      <td>0.407674</td>\n",
       "      <td>-55.309337</td>\n",
       "      <td>6.812935</td>\n",
       "      <td>50.444919</td>\n",
       "      <td>-179.937442</td>\n",
       "      <td>164.654379</td>\n",
       "      <td>1.223722</td>\n",
       "      <td>101</td>\n",
       "      <td>901</td>\n",
       "      <td>0.0</td>\n",
       "    </tr>\n",
       "    <tr>\n",
       "      <th>1</th>\n",
       "      <td>104.296523</td>\n",
       "      <td>806.0</td>\n",
       "      <td>72.351119</td>\n",
       "      <td>293.688940</td>\n",
       "      <td>0.468018</td>\n",
       "      <td>-39.017566</td>\n",
       "      <td>4.843504</td>\n",
       "      <td>-37.283931</td>\n",
       "      <td>-179.904160</td>\n",
       "      <td>44.009679</td>\n",
       "      <td>-5.010784</td>\n",
       "      <td>801</td>\n",
       "      <td>901</td>\n",
       "      <td>0.0</td>\n",
       "    </tr>\n",
       "    <tr>\n",
       "      <th>2</th>\n",
       "      <td>1675.109671</td>\n",
       "      <td>844.0</td>\n",
       "      <td>77.421896</td>\n",
       "      <td>196.384032</td>\n",
       "      <td>0.338897</td>\n",
       "      <td>65.727968</td>\n",
       "      <td>9.177222</td>\n",
       "      <td>-11.225768</td>\n",
       "      <td>-179.705383</td>\n",
       "      <td>-135.001933</td>\n",
       "      <td>10.433777</td>\n",
       "      <td>801</td>\n",
       "      <td>901</td>\n",
       "      <td>0.0</td>\n",
       "    </tr>\n",
       "    <tr>\n",
       "      <th>3</th>\n",
       "      <td>147.636960</td>\n",
       "      <td>806.0</td>\n",
       "      <td>72.765439</td>\n",
       "      <td>293.547286</td>\n",
       "      <td>0.468018</td>\n",
       "      <td>-38.350411</td>\n",
       "      <td>4.914457</td>\n",
       "      <td>-36.855115</td>\n",
       "      <td>-179.669162</td>\n",
       "      <td>44.433350</td>\n",
       "      <td>-4.972855</td>\n",
       "      <td>801</td>\n",
       "      <td>901</td>\n",
       "      <td>0.0</td>\n",
       "    </tr>\n",
       "    <tr>\n",
       "      <th>4</th>\n",
       "      <td>170.352834</td>\n",
       "      <td>823.0</td>\n",
       "      <td>73.459981</td>\n",
       "      <td>293.408606</td>\n",
       "      <td>0.468018</td>\n",
       "      <td>-37.704138</td>\n",
       "      <td>4.985854</td>\n",
       "      <td>-36.425842</td>\n",
       "      <td>-179.436788</td>\n",
       "      <td>44.865451</td>\n",
       "      <td>-4.935034</td>\n",
       "      <td>801</td>\n",
       "      <td>901</td>\n",
       "      <td>0.0</td>\n",
       "    </tr>\n",
       "    <tr>\n",
       "      <th>5</th>\n",
       "      <td>1694.367534</td>\n",
       "      <td>844.0</td>\n",
       "      <td>77.323223</td>\n",
       "      <td>196.319209</td>\n",
       "      <td>0.338897</td>\n",
       "      <td>65.996958</td>\n",
       "      <td>9.157936</td>\n",
       "      <td>-11.321178</td>\n",
       "      <td>-179.373795</td>\n",
       "      <td>-134.407560</td>\n",
       "      <td>10.327195</td>\n",
       "      <td>801</td>\n",
       "      <td>901</td>\n",
       "      <td>0.0</td>\n",
       "    </tr>\n",
       "    <tr>\n",
       "      <th>6</th>\n",
       "      <td>0.000000</td>\n",
       "      <td>16130.0</td>\n",
       "      <td>33.191525</td>\n",
       "      <td>7.537337</td>\n",
       "      <td>0.407674</td>\n",
       "      <td>-55.516762</td>\n",
       "      <td>6.795949</td>\n",
       "      <td>50.393168</td>\n",
       "      <td>-179.302793</td>\n",
       "      <td>164.848028</td>\n",
       "      <td>1.238988</td>\n",
       "      <td>101</td>\n",
       "      <td>901</td>\n",
       "      <td>0.0</td>\n",
       "    </tr>\n",
       "    <tr>\n",
       "      <th>7</th>\n",
       "      <td>147.946897</td>\n",
       "      <td>823.0</td>\n",
       "      <td>74.696435</td>\n",
       "      <td>293.272837</td>\n",
       "      <td>0.468018</td>\n",
       "      <td>-37.077989</td>\n",
       "      <td>5.057658</td>\n",
       "      <td>-35.996123</td>\n",
       "      <td>-179.206970</td>\n",
       "      <td>45.306141</td>\n",
       "      <td>-4.897334</td>\n",
       "      <td>801</td>\n",
       "      <td>901</td>\n",
       "      <td>0.0</td>\n",
       "    </tr>\n",
       "    <tr>\n",
       "      <th>8</th>\n",
       "      <td>1714.223219</td>\n",
       "      <td>844.0</td>\n",
       "      <td>76.903078</td>\n",
       "      <td>196.253802</td>\n",
       "      <td>0.338897</td>\n",
       "      <td>66.267825</td>\n",
       "      <td>9.138799</td>\n",
       "      <td>-11.416219</td>\n",
       "      <td>-179.041987</td>\n",
       "      <td>-133.799833</td>\n",
       "      <td>10.221573</td>\n",
       "      <td>801</td>\n",
       "      <td>901</td>\n",
       "      <td>0.0</td>\n",
       "    </tr>\n",
       "    <tr>\n",
       "      <th>9</th>\n",
       "      <td>127.142407</td>\n",
       "      <td>823.0</td>\n",
       "      <td>75.319742</td>\n",
       "      <td>286.827791</td>\n",
       "      <td>0.490832</td>\n",
       "      <td>-30.178118</td>\n",
       "      <td>5.134455</td>\n",
       "      <td>-35.546225</td>\n",
       "      <td>-179.005424</td>\n",
       "      <td>52.117849</td>\n",
       "      <td>-4.861200</td>\n",
       "      <td>801</td>\n",
       "      <td>901</td>\n",
       "      <td>0.0</td>\n",
       "    </tr>\n",
       "    <tr>\n",
       "      <th>10</th>\n",
       "      <td>120.471870</td>\n",
       "      <td>823.0</td>\n",
       "      <td>75.915780</td>\n",
       "      <td>286.727432</td>\n",
       "      <td>0.490832</td>\n",
       "      <td>-29.658123</td>\n",
       "      <td>5.216077</td>\n",
       "      <td>-35.076286</td>\n",
       "      <td>-178.831799</td>\n",
       "      <td>52.646819</td>\n",
       "      <td>-4.826738</td>\n",
       "      <td>801</td>\n",
       "      <td>901</td>\n",
       "      <td>0.0</td>\n",
       "    </tr>\n",
       "    <tr>\n",
       "      <th>11</th>\n",
       "      <td>1729.657345</td>\n",
       "      <td>844.0</td>\n",
       "      <td>75.557643</td>\n",
       "      <td>216.467133</td>\n",
       "      <td>0.425152</td>\n",
       "      <td>46.257922</td>\n",
       "      <td>9.108667</td>\n",
       "      <td>-11.589999</td>\n",
       "      <td>-178.701567</td>\n",
       "      <td>-153.532386</td>\n",
       "      <td>10.083635</td>\n",
       "      <td>801</td>\n",
       "      <td>901</td>\n",
       "      <td>0.0</td>\n",
       "    </tr>\n",
       "    <tr>\n",
       "      <th>12</th>\n",
       "      <td>122.785370</td>\n",
       "      <td>823.0</td>\n",
       "      <td>76.495770</td>\n",
       "      <td>286.629375</td>\n",
       "      <td>0.490832</td>\n",
       "      <td>-29.155944</td>\n",
       "      <td>5.297825</td>\n",
       "      <td>-34.606102</td>\n",
       "      <td>-178.660163</td>\n",
       "      <td>53.185406</td>\n",
       "      <td>-4.792564</td>\n",
       "      <td>801</td>\n",
       "      <td>901</td>\n",
       "      <td>0.0</td>\n",
       "    </tr>\n",
       "    <tr>\n",
       "      <th>13</th>\n",
       "      <td>0.000000</td>\n",
       "      <td>16130.0</td>\n",
       "      <td>33.191525</td>\n",
       "      <td>351.178527</td>\n",
       "      <td>0.478084</td>\n",
       "      <td>-38.826980</td>\n",
       "      <td>6.773647</td>\n",
       "      <td>50.403247</td>\n",
       "      <td>-178.615688</td>\n",
       "      <td>-178.182555</td>\n",
       "      <td>1.255832</td>\n",
       "      <td>101</td>\n",
       "      <td>901</td>\n",
       "      <td>0.0</td>\n",
       "    </tr>\n",
       "    <tr>\n",
       "      <th>14</th>\n",
       "      <td>138.929008</td>\n",
       "      <td>823.0</td>\n",
       "      <td>77.081558</td>\n",
       "      <td>286.533569</td>\n",
       "      <td>0.490832</td>\n",
       "      <td>-28.670798</td>\n",
       "      <td>5.379669</td>\n",
       "      <td>-34.135681</td>\n",
       "      <td>-178.490461</td>\n",
       "      <td>53.733727</td>\n",
       "      <td>-4.758696</td>\n",
       "      <td>801</td>\n",
       "      <td>901</td>\n",
       "      <td>0.0</td>\n",
       "    </tr>\n",
       "    <tr>\n",
       "      <th>15</th>\n",
       "      <td>1741.126634</td>\n",
       "      <td>844.0</td>\n",
       "      <td>74.866493</td>\n",
       "      <td>216.396194</td>\n",
       "      <td>0.425152</td>\n",
       "      <td>46.531094</td>\n",
       "      <td>9.067397</td>\n",
       "      <td>-11.842482</td>\n",
       "      <td>-178.352226</td>\n",
       "      <td>-153.039844</td>\n",
       "      <td>9.912845</td>\n",
       "      <td>801</td>\n",
       "      <td>901</td>\n",
       "      <td>0.0</td>\n",
       "    </tr>\n",
       "    <tr>\n",
       "      <th>16</th>\n",
       "      <td>155.227797</td>\n",
       "      <td>823.0</td>\n",
       "      <td>77.672360</td>\n",
       "      <td>286.439965</td>\n",
       "      <td>0.490832</td>\n",
       "      <td>-28.201942</td>\n",
       "      <td>5.461583</td>\n",
       "      <td>-33.665029</td>\n",
       "      <td>-178.322637</td>\n",
       "      <td>54.291890</td>\n",
       "      <td>-4.725149</td>\n",
       "      <td>801</td>\n",
       "      <td>901</td>\n",
       "      <td>0.0</td>\n",
       "    </tr>\n",
       "    <tr>\n",
       "      <th>17</th>\n",
       "      <td>171.516207</td>\n",
       "      <td>823.0</td>\n",
       "      <td>78.202611</td>\n",
       "      <td>286.348514</td>\n",
       "      <td>0.490832</td>\n",
       "      <td>-27.748671</td>\n",
       "      <td>5.543538</td>\n",
       "      <td>-33.194153</td>\n",
       "      <td>-178.156641</td>\n",
       "      <td>54.860002</td>\n",
       "      <td>-4.691940</td>\n",
       "      <td>801</td>\n",
       "      <td>901</td>\n",
       "      <td>0.0</td>\n",
       "    </tr>\n",
       "    <tr>\n",
       "      <th>18</th>\n",
       "      <td>1753.765845</td>\n",
       "      <td>844.0</td>\n",
       "      <td>74.358461</td>\n",
       "      <td>216.323616</td>\n",
       "      <td>0.425152</td>\n",
       "      <td>46.808347</td>\n",
       "      <td>9.026099</td>\n",
       "      <td>-12.094537</td>\n",
       "      <td>-178.002240</td>\n",
       "      <td>-152.528751</td>\n",
       "      <td>9.742381</td>\n",
       "      <td>801</td>\n",
       "      <td>901</td>\n",
       "      <td>0.0</td>\n",
       "    </tr>\n",
       "    <tr>\n",
       "      <th>19</th>\n",
       "      <td>187.793148</td>\n",
       "      <td>823.0</td>\n",
       "      <td>76.897667</td>\n",
       "      <td>286.259172</td>\n",
       "      <td>0.490832</td>\n",
       "      <td>-27.310317</td>\n",
       "      <td>5.625511</td>\n",
       "      <td>-32.723059</td>\n",
       "      <td>-177.992421</td>\n",
       "      <td>55.438163</td>\n",
       "      <td>-4.659087</td>\n",
       "      <td>801</td>\n",
       "      <td>901</td>\n",
       "      <td>0.0</td>\n",
       "    </tr>\n",
       "    <tr>\n",
       "      <th>20</th>\n",
       "      <td>0.000000</td>\n",
       "      <td>16130.0</td>\n",
       "      <td>33.191524</td>\n",
       "      <td>351.750823</td>\n",
       "      <td>0.478084</td>\n",
       "      <td>-39.017012</td>\n",
       "      <td>6.745883</td>\n",
       "      <td>50.474205</td>\n",
       "      <td>-177.873360</td>\n",
       "      <td>-178.208792</td>\n",
       "      <td>1.274220</td>\n",
       "      <td>101</td>\n",
       "      <td>901</td>\n",
       "      <td>0.0</td>\n",
       "    </tr>\n",
       "    <tr>\n",
       "      <th>21</th>\n",
       "      <td>204.057529</td>\n",
       "      <td>823.0</td>\n",
       "      <td>77.011528</td>\n",
       "      <td>286.171894</td>\n",
       "      <td>0.490832</td>\n",
       "      <td>-26.886243</td>\n",
       "      <td>5.707476</td>\n",
       "      <td>-32.251753</td>\n",
       "      <td>-177.829927</td>\n",
       "      <td>56.026467</td>\n",
       "      <td>-4.626607</td>\n",
       "      <td>801</td>\n",
       "      <td>901</td>\n",
       "      <td>0.0</td>\n",
       "    </tr>\n",
       "    <tr>\n",
       "      <th>22</th>\n",
       "      <td>220.308259</td>\n",
       "      <td>823.0</td>\n",
       "      <td>76.930991</td>\n",
       "      <td>286.086636</td>\n",
       "      <td>0.490832</td>\n",
       "      <td>-26.475847</td>\n",
       "      <td>5.789411</td>\n",
       "      <td>-31.780241</td>\n",
       "      <td>-177.669111</td>\n",
       "      <td>56.625002</td>\n",
       "      <td>-4.594516</td>\n",
       "      <td>801</td>\n",
       "      <td>901</td>\n",
       "      <td>0.0</td>\n",
       "    </tr>\n",
       "    <tr>\n",
       "      <th>23</th>\n",
       "      <td>1766.629566</td>\n",
       "      <td>844.0</td>\n",
       "      <td>73.576312</td>\n",
       "      <td>217.662059</td>\n",
       "      <td>0.401749</td>\n",
       "      <td>45.668876</td>\n",
       "      <td>8.985411</td>\n",
       "      <td>-12.343183</td>\n",
       "      <td>-177.664295</td>\n",
       "      <td>-153.434879</td>\n",
       "      <td>9.575951</td>\n",
       "      <td>801</td>\n",
       "      <td>901</td>\n",
       "      <td>0.0</td>\n",
       "    </tr>\n",
       "    <tr>\n",
       "      <th>24</th>\n",
       "      <td>236.544247</td>\n",
       "      <td>823.0</td>\n",
       "      <td>75.936646</td>\n",
       "      <td>286.003357</td>\n",
       "      <td>0.490832</td>\n",
       "      <td>-26.078556</td>\n",
       "      <td>5.871293</td>\n",
       "      <td>-31.308529</td>\n",
       "      <td>-177.509928</td>\n",
       "      <td>57.233847</td>\n",
       "      <td>-4.562834</td>\n",
       "      <td>801</td>\n",
       "      <td>901</td>\n",
       "      <td>0.0</td>\n",
       "    </tr>\n",
       "    <tr>\n",
       "      <th>25</th>\n",
       "      <td>252.764403</td>\n",
       "      <td>823.0</td>\n",
       "      <td>76.163402</td>\n",
       "      <td>285.922017</td>\n",
       "      <td>0.490832</td>\n",
       "      <td>-25.693827</td>\n",
       "      <td>5.953101</td>\n",
       "      <td>-30.836623</td>\n",
       "      <td>-177.352331</td>\n",
       "      <td>57.853075</td>\n",
       "      <td>-4.531578</td>\n",
       "      <td>801</td>\n",
       "      <td>901</td>\n",
       "      <td>0.0</td>\n",
       "    </tr>\n",
       "    <tr>\n",
       "      <th>26</th>\n",
       "      <td>1779.511976</td>\n",
       "      <td>844.0</td>\n",
       "      <td>73.286919</td>\n",
       "      <td>217.591718</td>\n",
       "      <td>0.401749</td>\n",
       "      <td>45.932319</td>\n",
       "      <td>8.945324</td>\n",
       "      <td>-12.588459</td>\n",
       "      <td>-177.338426</td>\n",
       "      <td>-152.939464</td>\n",
       "      <td>9.413515</td>\n",
       "      <td>801</td>\n",
       "      <td>901</td>\n",
       "      <td>0.0</td>\n",
       "    </tr>\n",
       "    <tr>\n",
       "      <th>27</th>\n",
       "      <td>268.967638</td>\n",
       "      <td>823.0</td>\n",
       "      <td>72.404976</td>\n",
       "      <td>285.842576</td>\n",
       "      <td>0.490832</td>\n",
       "      <td>-25.321144</td>\n",
       "      <td>6.034813</td>\n",
       "      <td>-30.364527</td>\n",
       "      <td>-177.196277</td>\n",
       "      <td>58.482751</td>\n",
       "      <td>-4.500766</td>\n",
       "      <td>801</td>\n",
       "      <td>901</td>\n",
       "      <td>0.0</td>\n",
       "    </tr>\n",
       "    <tr>\n",
       "      <th>28</th>\n",
       "      <td>0.000000</td>\n",
       "      <td>16130.0</td>\n",
       "      <td>33.191525</td>\n",
       "      <td>352.325350</td>\n",
       "      <td>0.478084</td>\n",
       "      <td>-39.210580</td>\n",
       "      <td>6.717911</td>\n",
       "      <td>50.540428</td>\n",
       "      <td>-177.128876</td>\n",
       "      <td>-178.234161</td>\n",
       "      <td>1.292521</td>\n",
       "      <td>101</td>\n",
       "      <td>901</td>\n",
       "      <td>0.0</td>\n",
       "    </tr>\n",
       "    <tr>\n",
       "      <th>29</th>\n",
       "      <td>285.152861</td>\n",
       "      <td>823.0</td>\n",
       "      <td>66.457440</td>\n",
       "      <td>285.764999</td>\n",
       "      <td>0.490832</td>\n",
       "      <td>-24.960015</td>\n",
       "      <td>6.116412</td>\n",
       "      <td>-29.892248</td>\n",
       "      <td>-177.041722</td>\n",
       "      <td>59.122929</td>\n",
       "      <td>-4.470416</td>\n",
       "      <td>801</td>\n",
       "      <td>901</td>\n",
       "      <td>0.0</td>\n",
       "    </tr>\n",
       "    <tr>\n",
       "      <th>...</th>\n",
       "      <td>...</td>\n",
       "      <td>...</td>\n",
       "      <td>...</td>\n",
       "      <td>...</td>\n",
       "      <td>...</td>\n",
       "      <td>...</td>\n",
       "      <td>...</td>\n",
       "      <td>...</td>\n",
       "      <td>...</td>\n",
       "      <td>...</td>\n",
       "      <td>...</td>\n",
       "      <td>...</td>\n",
       "      <td>...</td>\n",
       "      <td>...</td>\n",
       "    </tr>\n",
       "    <tr>\n",
       "      <th>1421</th>\n",
       "      <td>489.615617</td>\n",
       "      <td>454.0</td>\n",
       "      <td>67.994458</td>\n",
       "      <td>307.216333</td>\n",
       "      <td>0.491283</td>\n",
       "      <td>-53.046151</td>\n",
       "      <td>21.185810</td>\n",
       "      <td>55.912122</td>\n",
       "      <td>166.260759</td>\n",
       "      <td>113.283286</td>\n",
       "      <td>15.541133</td>\n",
       "      <td>380</td>\n",
       "      <td>926</td>\n",
       "      <td>230.0</td>\n",
       "    </tr>\n",
       "    <tr>\n",
       "      <th>1422</th>\n",
       "      <td>480.770411</td>\n",
       "      <td>454.0</td>\n",
       "      <td>66.438381</td>\n",
       "      <td>307.660905</td>\n",
       "      <td>0.491283</td>\n",
       "      <td>-53.379765</td>\n",
       "      <td>21.093770</td>\n",
       "      <td>56.302207</td>\n",
       "      <td>166.796331</td>\n",
       "      <td>112.813751</td>\n",
       "      <td>15.487039</td>\n",
       "      <td>380</td>\n",
       "      <td>926</td>\n",
       "      <td>230.0</td>\n",
       "    </tr>\n",
       "    <tr>\n",
       "      <th>1423</th>\n",
       "      <td>401.231601</td>\n",
       "      <td>806.0</td>\n",
       "      <td>68.475360</td>\n",
       "      <td>228.450125</td>\n",
       "      <td>0.489217</td>\n",
       "      <td>4.736262</td>\n",
       "      <td>10.658397</td>\n",
       "      <td>-74.659716</td>\n",
       "      <td>166.807689</td>\n",
       "      <td>-116.064066</td>\n",
       "      <td>2.139765</td>\n",
       "      <td>701</td>\n",
       "      <td>919</td>\n",
       "      <td>230.0</td>\n",
       "    </tr>\n",
       "    <tr>\n",
       "      <th>1424</th>\n",
       "      <td>474.007224</td>\n",
       "      <td>454.0</td>\n",
       "      <td>64.877981</td>\n",
       "      <td>308.116678</td>\n",
       "      <td>0.491283</td>\n",
       "      <td>-53.718327</td>\n",
       "      <td>21.001904</td>\n",
       "      <td>56.689934</td>\n",
       "      <td>167.342917</td>\n",
       "      <td>112.339440</td>\n",
       "      <td>15.433825</td>\n",
       "      <td>380</td>\n",
       "      <td>926</td>\n",
       "      <td>230.0</td>\n",
       "    </tr>\n",
       "    <tr>\n",
       "      <th>1425</th>\n",
       "      <td>472.973525</td>\n",
       "      <td>454.0</td>\n",
       "      <td>63.250034</td>\n",
       "      <td>308.583974</td>\n",
       "      <td>0.491283</td>\n",
       "      <td>-54.061878</td>\n",
       "      <td>20.910241</td>\n",
       "      <td>57.075218</td>\n",
       "      <td>167.900842</td>\n",
       "      <td>111.860390</td>\n",
       "      <td>15.381515</td>\n",
       "      <td>380</td>\n",
       "      <td>926</td>\n",
       "      <td>230.0</td>\n",
       "    </tr>\n",
       "    <tr>\n",
       "      <th>1426</th>\n",
       "      <td>430.164422</td>\n",
       "      <td>806.0</td>\n",
       "      <td>68.725976</td>\n",
       "      <td>227.238178</td>\n",
       "      <td>0.489217</td>\n",
       "      <td>4.752243</td>\n",
       "      <td>10.622636</td>\n",
       "      <td>-75.022405</td>\n",
       "      <td>168.063317</td>\n",
       "      <td>-116.253806</td>\n",
       "      <td>2.143248</td>\n",
       "      <td>701</td>\n",
       "      <td>919</td>\n",
       "      <td>230.0</td>\n",
       "    </tr>\n",
       "    <tr>\n",
       "      <th>1427</th>\n",
       "      <td>478.207708</td>\n",
       "      <td>454.0</td>\n",
       "      <td>61.530655</td>\n",
       "      <td>309.063118</td>\n",
       "      <td>0.491283</td>\n",
       "      <td>-54.410462</td>\n",
       "      <td>20.818812</td>\n",
       "      <td>57.457972</td>\n",
       "      <td>168.470437</td>\n",
       "      <td>111.376638</td>\n",
       "      <td>15.330134</td>\n",
       "      <td>380</td>\n",
       "      <td>926</td>\n",
       "      <td>230.0</td>\n",
       "    </tr>\n",
       "    <tr>\n",
       "      <th>1428</th>\n",
       "      <td>489.508749</td>\n",
       "      <td>454.0</td>\n",
       "      <td>59.775789</td>\n",
       "      <td>309.554449</td>\n",
       "      <td>0.491283</td>\n",
       "      <td>-54.764118</td>\n",
       "      <td>20.727646</td>\n",
       "      <td>57.838103</td>\n",
       "      <td>169.052043</td>\n",
       "      <td>110.888229</td>\n",
       "      <td>15.279706</td>\n",
       "      <td>380</td>\n",
       "      <td>926</td>\n",
       "      <td>230.0</td>\n",
       "    </tr>\n",
       "    <tr>\n",
       "      <th>1429</th>\n",
       "      <td>463.681158</td>\n",
       "      <td>806.0</td>\n",
       "      <td>68.965798</td>\n",
       "      <td>225.965959</td>\n",
       "      <td>0.489217</td>\n",
       "      <td>4.768680</td>\n",
       "      <td>10.586106</td>\n",
       "      <td>-75.377893</td>\n",
       "      <td>169.379181</td>\n",
       "      <td>-116.441276</td>\n",
       "      <td>2.146724</td>\n",
       "      <td>701</td>\n",
       "      <td>919</td>\n",
       "      <td>230.0</td>\n",
       "    </tr>\n",
       "    <tr>\n",
       "      <th>1430</th>\n",
       "      <td>506.470696</td>\n",
       "      <td>454.0</td>\n",
       "      <td>57.915399</td>\n",
       "      <td>310.058311</td>\n",
       "      <td>0.491283</td>\n",
       "      <td>-55.122889</td>\n",
       "      <td>20.636774</td>\n",
       "      <td>58.215518</td>\n",
       "      <td>169.646008</td>\n",
       "      <td>110.395209</td>\n",
       "      <td>15.230257</td>\n",
       "      <td>380</td>\n",
       "      <td>926</td>\n",
       "      <td>230.0</td>\n",
       "    </tr>\n",
       "    <tr>\n",
       "      <th>1431</th>\n",
       "      <td>528.548827</td>\n",
       "      <td>454.0</td>\n",
       "      <td>55.948127</td>\n",
       "      <td>310.575057</td>\n",
       "      <td>0.491283</td>\n",
       "      <td>-55.486811</td>\n",
       "      <td>20.546227</td>\n",
       "      <td>58.590116</td>\n",
       "      <td>170.252688</td>\n",
       "      <td>109.897629</td>\n",
       "      <td>15.181810</td>\n",
       "      <td>380</td>\n",
       "      <td>926</td>\n",
       "      <td>230.0</td>\n",
       "    </tr>\n",
       "    <tr>\n",
       "      <th>1432</th>\n",
       "      <td>490.199464</td>\n",
       "      <td>813.0</td>\n",
       "      <td>68.598910</td>\n",
       "      <td>224.630315</td>\n",
       "      <td>0.489217</td>\n",
       "      <td>4.785579</td>\n",
       "      <td>10.548811</td>\n",
       "      <td>-75.725641</td>\n",
       "      <td>170.758437</td>\n",
       "      <td>-116.626478</td>\n",
       "      <td>2.150192</td>\n",
       "      <td>701</td>\n",
       "      <td>919</td>\n",
       "      <td>230.0</td>\n",
       "    </tr>\n",
       "    <tr>\n",
       "      <th>1433</th>\n",
       "      <td>555.133048</td>\n",
       "      <td>454.0</td>\n",
       "      <td>54.074711</td>\n",
       "      <td>311.105048</td>\n",
       "      <td>0.491283</td>\n",
       "      <td>-55.855925</td>\n",
       "      <td>20.456035</td>\n",
       "      <td>58.961796</td>\n",
       "      <td>170.872449</td>\n",
       "      <td>109.395545</td>\n",
       "      <td>15.134389</td>\n",
       "      <td>380</td>\n",
       "      <td>926</td>\n",
       "      <td>230.0</td>\n",
       "    </tr>\n",
       "    <tr>\n",
       "      <th>1434</th>\n",
       "      <td>585.610006</td>\n",
       "      <td>454.0</td>\n",
       "      <td>52.072920</td>\n",
       "      <td>311.648651</td>\n",
       "      <td>0.491283</td>\n",
       "      <td>-56.230267</td>\n",
       "      <td>20.366231</td>\n",
       "      <td>59.330449</td>\n",
       "      <td>171.505661</td>\n",
       "      <td>108.889016</td>\n",
       "      <td>15.088018</td>\n",
       "      <td>380</td>\n",
       "      <td>926</td>\n",
       "      <td>230.0</td>\n",
       "    </tr>\n",
       "    <tr>\n",
       "      <th>1435</th>\n",
       "      <td>619.405354</td>\n",
       "      <td>454.0</td>\n",
       "      <td>50.183819</td>\n",
       "      <td>312.206243</td>\n",
       "      <td>0.491283</td>\n",
       "      <td>-56.609872</td>\n",
       "      <td>20.276846</td>\n",
       "      <td>59.695965</td>\n",
       "      <td>172.152705</td>\n",
       "      <td>108.378106</td>\n",
       "      <td>15.042720</td>\n",
       "      <td>380</td>\n",
       "      <td>926</td>\n",
       "      <td>230.0</td>\n",
       "    </tr>\n",
       "    <tr>\n",
       "      <th>1436</th>\n",
       "      <td>481.628168</td>\n",
       "      <td>813.0</td>\n",
       "      <td>67.938935</td>\n",
       "      <td>223.228055</td>\n",
       "      <td>0.489217</td>\n",
       "      <td>4.802947</td>\n",
       "      <td>10.510753</td>\n",
       "      <td>-76.065072</td>\n",
       "      <td>172.204275</td>\n",
       "      <td>-116.809414</td>\n",
       "      <td>2.153650</td>\n",
       "      <td>701</td>\n",
       "      <td>919</td>\n",
       "      <td>230.0</td>\n",
       "    </tr>\n",
       "    <tr>\n",
       "      <th>1437</th>\n",
       "      <td>656.006431</td>\n",
       "      <td>454.0</td>\n",
       "      <td>48.600101</td>\n",
       "      <td>312.778205</td>\n",
       "      <td>0.491283</td>\n",
       "      <td>-56.994774</td>\n",
       "      <td>20.187912</td>\n",
       "      <td>60.058228</td>\n",
       "      <td>172.813965</td>\n",
       "      <td>107.862883</td>\n",
       "      <td>14.998519</td>\n",
       "      <td>380</td>\n",
       "      <td>926</td>\n",
       "      <td>230.0</td>\n",
       "    </tr>\n",
       "    <tr>\n",
       "      <th>1438</th>\n",
       "      <td>694.970077</td>\n",
       "      <td>454.0</td>\n",
       "      <td>47.114673</td>\n",
       "      <td>313.364927</td>\n",
       "      <td>0.491283</td>\n",
       "      <td>-57.385006</td>\n",
       "      <td>20.099461</td>\n",
       "      <td>60.417117</td>\n",
       "      <td>173.489835</td>\n",
       "      <td>107.343419</td>\n",
       "      <td>14.955436</td>\n",
       "      <td>380</td>\n",
       "      <td>926</td>\n",
       "      <td>230.0</td>\n",
       "    </tr>\n",
       "    <tr>\n",
       "      <th>1439</th>\n",
       "      <td>464.134391</td>\n",
       "      <td>813.0</td>\n",
       "      <td>67.443714</td>\n",
       "      <td>221.755994</td>\n",
       "      <td>0.489217</td>\n",
       "      <td>4.820793</td>\n",
       "      <td>10.471935</td>\n",
       "      <td>-76.395560</td>\n",
       "      <td>173.719883</td>\n",
       "      <td>-116.990086</td>\n",
       "      <td>2.157098</td>\n",
       "      <td>701</td>\n",
       "      <td>919</td>\n",
       "      <td>230.0</td>\n",
       "    </tr>\n",
       "    <tr>\n",
       "      <th>1440</th>\n",
       "      <td>735.921124</td>\n",
       "      <td>454.0</td>\n",
       "      <td>45.631356</td>\n",
       "      <td>313.966802</td>\n",
       "      <td>0.491283</td>\n",
       "      <td>-57.780598</td>\n",
       "      <td>20.011526</td>\n",
       "      <td>60.772507</td>\n",
       "      <td>174.180712</td>\n",
       "      <td>106.819792</td>\n",
       "      <td>14.913495</td>\n",
       "      <td>380</td>\n",
       "      <td>926</td>\n",
       "      <td>230.0</td>\n",
       "    </tr>\n",
       "    <tr>\n",
       "      <th>1441</th>\n",
       "      <td>778.546021</td>\n",
       "      <td>454.0</td>\n",
       "      <td>44.009119</td>\n",
       "      <td>314.584229</td>\n",
       "      <td>0.491283</td>\n",
       "      <td>-58.181580</td>\n",
       "      <td>19.924139</td>\n",
       "      <td>61.124267</td>\n",
       "      <td>174.886998</td>\n",
       "      <td>106.292083</td>\n",
       "      <td>14.872718</td>\n",
       "      <td>380</td>\n",
       "      <td>926</td>\n",
       "      <td>230.0</td>\n",
       "    </tr>\n",
       "    <tr>\n",
       "      <th>1442</th>\n",
       "      <td>445.022465</td>\n",
       "      <td>813.0</td>\n",
       "      <td>67.259159</td>\n",
       "      <td>220.211003</td>\n",
       "      <td>0.489217</td>\n",
       "      <td>4.839124</td>\n",
       "      <td>10.432360</td>\n",
       "      <td>-76.716440</td>\n",
       "      <td>175.308391</td>\n",
       "      <td>-117.168494</td>\n",
       "      <td>2.160535</td>\n",
       "      <td>701</td>\n",
       "      <td>919</td>\n",
       "      <td>230.0</td>\n",
       "    </tr>\n",
       "    <tr>\n",
       "      <th>1443</th>\n",
       "      <td>822.584597</td>\n",
       "      <td>454.0</td>\n",
       "      <td>42.462205</td>\n",
       "      <td>315.217613</td>\n",
       "      <td>0.491283</td>\n",
       "      <td>-58.587979</td>\n",
       "      <td>19.837335</td>\n",
       "      <td>61.472264</td>\n",
       "      <td>175.609100</td>\n",
       "      <td>105.760376</td>\n",
       "      <td>14.833125</td>\n",
       "      <td>380</td>\n",
       "      <td>926</td>\n",
       "      <td>230.0</td>\n",
       "    </tr>\n",
       "    <tr>\n",
       "      <th>1444</th>\n",
       "      <td>867.821659</td>\n",
       "      <td>454.0</td>\n",
       "      <td>40.916564</td>\n",
       "      <td>315.867359</td>\n",
       "      <td>0.491283</td>\n",
       "      <td>-58.999819</td>\n",
       "      <td>19.751146</td>\n",
       "      <td>61.816356</td>\n",
       "      <td>176.347429</td>\n",
       "      <td>105.224763</td>\n",
       "      <td>14.794739</td>\n",
       "      <td>380</td>\n",
       "      <td>926</td>\n",
       "      <td>230.0</td>\n",
       "    </tr>\n",
       "    <tr>\n",
       "      <th>1445</th>\n",
       "      <td>431.947785</td>\n",
       "      <td>813.0</td>\n",
       "      <td>67.356545</td>\n",
       "      <td>218.590069</td>\n",
       "      <td>0.489217</td>\n",
       "      <td>4.857949</td>\n",
       "      <td>10.392031</td>\n",
       "      <td>-77.026996</td>\n",
       "      <td>176.972815</td>\n",
       "      <td>-117.344644</td>\n",
       "      <td>2.163959</td>\n",
       "      <td>701</td>\n",
       "      <td>919</td>\n",
       "      <td>230.0</td>\n",
       "    </tr>\n",
       "    <tr>\n",
       "      <th>1446</th>\n",
       "      <td>914.079284</td>\n",
       "      <td>454.0</td>\n",
       "      <td>39.328422</td>\n",
       "      <td>316.533876</td>\n",
       "      <td>0.491283</td>\n",
       "      <td>-59.417123</td>\n",
       "      <td>19.665606</td>\n",
       "      <td>62.156397</td>\n",
       "      <td>177.102396</td>\n",
       "      <td>104.685338</td>\n",
       "      <td>14.757581</td>\n",
       "      <td>380</td>\n",
       "      <td>926</td>\n",
       "      <td>230.0</td>\n",
       "    </tr>\n",
       "    <tr>\n",
       "      <th>1447</th>\n",
       "      <td>961.210135</td>\n",
       "      <td>454.0</td>\n",
       "      <td>37.739840</td>\n",
       "      <td>317.217573</td>\n",
       "      <td>0.491283</td>\n",
       "      <td>-59.839912</td>\n",
       "      <td>19.580748</td>\n",
       "      <td>62.492237</td>\n",
       "      <td>177.874413</td>\n",
       "      <td>104.142200</td>\n",
       "      <td>14.721669</td>\n",
       "      <td>380</td>\n",
       "      <td>926</td>\n",
       "      <td>230.0</td>\n",
       "    </tr>\n",
       "    <tr>\n",
       "      <th>1448</th>\n",
       "      <td>421.002961</td>\n",
       "      <td>813.0</td>\n",
       "      <td>67.605089</td>\n",
       "      <td>226.231022</td>\n",
       "      <td>0.498923</td>\n",
       "      <td>-4.380660</td>\n",
       "      <td>10.350525</td>\n",
       "      <td>-77.359456</td>\n",
       "      <td>178.612009</td>\n",
       "      <td>-126.750955</td>\n",
       "      <td>2.167917</td>\n",
       "      <td>701</td>\n",
       "      <td>919</td>\n",
       "      <td>230.0</td>\n",
       "    </tr>\n",
       "    <tr>\n",
       "      <th>1449</th>\n",
       "      <td>1009.091860</td>\n",
       "      <td>454.0</td>\n",
       "      <td>44.973014</td>\n",
       "      <td>317.918857</td>\n",
       "      <td>0.491283</td>\n",
       "      <td>-60.268204</td>\n",
       "      <td>19.496607</td>\n",
       "      <td>62.823719</td>\n",
       "      <td>178.663892</td>\n",
       "      <td>103.595453</td>\n",
       "      <td>14.687025</td>\n",
       "      <td>380</td>\n",
       "      <td>926</td>\n",
       "      <td>230.0</td>\n",
       "    </tr>\n",
       "    <tr>\n",
       "      <th>1450</th>\n",
       "      <td>1057.622477</td>\n",
       "      <td>454.0</td>\n",
       "      <td>64.059559</td>\n",
       "      <td>318.638135</td>\n",
       "      <td>0.491283</td>\n",
       "      <td>-60.702014</td>\n",
       "      <td>19.413217</td>\n",
       "      <td>63.150681</td>\n",
       "      <td>179.471243</td>\n",
       "      <td>103.045203</td>\n",
       "      <td>14.653667</td>\n",
       "      <td>380</td>\n",
       "      <td>926</td>\n",
       "      <td>230.0</td>\n",
       "    </tr>\n",
       "  </tbody>\n",
       "</table>\n",
       "<p>319024 rows × 14 columns</p>\n",
       "</div>"
      ],
      "text/plain": [
       "      DistanceToContinent  NearestContinentPID  SeafloorAge  arc_azimuth  \\\n",
       "0                0.000000              16130.0    33.191524     7.048196   \n",
       "1              104.296523                806.0    72.351119   293.688940   \n",
       "2             1675.109671                844.0    77.421896   196.384032   \n",
       "3              147.636960                806.0    72.765439   293.547286   \n",
       "4              170.352834                823.0    73.459981   293.408606   \n",
       "5             1694.367534                844.0    77.323223   196.319209   \n",
       "6                0.000000              16130.0    33.191525     7.537337   \n",
       "7              147.946897                823.0    74.696435   293.272837   \n",
       "8             1714.223219                844.0    76.903078   196.253802   \n",
       "9              127.142407                823.0    75.319742   286.827791   \n",
       "10             120.471870                823.0    75.915780   286.727432   \n",
       "11            1729.657345                844.0    75.557643   216.467133   \n",
       "12             122.785370                823.0    76.495770   286.629375   \n",
       "13               0.000000              16130.0    33.191525   351.178527   \n",
       "14             138.929008                823.0    77.081558   286.533569   \n",
       "15            1741.126634                844.0    74.866493   216.396194   \n",
       "16             155.227797                823.0    77.672360   286.439965   \n",
       "17             171.516207                823.0    78.202611   286.348514   \n",
       "18            1753.765845                844.0    74.358461   216.323616   \n",
       "19             187.793148                823.0    76.897667   286.259172   \n",
       "20               0.000000              16130.0    33.191524   351.750823   \n",
       "21             204.057529                823.0    77.011528   286.171894   \n",
       "22             220.308259                823.0    76.930991   286.086636   \n",
       "23            1766.629566                844.0    73.576312   217.662059   \n",
       "24             236.544247                823.0    75.936646   286.003357   \n",
       "25             252.764403                823.0    76.163402   285.922017   \n",
       "26            1779.511976                844.0    73.286919   217.591718   \n",
       "27             268.967638                823.0    72.404976   285.842576   \n",
       "28               0.000000              16130.0    33.191525   352.325350   \n",
       "29             285.152861                823.0    66.457440   285.764999   \n",
       "...                   ...                  ...          ...          ...   \n",
       "1421           489.615617                454.0    67.994458   307.216333   \n",
       "1422           480.770411                454.0    66.438381   307.660905   \n",
       "1423           401.231601                806.0    68.475360   228.450125   \n",
       "1424           474.007224                454.0    64.877981   308.116678   \n",
       "1425           472.973525                454.0    63.250034   308.583974   \n",
       "1426           430.164422                806.0    68.725976   227.238178   \n",
       "1427           478.207708                454.0    61.530655   309.063118   \n",
       "1428           489.508749                454.0    59.775789   309.554449   \n",
       "1429           463.681158                806.0    68.965798   225.965959   \n",
       "1430           506.470696                454.0    57.915399   310.058311   \n",
       "1431           528.548827                454.0    55.948127   310.575057   \n",
       "1432           490.199464                813.0    68.598910   224.630315   \n",
       "1433           555.133048                454.0    54.074711   311.105048   \n",
       "1434           585.610006                454.0    52.072920   311.648651   \n",
       "1435           619.405354                454.0    50.183819   312.206243   \n",
       "1436           481.628168                813.0    67.938935   223.228055   \n",
       "1437           656.006431                454.0    48.600101   312.778205   \n",
       "1438           694.970077                454.0    47.114673   313.364927   \n",
       "1439           464.134391                813.0    67.443714   221.755994   \n",
       "1440           735.921124                454.0    45.631356   313.966802   \n",
       "1441           778.546021                454.0    44.009119   314.584229   \n",
       "1442           445.022465                813.0    67.259159   220.211003   \n",
       "1443           822.584597                454.0    42.462205   315.217613   \n",
       "1444           867.821659                454.0    40.916564   315.867359   \n",
       "1445           431.947785                813.0    67.356545   218.590069   \n",
       "1446           914.079284                454.0    39.328422   316.533876   \n",
       "1447           961.210135                454.0    37.739840   317.217573   \n",
       "1448           421.002961                813.0    67.605089   226.231022   \n",
       "1449          1009.091860                454.0    44.973014   317.918857   \n",
       "1450          1057.622477                454.0    64.059559   318.638135   \n",
       "\n",
       "      arc_length  conv_obliq  conv_rate        lat         lon  migr_obliq  \\\n",
       "0       0.407674  -55.309337   6.812935  50.444919 -179.937442  164.654379   \n",
       "1       0.468018  -39.017566   4.843504 -37.283931 -179.904160   44.009679   \n",
       "2       0.338897   65.727968   9.177222 -11.225768 -179.705383 -135.001933   \n",
       "3       0.468018  -38.350411   4.914457 -36.855115 -179.669162   44.433350   \n",
       "4       0.468018  -37.704138   4.985854 -36.425842 -179.436788   44.865451   \n",
       "5       0.338897   65.996958   9.157936 -11.321178 -179.373795 -134.407560   \n",
       "6       0.407674  -55.516762   6.795949  50.393168 -179.302793  164.848028   \n",
       "7       0.468018  -37.077989   5.057658 -35.996123 -179.206970   45.306141   \n",
       "8       0.338897   66.267825   9.138799 -11.416219 -179.041987 -133.799833   \n",
       "9       0.490832  -30.178118   5.134455 -35.546225 -179.005424   52.117849   \n",
       "10      0.490832  -29.658123   5.216077 -35.076286 -178.831799   52.646819   \n",
       "11      0.425152   46.257922   9.108667 -11.589999 -178.701567 -153.532386   \n",
       "12      0.490832  -29.155944   5.297825 -34.606102 -178.660163   53.185406   \n",
       "13      0.478084  -38.826980   6.773647  50.403247 -178.615688 -178.182555   \n",
       "14      0.490832  -28.670798   5.379669 -34.135681 -178.490461   53.733727   \n",
       "15      0.425152   46.531094   9.067397 -11.842482 -178.352226 -153.039844   \n",
       "16      0.490832  -28.201942   5.461583 -33.665029 -178.322637   54.291890   \n",
       "17      0.490832  -27.748671   5.543538 -33.194153 -178.156641   54.860002   \n",
       "18      0.425152   46.808347   9.026099 -12.094537 -178.002240 -152.528751   \n",
       "19      0.490832  -27.310317   5.625511 -32.723059 -177.992421   55.438163   \n",
       "20      0.478084  -39.017012   6.745883  50.474205 -177.873360 -178.208792   \n",
       "21      0.490832  -26.886243   5.707476 -32.251753 -177.829927   56.026467   \n",
       "22      0.490832  -26.475847   5.789411 -31.780241 -177.669111   56.625002   \n",
       "23      0.401749   45.668876   8.985411 -12.343183 -177.664295 -153.434879   \n",
       "24      0.490832  -26.078556   5.871293 -31.308529 -177.509928   57.233847   \n",
       "25      0.490832  -25.693827   5.953101 -30.836623 -177.352331   57.853075   \n",
       "26      0.401749   45.932319   8.945324 -12.588459 -177.338426 -152.939464   \n",
       "27      0.490832  -25.321144   6.034813 -30.364527 -177.196277   58.482751   \n",
       "28      0.478084  -39.210580   6.717911  50.540428 -177.128876 -178.234161   \n",
       "29      0.490832  -24.960015   6.116412 -29.892248 -177.041722   59.122929   \n",
       "...          ...         ...        ...        ...         ...         ...   \n",
       "1421    0.491283  -53.046151  21.185810  55.912122  166.260759  113.283286   \n",
       "1422    0.491283  -53.379765  21.093770  56.302207  166.796331  112.813751   \n",
       "1423    0.489217    4.736262  10.658397 -74.659716  166.807689 -116.064066   \n",
       "1424    0.491283  -53.718327  21.001904  56.689934  167.342917  112.339440   \n",
       "1425    0.491283  -54.061878  20.910241  57.075218  167.900842  111.860390   \n",
       "1426    0.489217    4.752243  10.622636 -75.022405  168.063317 -116.253806   \n",
       "1427    0.491283  -54.410462  20.818812  57.457972  168.470437  111.376638   \n",
       "1428    0.491283  -54.764118  20.727646  57.838103  169.052043  110.888229   \n",
       "1429    0.489217    4.768680  10.586106 -75.377893  169.379181 -116.441276   \n",
       "1430    0.491283  -55.122889  20.636774  58.215518  169.646008  110.395209   \n",
       "1431    0.491283  -55.486811  20.546227  58.590116  170.252688  109.897629   \n",
       "1432    0.489217    4.785579  10.548811 -75.725641  170.758437 -116.626478   \n",
       "1433    0.491283  -55.855925  20.456035  58.961796  170.872449  109.395545   \n",
       "1434    0.491283  -56.230267  20.366231  59.330449  171.505661  108.889016   \n",
       "1435    0.491283  -56.609872  20.276846  59.695965  172.152705  108.378106   \n",
       "1436    0.489217    4.802947  10.510753 -76.065072  172.204275 -116.809414   \n",
       "1437    0.491283  -56.994774  20.187912  60.058228  172.813965  107.862883   \n",
       "1438    0.491283  -57.385006  20.099461  60.417117  173.489835  107.343419   \n",
       "1439    0.489217    4.820793  10.471935 -76.395560  173.719883 -116.990086   \n",
       "1440    0.491283  -57.780598  20.011526  60.772507  174.180712  106.819792   \n",
       "1441    0.491283  -58.181580  19.924139  61.124267  174.886998  106.292083   \n",
       "1442    0.489217    4.839124  10.432360 -76.716440  175.308391 -117.168494   \n",
       "1443    0.491283  -58.587979  19.837335  61.472264  175.609100  105.760376   \n",
       "1444    0.491283  -58.999819  19.751146  61.816356  176.347429  105.224763   \n",
       "1445    0.489217    4.857949  10.392031 -77.026996  176.972815 -117.344644   \n",
       "1446    0.491283  -59.417123  19.665606  62.156397  177.102396  104.685338   \n",
       "1447    0.491283  -59.839912  19.580748  62.492237  177.874413  104.142200   \n",
       "1448    0.498923   -4.380660  10.350525 -77.359456  178.612009 -126.750955   \n",
       "1449    0.491283  -60.268204  19.496607  62.823719  178.663892  103.595453   \n",
       "1450    0.491283  -60.702014  19.413217  63.150681  179.471243  103.045203   \n",
       "\n",
       "      migr_rate overriding_plate subducting_plate   time  \n",
       "0      1.223722              101              901    0.0  \n",
       "1     -5.010784              801              901    0.0  \n",
       "2     10.433777              801              901    0.0  \n",
       "3     -4.972855              801              901    0.0  \n",
       "4     -4.935034              801              901    0.0  \n",
       "5     10.327195              801              901    0.0  \n",
       "6      1.238988              101              901    0.0  \n",
       "7     -4.897334              801              901    0.0  \n",
       "8     10.221573              801              901    0.0  \n",
       "9     -4.861200              801              901    0.0  \n",
       "10    -4.826738              801              901    0.0  \n",
       "11    10.083635              801              901    0.0  \n",
       "12    -4.792564              801              901    0.0  \n",
       "13     1.255832              101              901    0.0  \n",
       "14    -4.758696              801              901    0.0  \n",
       "15     9.912845              801              901    0.0  \n",
       "16    -4.725149              801              901    0.0  \n",
       "17    -4.691940              801              901    0.0  \n",
       "18     9.742381              801              901    0.0  \n",
       "19    -4.659087              801              901    0.0  \n",
       "20     1.274220              101              901    0.0  \n",
       "21    -4.626607              801              901    0.0  \n",
       "22    -4.594516              801              901    0.0  \n",
       "23     9.575951              801              901    0.0  \n",
       "24    -4.562834              801              901    0.0  \n",
       "25    -4.531578              801              901    0.0  \n",
       "26     9.413515              801              901    0.0  \n",
       "27    -4.500766              801              901    0.0  \n",
       "28     1.292521              101              901    0.0  \n",
       "29    -4.470416              801              901    0.0  \n",
       "...         ...              ...              ...    ...  \n",
       "1421  15.541133              380              926  230.0  \n",
       "1422  15.487039              380              926  230.0  \n",
       "1423   2.139765              701              919  230.0  \n",
       "1424  15.433825              380              926  230.0  \n",
       "1425  15.381515              380              926  230.0  \n",
       "1426   2.143248              701              919  230.0  \n",
       "1427  15.330134              380              926  230.0  \n",
       "1428  15.279706              380              926  230.0  \n",
       "1429   2.146724              701              919  230.0  \n",
       "1430  15.230257              380              926  230.0  \n",
       "1431  15.181810              380              926  230.0  \n",
       "1432   2.150192              701              919  230.0  \n",
       "1433  15.134389              380              926  230.0  \n",
       "1434  15.088018              380              926  230.0  \n",
       "1435  15.042720              380              926  230.0  \n",
       "1436   2.153650              701              919  230.0  \n",
       "1437  14.998519              380              926  230.0  \n",
       "1438  14.955436              380              926  230.0  \n",
       "1439   2.157098              701              919  230.0  \n",
       "1440  14.913495              380              926  230.0  \n",
       "1441  14.872718              380              926  230.0  \n",
       "1442   2.160535              701              919  230.0  \n",
       "1443  14.833125              380              926  230.0  \n",
       "1444  14.794739              380              926  230.0  \n",
       "1445   2.163959              701              919  230.0  \n",
       "1446  14.757581              380              926  230.0  \n",
       "1447  14.721669              380              926  230.0  \n",
       "1448   2.167917              701              919  230.0  \n",
       "1449  14.687025              380              926  230.0  \n",
       "1450  14.653667              380              926  230.0  \n",
       "\n",
       "[319024 rows x 14 columns]"
      ]
     },
     "execution_count": 12,
     "metadata": {},
     "output_type": "execute_result"
    }
   ],
   "source": [
    "# Display a preveiw of the data we just created\n",
    "df_AllTimes"
   ]
  },
  {
   "cell_type": "code",
   "execution_count": null,
   "metadata": {},
   "outputs": [],
   "source": []
  }
 ],
 "metadata": {
  "anaconda-cloud": {},
  "kernelspec": {
   "display_name": "Python 2",
   "language": "python",
   "name": "python2"
  },
  "language_info": {
   "codemirror_mode": {
    "name": "ipython",
    "version": 2
   },
   "file_extension": ".py",
   "mimetype": "text/x-python",
   "name": "python",
   "nbconvert_exporter": "python",
   "pygments_lexer": "ipython2",
   "version": "2.7.12"
  }
 },
 "nbformat": 4,
 "nbformat_minor": 1
}
