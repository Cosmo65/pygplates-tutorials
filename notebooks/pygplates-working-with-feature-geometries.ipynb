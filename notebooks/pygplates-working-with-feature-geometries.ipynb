{
 "cells": [
  {
   "cell_type": "markdown",
   "metadata": {},
   "source": [
    "## Working with feature geometries\n",
    "\n",
    "To read the features from a feature collection (e.g a gpml or shapefile) from a file into memory, you need to use the following lines:"
   ]
  },
  {
   "cell_type": "code",
   "execution_count": null,
   "metadata": {},
   "outputs": [],
   "source": [
    "import pygplates\n",
    "from shapely.geometry.polygon import Polygon\n",
    "from shapely.geometry import Point\n",
    "import cartopy.feature as cfeature\n",
    "import cartopy.crs as ccrs\n",
    "import matplotlib.pyplot as plt\n",
    "%matplotlib inline\n",
    "\n",
    "input_feature_filename = \"Data/LIPs_2014.gpmlz\"\n",
    "\n",
    "features = pygplates.FeatureCollection(input_feature_filename)\n"
   ]
  },
  {
   "cell_type": "markdown",
   "metadata": {},
   "source": [
    "The 'features' object contains all the features in that file - for example, every isochron in an isochron file. \n",
    "\n",
    "A simple way to to access individual features is to iterate over the features in a “for” loop. \n",
    "\n",
    "Each feature has properties (the ones you would see if you clicked on that feature in gplates) and a geometry (the point/line/polygon that gplates displays). We can access these for each feature, here is an example where for each feature within a feature collection, we print the Plate ID."
   ]
  },
  {
   "cell_type": "code",
   "execution_count": null,
   "metadata": {},
   "outputs": [],
   "source": [
    "ids=set()\n",
    "print('There are {0} features in the file {1}.'.format(len(features),input_feature_filename))\n",
    "\n",
    "for feature in features:\n",
    "    ids.add(feature.get_reconstruction_plate_id())\n",
    "    \n",
    "print('The {0} features have {1} unique plate ids.'.format(len(features), len(ids)))\n",
    "print('The unique plate ids are {}.'.format(list(ids)))"
   ]
  },
  {
   "cell_type": "markdown",
   "metadata": {},
   "source": [
    "We can iterate over the features and look at the geometry type for each one"
   ]
  },
  {
   "cell_type": "code",
   "execution_count": null,
   "metadata": {},
   "outputs": [],
   "source": [
    "polygons=[]\n",
    "points=[]\n",
    "polylines=[]\n",
    "for feature in features:\n",
    "    geom = feature.get_geometry()\n",
    "    if isinstance(geom, pygplates.PointOnSphere):\n",
    "        points.append(geom)\n",
    "    if isinstance(geom, pygplates.PolylineOnSphere):\n",
    "        polylines.append(geom)\n",
    "    if isinstance(geom, pygplates.PolygonOnSphere):\n",
    "        polygons.append(geom)\n",
    "print('The number of point geometries is {}.'.format(len(points)))\n",
    "print('The number of polyline geometries is {}.'.format(len(polylines)))\n",
    "print('The number of polygon geometries is {}.'.format(len(polygons)))"
   ]
  },
  {
   "cell_type": "markdown",
   "metadata": {},
   "source": [
    "This code combines both property and geometry capabilities.\n",
    "\n",
    "It says, 'find me the features where the plate ID is 901, and show me the area of each polygon that have this plate ID'.\n"
   ]
  },
  {
   "cell_type": "code",
   "execution_count": null,
   "metadata": {},
   "outputs": [],
   "source": [
    "areas=[]\n",
    "for feature in features:\n",
    "    if feature.get_reconstruction_plate_id() == 901:\n",
    "        areas.append(feature.get_geometry().get_area())\n",
    "print('There are {} features of which the plate id is 901.'.format(len(areas)))\n",
    "print('The areas of these features are {}.'.format(areas))\n",
    "print('(NB the area is expressed for a unit sphere - to convert to Earth units, need to multiply by radius**2)')"
   ]
  },
  {
   "cell_type": "markdown",
   "metadata": {},
   "source": [
    "Since we are often interested in having the point coordinates as latitudes and longitudes, there are a number of methods to give these to us.\n",
    "\n",
    "For example, the following shows how to iterate over the polygons in a feature collection and, for polygons with plateid=101,\n",
    "\n",
    "    - get the centroid point of the polygon\n",
    "    - get the latitude and longitude of each centroid point"
   ]
  },
  {
   "cell_type": "code",
   "execution_count": null,
   "metadata": {},
   "outputs": [],
   "source": [
    "centroids=[]\n",
    "for feature in features:\n",
    "    if feature.get_reconstruction_plate_id() == 101:\n",
    "        polygon = feature.get_geometry()\n",
    "        centroids.append(polygon.get_boundary_centroid().to_lat_lon())\n",
    "        \n",
    "print('There are {} polygon features with the plate id 101.'.format(len(centroids)))\n",
    "print('The centroids are {}.'.format(centroids))\n"
   ]
  },
  {
   "cell_type": "markdown",
   "metadata": {},
   "source": [
    "To access the individual vertices of polygons, you can use this code:"
   ]
  },
  {
   "cell_type": "code",
   "execution_count": null,
   "metadata": {},
   "outputs": [],
   "source": [
    "polygons=[]\n",
    "for feature in features:\n",
    "    if feature.get_reconstruction_plate_id() == 701:\n",
    "        polygon = feature.get_geometry()\n",
    "        #get Polygon vertices and construct shapely polygon object\n",
    "        polygons.append(Polygon(((lon,lat) for lat, lon in polygon.to_lat_lon_list())))\n",
    "        \n",
    "plt.figure(figsize=(16, 8))\n",
    "ax = plt.axes(projection=ccrs.PlateCarree())\n",
    "ax.coastlines()\n",
    "\n",
    "ax.add_geometries(polygons, crs=ccrs. PlateCarree(), facecolor='b', edgecolor='red', alpha=0.8)\n",
    "print('Showing {} polygons.'.format(len(polygons)))\n",
    "plt.show()"
   ]
  },
  {
   "cell_type": "markdown",
   "metadata": {
    "collapsed": true
   },
   "source": [
    "The following example shows how to reconstruct individual feature geometries using a rotation pole derived from a rotation file. This gives more fine-grained control on reconstructions than the basic 'pygplates.reconstruct' function, which is suitable for reconstructing all the features in a collection for a single reconstruction time. \n",
    "\n",
    "Here, we iterate over a series of feature geometries, determine a 'rotation' object based on the attributes of that polygon, and apply this rotation to the centroid point geometry using:\n",
    "\n",
    "             rotation * polygon.get_boundary_centroid()"
   ]
  },
  {
   "cell_type": "code",
   "execution_count": null,
   "metadata": {},
   "outputs": [],
   "source": [
    "# Load a rotation file\n",
    "input_rotation_filename = 'Data/Seton_etal_ESR2012_2012.1.rot'\n",
    "\n",
    "rotation_model=pygplates.RotationModel(input_rotation_filename)\n",
    "\n",
    "# Get finite rotation for plate 701 relative to spin axis at 52 Ma\n",
    "rotation = rotation_model.get_rotation(52.,701, 0., 1)\n",
    "print('The finite rotation is {}.'.format(rotation))\n",
    "\n",
    "# For each LIP polygon feature with plateid 701, get the centroid location and reconstruct it \n",
    "# based on the rotation pole we just got from the rotation file\n",
    "centroids = []\n",
    "reconstructed_centroids = []\n",
    "for feature in features:\n",
    "    if feature.get_reconstruction_plate_id() == 701:\n",
    "        polygon = feature.get_geometry()\n",
    "        centroid = polygon.get_boundary_centroid()\n",
    "        centroids.append(centroid.to_lat_lon())\n",
    "        reconstructed_centroid = rotation * centroid\n",
    "        reconstructed_centroids.append(reconstructed_centroid.to_lat_lon())\n",
    "        \n",
    "plt.figure(figsize=(16, 8))\n",
    "ax = plt.axes(projection=ccrs.Robinson())\n",
    "ax.set_global()\n",
    "ax.coastlines()\n",
    "\n",
    "print('The original centroids are in red.')\n",
    "print('The reconstructed centroids are in blue.')\n",
    "\n",
    "[lat,lon] = zip(*centroids)\n",
    "ax.scatter(lon,lat, color='red', transform=ccrs.Geodetic())\n",
    "[lat,lon] = zip(*reconstructed_centroids)\n",
    "ax.scatter(lon,lat, color='blue', transform=ccrs.Geodetic())\n",
    "\n",
    "plt.show()\n",
    "        "
   ]
  },
  {
   "cell_type": "code",
   "execution_count": null,
   "metadata": {},
   "outputs": [],
   "source": []
  }
 ],
 "metadata": {
  "kernelspec": {
   "display_name": "Python 2",
   "language": "python",
   "name": "python2"
  },
  "language_info": {
   "codemirror_mode": {
    "name": "ipython",
    "version": 2
   },
   "file_extension": ".py",
   "mimetype": "text/x-python",
   "name": "python",
   "nbconvert_exporter": "python",
   "pygments_lexer": "ipython2",
   "version": "2.7.12"
  }
 },
 "nbformat": 4,
 "nbformat_minor": 1
}
