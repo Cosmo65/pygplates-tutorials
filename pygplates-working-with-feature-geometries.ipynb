{
 "cells": [
  {
   "cell_type": "markdown",
   "metadata": {},
   "source": [
    "## Working with feature geometries\n",
    "\n",
    "To read the features from a feature collection (e.g a gpml or shapefile) from a file into memory, you need to use the following lines:"
   ]
  },
  {
   "cell_type": "code",
   "execution_count": 10,
   "metadata": {
    "collapsed": false
   },
   "outputs": [],
   "source": [
    "import pygplates\n",
    "\n",
    "input_feature_filename = \"Data/LIPs_2014.gpmlz\"\n",
    "\n",
    "features = pygplates.FeatureCollection(input_feature_filename)\n"
   ]
  },
  {
   "cell_type": "markdown",
   "metadata": {},
   "source": [
    "The 'features' object contains all the features in that file - for example, every isochron in an isochron file. \n",
    "\n",
    "A simple way to to access individual features is to iterate over the features in a for loop. \n",
    "\n",
    "Each feature has properties (the ones you would see if you clicked on that feature in gplates) and a geometry (the point/line/polygon that gplates displays). We can access these for each feature, here is an example where for each feature within a feature collection, we print the Plate ID."
   ]
  },
  {
   "cell_type": "code",
   "execution_count": 11,
   "metadata": {
    "collapsed": false
   },
   "outputs": [
    {
     "name": "stdout",
     "output_type": "stream",
     "text": [
      "802\n",
      "101\n",
      "714\n",
      "714\n",
      "973\n",
      "201\n",
      "501\n",
      "909\n",
      "802\n",
      "802\n",
      "801\n",
      "801\n",
      "801\n",
      "802\n",
      "690\n",
      "901\n",
      "293\n",
      "909\n",
      "909\n",
      "901\n",
      "983\n",
      "702\n",
      "714\n",
      "714\n",
      "714\n",
      "901\n",
      "901\n",
      "982\n",
      "802\n",
      "911\n",
      "293\n",
      "293\n",
      "901\n",
      "901\n",
      "901\n",
      "801\n",
      "911\n",
      "911\n",
      "911\n",
      "911\n",
      "911\n",
      "901\n",
      "714\n",
      "201\n",
      "101\n",
      "701\n",
      "701\n",
      "701\n",
      "701\n",
      "701\n",
      "701\n",
      "802\n",
      "701\n",
      "701\n",
      "701\n",
      "511\n",
      "511\n",
      "511\n",
      "801\n",
      "901\n",
      "501\n",
      "301\n",
      "802\n",
      "802\n",
      "802\n",
      "901\n",
      "801\n",
      "201\n",
      "201\n",
      "701\n",
      "701\n",
      "301\n",
      "704\n",
      "704\n",
      "704\n",
      "501\n",
      "501\n",
      "701\n",
      "201\n",
      "201\n",
      "201\n",
      "201\n",
      "911\n",
      "301\n",
      "101\n",
      "802\n",
      "750\n",
      "701\n",
      "111\n",
      "111\n",
      "111\n",
      "111\n"
     ]
    }
   ],
   "source": [
    "for feature in features:\n",
    "    print feature.get_reconstruction_plate_id()"
   ]
  },
  {
   "cell_type": "markdown",
   "metadata": {},
   "source": [
    "We can iterate over the features and look at the geometry type for each one"
   ]
  },
  {
   "cell_type": "code",
   "execution_count": 12,
   "metadata": {
    "collapsed": false
   },
   "outputs": [
    {
     "name": "stdout",
     "output_type": "stream",
     "text": [
      "<pygplates.PolygonOnSphere object at 0x7f40824076e0>\n",
      "<pygplates.PolygonOnSphere object at 0x7f4082407670>\n",
      "<pygplates.PolygonOnSphere object at 0x7f4082407750>\n",
      "<pygplates.PolygonOnSphere object at 0x7f40824073d0>\n",
      "<pygplates.PolygonOnSphere object at 0x7f40824076e0>\n",
      "<pygplates.PolygonOnSphere object at 0x7f4082407670>\n",
      "<pygplates.PolygonOnSphere object at 0x7f4082407750>\n",
      "<pygplates.PolygonOnSphere object at 0x7f40824073d0>\n",
      "<pygplates.PolygonOnSphere object at 0x7f40824076e0>\n",
      "<pygplates.PolygonOnSphere object at 0x7f4082407670>\n",
      "<pygplates.PolygonOnSphere object at 0x7f4082407750>\n",
      "<pygplates.PolygonOnSphere object at 0x7f40824073d0>\n",
      "<pygplates.PolygonOnSphere object at 0x7f40824076e0>\n",
      "<pygplates.PolygonOnSphere object at 0x7f4082407670>\n",
      "<pygplates.PolygonOnSphere object at 0x7f4082407750>\n",
      "<pygplates.PolygonOnSphere object at 0x7f40824073d0>\n",
      "<pygplates.PolygonOnSphere object at 0x7f40824076e0>\n",
      "<pygplates.PolygonOnSphere object at 0x7f4082407670>\n",
      "<pygplates.PolygonOnSphere object at 0x7f4082407750>\n",
      "<pygplates.PolygonOnSphere object at 0x7f40824073d0>\n",
      "<pygplates.PolygonOnSphere object at 0x7f40824076e0>\n",
      "<pygplates.PolygonOnSphere object at 0x7f4082407670>\n",
      "<pygplates.PolygonOnSphere object at 0x7f4082407750>\n",
      "<pygplates.PolygonOnSphere object at 0x7f40824073d0>\n",
      "<pygplates.PolygonOnSphere object at 0x7f40824076e0>\n",
      "<pygplates.PolygonOnSphere object at 0x7f4082407670>\n",
      "<pygplates.PolygonOnSphere object at 0x7f4082407750>\n",
      "<pygplates.PolygonOnSphere object at 0x7f40824073d0>\n",
      "<pygplates.PolygonOnSphere object at 0x7f40824076e0>\n",
      "<pygplates.PolygonOnSphere object at 0x7f4082407670>\n",
      "<pygplates.PolygonOnSphere object at 0x7f4082407750>\n",
      "<pygplates.PolygonOnSphere object at 0x7f40824073d0>\n",
      "<pygplates.PolygonOnSphere object at 0x7f40824076e0>\n",
      "<pygplates.PolygonOnSphere object at 0x7f4082407670>\n",
      "<pygplates.PolygonOnSphere object at 0x7f4082407750>\n",
      "<pygplates.PolygonOnSphere object at 0x7f40824073d0>\n",
      "<pygplates.PolygonOnSphere object at 0x7f40824076e0>\n",
      "<pygplates.PolygonOnSphere object at 0x7f4082407670>\n",
      "<pygplates.PolygonOnSphere object at 0x7f4082407750>\n",
      "<pygplates.PolygonOnSphere object at 0x7f40824073d0>\n",
      "<pygplates.PolygonOnSphere object at 0x7f40824076e0>\n",
      "<pygplates.PolygonOnSphere object at 0x7f4082407670>\n",
      "<pygplates.PolygonOnSphere object at 0x7f4082407750>\n",
      "<pygplates.PolygonOnSphere object at 0x7f40824073d0>\n",
      "<pygplates.PolygonOnSphere object at 0x7f40824076e0>\n",
      "<pygplates.PolygonOnSphere object at 0x7f4082407670>\n",
      "<pygplates.PolygonOnSphere object at 0x7f4082407750>\n",
      "<pygplates.PolygonOnSphere object at 0x7f40824073d0>\n",
      "<pygplates.PolygonOnSphere object at 0x7f40824076e0>\n",
      "<pygplates.PolygonOnSphere object at 0x7f4082407670>\n",
      "<pygplates.PolygonOnSphere object at 0x7f4082407750>\n",
      "<pygplates.PolygonOnSphere object at 0x7f40824073d0>\n",
      "<pygplates.PolygonOnSphere object at 0x7f40824076e0>\n",
      "<pygplates.PolygonOnSphere object at 0x7f4082407670>\n",
      "<pygplates.PolygonOnSphere object at 0x7f4082407750>\n",
      "<pygplates.PolygonOnSphere object at 0x7f40824073d0>\n",
      "<pygplates.PolygonOnSphere object at 0x7f40824076e0>\n",
      "<pygplates.PolygonOnSphere object at 0x7f4082407670>\n",
      "<pygplates.PolygonOnSphere object at 0x7f4082407750>\n",
      "<pygplates.PolygonOnSphere object at 0x7f40824073d0>\n",
      "<pygplates.PolygonOnSphere object at 0x7f40824076e0>\n",
      "<pygplates.PolygonOnSphere object at 0x7f4082407670>\n",
      "<pygplates.PolygonOnSphere object at 0x7f4082407750>\n",
      "<pygplates.PolygonOnSphere object at 0x7f40824073d0>\n",
      "<pygplates.PolygonOnSphere object at 0x7f40824076e0>\n",
      "<pygplates.PolygonOnSphere object at 0x7f4082407670>\n",
      "<pygplates.PolygonOnSphere object at 0x7f4082407750>\n",
      "<pygplates.PolygonOnSphere object at 0x7f40824073d0>\n",
      "<pygplates.PolygonOnSphere object at 0x7f40824076e0>\n",
      "<pygplates.PolygonOnSphere object at 0x7f4082407670>\n",
      "<pygplates.PolygonOnSphere object at 0x7f4082407750>\n",
      "<pygplates.PolygonOnSphere object at 0x7f40824073d0>\n",
      "<pygplates.PolygonOnSphere object at 0x7f40824076e0>\n",
      "<pygplates.PolygonOnSphere object at 0x7f4082407670>\n",
      "<pygplates.PolygonOnSphere object at 0x7f4082407750>\n",
      "<pygplates.PolygonOnSphere object at 0x7f40824073d0>\n",
      "<pygplates.PolygonOnSphere object at 0x7f40824076e0>\n",
      "<pygplates.PolygonOnSphere object at 0x7f4082407670>\n",
      "<pygplates.PolygonOnSphere object at 0x7f4082407750>\n",
      "<pygplates.PolygonOnSphere object at 0x7f40824073d0>\n",
      "<pygplates.PolygonOnSphere object at 0x7f40824076e0>\n",
      "<pygplates.PolygonOnSphere object at 0x7f4082407670>\n",
      "<pygplates.PolygonOnSphere object at 0x7f4082407750>\n",
      "<pygplates.PolygonOnSphere object at 0x7f40824073d0>\n",
      "<pygplates.PolygonOnSphere object at 0x7f40824076e0>\n",
      "<pygplates.PolygonOnSphere object at 0x7f4082407670>\n",
      "<pygplates.PolygonOnSphere object at 0x7f4082407750>\n",
      "<pygplates.PolygonOnSphere object at 0x7f40824073d0>\n",
      "<pygplates.PolygonOnSphere object at 0x7f40824076e0>\n",
      "<pygplates.PolygonOnSphere object at 0x7f4082407670>\n",
      "<pygplates.PolygonOnSphere object at 0x7f4082407750>\n",
      "<pygplates.PolygonOnSphere object at 0x7f40824073d0>\n"
     ]
    }
   ],
   "source": [
    "for feature in features:\n",
    "    print feature.get_geometry()"
   ]
  },
  {
   "cell_type": "markdown",
   "metadata": {},
   "source": [
    "This code combines both property and geometry capabilities.\n",
    "\n",
    "It says, 'find me the features where the plate ID is 901, and show me the area of each polygon that have this plate ID'.\n",
    "\n",
    "(NB the area is expressed for a unit sphere - to convert to Earth units, need to multiply by radius**2"
   ]
  },
  {
   "cell_type": "code",
   "execution_count": 13,
   "metadata": {
    "collapsed": false
   },
   "outputs": [
    {
     "name": "stdout",
     "output_type": "stream",
     "text": [
      "0.00846239080491\n",
      "0.00292433678503\n",
      "0.000537599895546\n",
      "0.00549003963242\n",
      "7.47005726387e-05\n",
      "5.42520011244e-05\n",
      "0.000235709125096\n",
      "0.00881938878497\n",
      "0.0464521835569\n",
      "0.0126459680057\n"
     ]
    }
   ],
   "source": [
    "for feature in features:\n",
    "    if feature.get_reconstruction_plate_id() == 901:\n",
    "        print feature.get_geometry().get_area()"
   ]
  },
  {
   "cell_type": "markdown",
   "metadata": {},
   "source": [
    "Since we are often interested in having the point coordinates as latitudes and longitudes, there are a number of methods to give these to us.\n",
    "\n",
    "For example, the following shows how to iterate over the polygons in a feature collection and, for polygons with plateid=101,\n",
    "\n",
    "    - get the centroid point of the polygon\n",
    "    - get the latitude and longitude of each centroid point"
   ]
  },
  {
   "cell_type": "code",
   "execution_count": 14,
   "metadata": {
    "collapsed": false
   },
   "outputs": [
    {
     "name": "stdout",
     "output_type": "stream",
     "text": [
      "(32.32261854767031, -64.79063765137695)\n",
      "(34.40311102132128, -76.23081963225276)\n",
      "(37.12233943627294, -59.74171706937214)\n"
     ]
    }
   ],
   "source": [
    "for feature in features:\n",
    "    if feature.get_reconstruction_plate_id() == 101:\n",
    "        polygon = feature.get_geometry()\n",
    "        point = polygon.get_boundary_centroid()\n",
    "        print point.to_lat_lon()\n"
   ]
  },
  {
   "cell_type": "markdown",
   "metadata": {},
   "source": [
    "To access the individual vertices of polygons, you can use this code:"
   ]
  },
  {
   "cell_type": "code",
   "execution_count": 15,
   "metadata": {
    "collapsed": false
   },
   "outputs": [
    {
     "name": "stdout",
     "output_type": "stream",
     "text": [
      "Polygon vertices are:\n",
      "[(31.983469009399414, -64.52339935302734), (31.86470222473144, -64.643798828125), (31.87250328063965, -64.81924819946289), (31.88030433654785, -64.99469947814941), (31.888105392456055, -65.1701488494873), (31.89590263366699, -65.34560012817383), (32.06707191467286, -65.32503318786621), (32.238237380981445, -65.3044662475586), (32.40940284729004, -65.28389930725098), (32.521100997924805, -65.15929985046387), (32.632802963256836, -65.03469848632812), (32.7445011138916, -64.91009902954102), (32.85619926452637, -64.7854995727539), (32.80920219421387, -64.60643196105957), (32.762201309204094, -64.42736434936523), (32.715200424194336, -64.24829864501953), (32.55047035217285, -64.25973129272461), (32.3857364654541, -64.27116584777832), (32.22100257873536, -64.28260040283203), (32.10223579406738, -64.40299987792969), (31.983469009399414, -64.52339935302734)]\n",
      "Polygon vertices are:\n",
      "[(30.22346687316895, -79.63259887695312), (30.09639930725098, -79.7677993774414), (30.126550674438477, -79.90479850769043), (30.156702041625973, -80.04179954528809), (30.337625503540043, -80.04195022583008), (30.518552780151367, -80.04209899902344), (30.699476242065426, -80.04224967956543), (30.880399703979496, -80.04240036010742), (30.98063468933106, -79.90046691894531), (31.080869674682617, -79.7585334777832), (31.181100845336914, -79.6166000366211), (31.28133583068848, -79.47466659545898), (31.381570816040043, -79.33273315429689), (31.481801986694336, -79.19079971313477), (31.565904617309577, -79.01273536682129), (31.650003433227543, -78.83467102050781), (31.73410224914551, -78.65660858154298), (31.81820106506348, -78.47854423522949), (31.902303695678714, -78.30048179626465), (31.986402511596676, -78.12241744995117), (32.07050132751465, -77.9443531036377), (32.15460014343262, -77.76629066467285), (32.23870277404785, -77.58822631835938), (32.32280158996582, -77.4101619720459), (32.40690040588379, -77.23209953308105), (32.556833267211914, -77.11473846435547), (32.70676231384277, -76.99737930297852), (32.85669136047364, -76.88002014160156), (33.0066204071045, -76.76265907287598), (33.15655326843262, -76.64529991149902), (33.30648231506347, -76.52793884277344), (33.456411361694336, -76.41057968139648), (33.60634422302246, -76.29322052001953), (33.75627326965333, -76.17585945129395), (33.90620231628418, -76.05850028991699), (34.05855751037598, -75.96131134033203), (34.21091270446777, -75.86412239074707), (34.36326789855957, -75.76693344116211), (34.51562309265137, -75.66974449157715), (34.667978286743164, -75.57255554199219), (34.82033348083496, -75.47536659240723), (34.972688674926765, -75.37817764282227), (35.125043869018555, -75.2809886932373), (35.27739906311036, -75.18379974365234), (35.42267417907715, -75.14464950561523), (35.567949295043945, -75.10549926757812), (35.71322441101074, -75.06634902954102), (35.85849952697754, -75.0271987915039), (36.052927017211914, -75.04677391052246), (36.24735069274902, -75.06634902954102), (36.4417781829834, -75.08592414855957), (36.636201858520515, -75.10549926757812), (36.80581855773926, -75.05371475219727), (36.975435256958, -75.00193214416504), (37.14505195617676, -74.95014953613281), (37.31466865539551, -74.89836502075195), (37.48428535461426, -74.84658241271973), (37.65390205383301, -74.7947998046875), (37.799882888793945, -74.6707992553711), (37.94586372375488, -74.54679870605469), (38.09184455871582, -74.42280006408691), (38.23782157897949, -74.29879951477051), (38.38380241394043, -74.1747989654541), (38.529783248901374, -74.05080032348633), (38.675764083862305, -73.92679977416992), (38.82174491882324, -73.80279922485352), (38.967721939086914, -73.67879867553711), (39.11370277404785, -73.55480003356934), (39.139402389526374, -73.36839866638184), (39.16510200500489, -73.18199920654297), (39.1908016204834, -72.9955997467041), (39.05043601989746, -73.02513313293457), (38.91007041931152, -73.05466651916504), (38.76970100402832, -73.08419990539551), (38.62838935852051, -73.209228515625), (38.48707389831543, -73.33425712585449), (38.34575843811035, -73.45928573608398), (38.20444297790527, -73.58431434631348), (38.06313133239746, -73.70934295654297), (37.9218158721924, -73.83437156677246), (37.780500411987305, -73.95940017700195), (37.59391975402832, -74.02702522277832), (37.407339096069336, -74.09465026855469), (37.22075843811035, -74.16227531433105), (37.03417778015137, -74.22989845275879), (36.84759712219239, -74.29752349853516), (36.66101264953613, -74.36514854431152), (36.47443199157715, -74.43277359008789), (36.287851333618164, -74.50039863586426), (36.10127067565919, -74.56802368164062), (35.91469001770019, -74.63564872741699), (35.72810935974121, -74.70327377319336), (35.54152870178223, -74.77089881896973), (35.35494804382324, -74.8385238647461), (35.16836357116699, -74.90614891052246), (34.98178291320801, -74.97377395629883), (34.79520225524902, -75.0413990020752), (34.64793586730957, -75.12881469726562), (34.50066947937012, -75.21623229980469), (34.353403091430664, -75.30364799499512), (34.20613670349122, -75.39106559753418), (34.0588665008545, -75.47848129272461), (33.911600112915046, -75.56589889526367), (33.75566291809082, -75.68705177307129), (33.5997257232666, -75.80820655822754), (33.44378471374512, -75.92935943603516), (33.2878475189209, -76.0505142211914), (33.13191032409668, -76.17166709899902), (32.975969314575195, -76.29282188415529), (32.82003211975098, -76.41397666931152), (32.66409492492676, -76.53512954711914), (32.50815391540527, -76.65628433227539), (32.352216720581055, -76.77743721008301), (32.19627952575683, -76.89859199523926), (32.04034233093262, -77.01974487304688), (31.884401321411136, -77.14089965820312), (31.791166305542003, -77.30596351623535), (31.69793128967286, -77.47102737426758), (31.604692459106438, -77.63608932495117), (31.51145744323731, -77.8011531829834), (31.4182186126709, -77.96621704101564), (31.32498359680175, -78.13128089904785), (31.23174858093262, -78.29634475708008), (31.13850975036621, -78.4614086151123), (31.045274734497067, -78.62647247314453), (30.952039718627933, -78.79153633117676), (30.858800888061523, -78.95660018920898), (30.731733322143555, -79.09179878234863), (30.604669570922855, -79.22699928283691), (30.477602005004886, -79.3621997833252), (30.350534439086918, -79.49739837646484), (30.22346687316895, -79.63259887695312)]\n",
      "Polygon vertices are:\n",
      "[(38.92640320692555, -64.18976261757973), (38.520632931794296, -62.08237505963962), (39.17510111748976, -60.7734386882484), (37.656734926675995, -57.90686803490138), (35.287560094457774, -56.205250752092695), (34.13569608763333, -57.042970029783184), (35.496989913880206, -59.00637458687016), (36.531049647279524, -59.87027259198833), (37.8007179275291, -62.174000605637104), (38.92640320692555, -64.18976261757973)]\n"
     ]
    }
   ],
   "source": [
    "for feature in features:\n",
    "    if feature.get_reconstruction_plate_id() == 101:\n",
    "        polygon = feature.get_geometry()\n",
    "        points = polygon.get_points()\n",
    "        print 'Polygon vertices are:'\n",
    "        print points.to_lat_lon_list()"
   ]
  },
  {
   "cell_type": "markdown",
   "metadata": {
    "collapsed": true
   },
   "source": [
    "The following example shows how to reconstruct individual feature geometries using a rotation pole derived from a rotation file. This gives more fine-grained control on reconstructions than the basic 'pygplates.reconstruct' function, which is suitable for reconstructing all the features in a collection for a single reconstruction time. \n",
    "\n",
    "Here, we iterate over a series of feature geometries, determine a 'rotation' object based on the attributes of that polygon, and apply this rotation to the centroid point geometry using:\n",
    "\n",
    "             rotation * polygon.get_boundary_centroid()"
   ]
  },
  {
   "cell_type": "code",
   "execution_count": 17,
   "metadata": {
    "collapsed": false
   },
   "outputs": [
    {
     "name": "stdout",
     "output_type": "stream",
     "text": [
      "(rot = (pole = (lat: 34.104, lon: -54.5802) (which is antipodal to (lat: -34.104, lon: 125.42)); angle = -10.6035 deg))\n",
      "Centroid Location =  (-28.50417029230606, 3.494617659504184)\n",
      "Reconstructed Centroid Location =  (-35.56272441776961, -5.738561928124286)\n",
      "Centroid Location =  (-27.276294756047797, 3.6047190829327467)\n",
      "Reconstructed Centroid Location =  (-34.35216756965727, -5.461119312412153)\n",
      "Centroid Location =  (-33.751047439553076, 1.6697809256194587)\n",
      "Reconstructed Centroid Location =  (-40.59844461766543, -8.46819111807814)\n",
      "Centroid Location =  (-32.695875181514154, -0.1933082444225856)\n",
      "Reconstructed Centroid Location =  (-39.36151877211106, -10.31956596273306)\n",
      "Centroid Location =  (-31.964478946978502, 2.142512912499003)\n",
      "Reconstructed Centroid Location =  (-38.87121484022802, -7.681219651789854)\n",
      "Centroid Location =  (-31.169714187484765, -0.41068067254202967)\n",
      "Reconstructed Centroid Location =  (-37.82425345891745, -10.315473964508488)\n",
      "Centroid Location =  (-40.454691636264144, 25.86224220140024)\n",
      "Reconstructed Centroid Location =  (-48.98837991048867, 17.863921075202427)\n",
      "Centroid Location =  (-37.51662113025783, 26.592041203227122)\n",
      "Reconstructed Centroid Location =  (-46.08068477427876, 18.910900924372513)\n",
      "Centroid Location =  (-30.608113666959394, 35.650950223906115)\n",
      "Reconstructed Centroid Location =  (-39.37286138440851, 29.38224131894773)\n",
      "Centroid Location =  (-26.805838204968747, 13.081183295419072)\n",
      "Reconstructed Centroid Location =  (-34.665565412419234, 4.792544539284385)\n",
      "Centroid Location =  (-24.226297161690976, 5.997964974946339)\n",
      "Reconstructed Centroid Location =  (-31.534509106418717, -2.539661853611515)\n",
      "Centroid Location =  (-29.699973253285734, 2.6586463391433255)\n",
      "Reconstructed Centroid Location =  (-36.67161370507467, -6.799032381015486)\n",
      "Centroid Location =  (-50.835182255157754, 3.5797989257076948)\n",
      "Reconstructed Centroid Location =  (-57.710598215978884, -10.015897922161773)\n"
     ]
    }
   ],
   "source": [
    "# Load a rotation file\n",
    "input_rotation_filename = 'Data/Seton_etal_ESR2012_2012.1.rot'\n",
    "\n",
    "rotation_model=pygplates.RotationModel(input_rotation_filename)\n",
    "\n",
    "# Get finite rotation for plate 701 relative to spin axis at 52 Ma\n",
    "rotation = rotation_model.get_rotation(52.,701, 0., 1)\n",
    "print rotation\n",
    "\n",
    "# For each LIP polygon feature with plateid 701, get the centroid location and reconstruct it \n",
    "# based on the rotation pole we just got from the rotation file\n",
    "for feature in features:\n",
    "    if feature.get_reconstruction_plate_id() == 701:\n",
    "        polygon = feature.get_geometry()\n",
    "        reconstructed_point = rotation * polygon.get_boundary_centroid()\n",
    "        print 'Centroid Location = ',polygon.get_boundary_centroid().to_lat_lon()\n",
    "        print 'Reconstructed Centroid Location = ',reconstructed_point.to_lat_lon()\n",
    "        "
   ]
  },
  {
   "cell_type": "code",
   "execution_count": null,
   "metadata": {
    "collapsed": true
   },
   "outputs": [],
   "source": []
  }
 ],
 "metadata": {
  "kernelspec": {
   "display_name": "Python 2",
   "language": "python",
   "name": "python2"
  },
  "language_info": {
   "codemirror_mode": {
    "name": "ipython",
    "version": 2
   },
   "file_extension": ".py",
   "mimetype": "text/x-python",
   "name": "python",
   "nbconvert_exporter": "python",
   "pygments_lexer": "ipython2",
   "version": "2.7.6"
  }
 },
 "nbformat": 4,
 "nbformat_minor": 0
}
